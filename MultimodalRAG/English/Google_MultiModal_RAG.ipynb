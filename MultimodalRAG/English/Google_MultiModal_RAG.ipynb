{
  "cells": [
    {
      "cell_type": "markdown",
      "metadata": {},
      "source": [
        "### Define Google Cloud project information"
      ]
    },
    {
      "cell_type": "code",
      "execution_count": 1,
      "metadata": {},
      "outputs": [
        {
          "name": "stdout",
          "output_type": "stream",
          "text": [
            "✅ 憑證讀取成功！\n",
            "使用的憑證類型: Credentials\n",
            "憑證 Token: [目前為空，執行操作時會自動刷新]\n",
            "偵測到的專案 ID: gen-lang-client-0570552573\n"
          ]
        }
      ],
      "source": [
        "import google.auth\n",
        "\n",
        "try:\n",
        "    # google.auth.default() 會自動尋找環境中的憑證\n",
        "    # 這就是所謂的 Application Default Credentials (ADC)\n",
        "    credentials, project_id = google.auth.default()\n",
        "\n",
        "    print(\"✅ 憑證讀取成功！\")\n",
        "    print(f\"使用的憑證類型: {type(credentials).__name__}\")\n",
        "    \n",
        "    # UserCredentials 通常代表你透過 `gcloud auth application-default login` 登入的帳號\n",
        "    if hasattr(credentials, 'client_id'):\n",
        "        print(f\"用戶端 ID (Client ID): {credentials.client_id}\")\n",
        "\n",
        "    # 如果憑證有效，它應該會有一個 token\n",
        "    if credentials.token:\n",
        "        # 出於安全考量，我們只顯示 token 的一小部分或其存在性\n",
        "        print(\"憑證 Token: [存在]\")\n",
        "    else:\n",
        "        # 如果需要，可以手動刷新來獲取 token\n",
        "        # from google.auth.transport.requests import Request\n",
        "        # credentials.refresh(Request())\n",
        "        # print(\"憑證 Token: [刷新後存在]\")\n",
        "        print(\"憑證 Token: [目前為空，執行操作時會自動刷新]\")\n",
        "        \n",
        "\n",
        "    print(f\"偵測到的專案 ID: {project_id}\")\n",
        "    if project_id is None:\n",
        "        print(\"⚠️ 注意：未自動偵測到專案 ID。你可能需要在初始化服務時手動指定。\")\n",
        "        print(\"   (例如: vertexai.init(project='your-project-id', ...))\")\n",
        "\n",
        "except google.auth.exceptions.DefaultCredentialsError:\n",
        "    print(\"❌ 錯誤：找不到預設憑證 (Application Default Credentials)。\")\n",
        "    print(\"請在終端機中執行 `gcloud auth application-default login` 來登入。\")\n",
        "except Exception as e:\n",
        "    print(f\"發生了未預期的錯誤: {e}\")"
      ]
    },
    {
      "cell_type": "code",
      "execution_count": 2,
      "metadata": {},
      "outputs": [
        {
          "name": "stdout",
          "output_type": "stream",
          "text": [
            "✅ 偵測到 GOOGLE_APPLICATION_CREDENTIALS 環境變數。\n",
            "   金鑰檔案路徑: C:\\Users\\ZieWeiXie\\Desktop\\1132\\Financial Management\\Final\\English\\gen-lang-client-0570552573-ed41756955d5.json\n",
            "---\n",
            "身份判定：服務帳戶 (Service Account)\n",
            "服務帳戶 Email: multirag@gen-lang-client-0570552573.iam.gserviceaccount.com\n",
            "金鑰檔案內建的專案 ID: gen-lang-client-0570552573\n"
          ]
        }
      ],
      "source": [
        "import os\n",
        "import google.auth\n",
        "\n",
        "try:\n",
        "    # 檢查 GOOGLE_APPLICATION_CREDENTIALS 環境變數是否被設定\n",
        "    sa_key_path = os.environ.get('GOOGLE_APPLICATION_CREDENTIALS')\n",
        "\n",
        "    if sa_key_path:\n",
        "        print(\"✅ 偵測到 GOOGLE_APPLICATION_CREDENTIALS 環境變數。\")\n",
        "        print(f\"   金鑰檔案路徑: {sa_key_path}\")\n",
        "        print(\"---\")\n",
        "        print(\"身份判定：服務帳戶 (Service Account)\")\n",
        "        \n",
        "        # 從金鑰檔案載入憑證並顯示服務帳戶信箱\n",
        "        credentials, project_id = google.auth.load_credentials_from_file(sa_key_path)\n",
        "        if hasattr(credentials, 'service_account_email'):\n",
        "            print(f\"服務帳戶 Email: {credentials.service_account_email}\")\n",
        "        print(f\"金鑰檔案內建的專案 ID: {project_id}\")\n",
        "\n",
        "    else:\n",
        "        print(\"ℹ️ 未偵測到 GOOGLE_APPLICATION_CREDENTIALS 環境變數。\")\n",
        "        print(\"   系統將嘗試使用 gcloud 使用者憑證。\")\n",
        "        print(\"---\")\n",
        "        print(\"身份判定：個人使用者帳戶 (User Account)\")\n",
        "        \n",
        "        # 尋找預設的使用者憑證\n",
        "        credentials, project_id = google.auth.default()\n",
        "        # 'authorized_user' 類型的憑證通常代表個人帳戶\n",
        "        if credentials.token:\n",
        "             # 在 gcloud auth application-default print-access-token 的輸出中可以找到email\n",
        "             # 但 credentials 物件本身不直接暴露 email，我們可以檢查 quota_project_id\n",
        "             if hasattr(credentials, 'quota_project_id'):\n",
        "                  print(f\"憑證關聯的 Quota Project ID: {credentials.quota_project_id}\")\n",
        "             print(\"此憑證來自 'gcloud auth application-default login'。\")\n",
        "\n",
        "\n",
        "except google.auth.exceptions.DefaultCredentialsError:\n",
        "    print(\"❌ 錯誤：找不到任何有效的憑證。\")\n",
        "    print(\"請執行 'gcloud auth application-default login' 或設定 'GOOGLE_APPLICATION_CREDENTIALS'。\")\n",
        "except Exception as e:\n",
        "    print(f\"發生了未預期的錯誤: {e}\")"
      ]
    },
    {
      "cell_type": "code",
      "execution_count": 3,
      "metadata": {},
      "outputs": [
        {
          "name": "stdout",
          "output_type": "stream",
          "text": [
            "--- Python Kernel's PATH ---\n",
            "c:\\Users\\ZieWeiXie\\anaconda3\\envs\\MultiRAG\n",
            "C:\\Users\\ZieWeiXie\\anaconda3\\envs\\MultiRAG\n",
            "C:\\Users\\ZieWeiXie\\anaconda3\\envs\\MultiRAG\\Library\\mingw-w64\\bin\n",
            "C:\\Users\\ZieWeiXie\\anaconda3\\envs\\MultiRAG\\Library\\usr\\bin\n",
            "C:\\Users\\ZieWeiXie\\anaconda3\\envs\\MultiRAG\\Library\\bin\n",
            "C:\\Users\\ZieWeiXie\\anaconda3\\envs\\MultiRAG\\Scripts\n",
            "C:\\Users\\ZieWeiXie\\anaconda3\\envs\\MultiRAG\\bin\n",
            "C:\\Users\\ZieWeiXie\\anaconda3\\condabin\n",
            "C:\\Users\\ZieWeiXie\\AppData\\Local\\Programs\\Python\\Python311\n",
            "C:\\Users\\ZieWeiXie\\AppData\\Local\\Programs\\Python\\Python311\\Scripts\n",
            "C:\\Users\\ZieWeiXie\\AppData\\Local\\Programs\\Python\\Python36\n",
            "C:\\Users\\ZieWeiXie\\AppData\\Local\\Programs\\Python\\Python36\\Scripts\n",
            "C:\\Program Files\\NVIDIA GPU Computing Toolkit\\CUDA\\v8.0\\bin\n",
            "C:\\Program Files\\NVIDIA GPU Computing Toolkit\\CUDA\\v8.0\\libnvvp\n",
            "C:\\Program Files\\Common Files\\Oracle\\Java\\javapath\n",
            "C:\\Windows\\system32\n",
            "C:\\Windows\n",
            "C:\\Windows\\System32\\Wbem\n",
            "C:\\Windows\\System32\\WindowsPowerShell\\v1.0\n",
            "C:\\Windows\\System32\\OpenSSH\n",
            "C:\\Program Files (x86)\\NVIDIA Corporation\\PhysX\\Common\n",
            "C:\\Program Files\\NVIDIA Corporation\\NVIDIA NvDLISR\n",
            "C:\\WINDOWS\\system32\n",
            "C:\\WINDOWS\n",
            "C:\\WINDOWS\\System32\\Wbem\n",
            "C:\\WINDOWS\\System32\\WindowsPowerShell\\v1.0\n",
            "C:\\WINDOWS\\System32\\OpenSSH\n",
            "C:\\Program Files\\Docker\\Docker\\resources\\bin\n",
            "C:\\Program Files\\OpenSSL-Win64\\bin\n",
            "C:\\Program Files\\Git\\cmd\n",
            "C:\\Program Files\\dotnet\n",
            "C:\\Program Files\\WinRAR\n",
            "C:\\Program Files\\Java\\jdk-17\\bin\n",
            "C:\\Program Files (x86)\\Bluetooth Command Line Tools\\bin\n",
            "C:\\Program Files (x86)\\Google\\Cloud SDK\\google-cloud-sdk\\bin\n",
            "C:\\Program Files\\MySQL\\MySQL Server 8.0\\bin\n",
            "C:\\Program Files (x86)\\Pulse Secure\\VC142.CRT\\X64\n",
            "C:\\Program Files (x86)\\Pulse Secure\\VC142.CRT\\X86\n",
            "C:\\Program Files (x86)\\Common Files\\Pulse Secure\\TNC Client Plugin\n",
            "C:\\Users\\ZieWeiXie\\Downloads\\cudnn-8.0-windows10-x64-v6.0\\cuda\\bin\n",
            "C:\\Users\\ZieWeiXie\\Downloads\\cudnn-8.0-windows10-x64-v6.0\\cuda\\include\n",
            "C:\\Users\\ZieWeiXie\\Downloads\\cudnn-8.0-windows10-x64-v6.0\\cuda\\lib\n",
            "C:\\Users\\ZieWeiXie\\Downloads\\cloudsql\n",
            "C:\\Users\\ZieWeiXie\\AppData\\Roaming\\nvm\n",
            "C:\\Program Files\\nodejs\n",
            "C:\\Users\\ZieWeiXie\\Downloads\\php-8.4.7-Win32-vs17-x64\n",
            "C:\\Program Files (x86)\\Google\\Cloud SDK\\google-cloud-sdk\\bin\n",
            "C:\\Users\\ZieWeiXie\\AppData\\Local\\Microsoft\\WindowsApps\n",
            "C:\\Users\\ZieWeiXie\\AppData\\Local\\Programs\\Microsoft VS Code\\bin\n",
            "C:\\Users\\ZieWeiXie\\AppData\\Local\\GitHubDesktop\\bin\n",
            ".\n",
            "\n",
            "--- Checking for 'gcloud' command ---\n",
            "✅ 'gcloud' 指令已找到，路徑為: C:\\Program Files (x86)\\Google\\Cloud SDK\\google-cloud-sdk\\bin\\gcloud.CMD\n"
          ]
        }
      ],
      "source": [
        "import os\n",
        "import shutil\n",
        "\n",
        "# --- 步驟 1: 打印出 Python Kernel 所能看到的 PATH 環境變數 ---\n",
        "print(\"--- Python Kernel's PATH ---\")\n",
        "path_var = os.environ.get('PATH', '')\n",
        "for p in path_var.split(os.pathsep):\n",
        "    print(p)\n",
        "\n",
        "# --- 步驟 2: 使用 Python 的方式直接檢查 'gcloud' 指令是否存在 ---\n",
        "print(\"\\n--- Checking for 'gcloud' command ---\")\n",
        "gcloud_path = shutil.which('gcloud')\n",
        "\n",
        "if gcloud_path:\n",
        "    print(f\"✅ 'gcloud' 指令已找到，路徑為: {gcloud_path}\")\n",
        "else:\n",
        "    print(\"❌ 錯誤: Python Kernel 的 PATH 中找不到 'gcloud' 指令。\")"
      ]
    },
    {
      "cell_type": "markdown",
      "metadata": {
        "id": "O1vKZZoEh2rL"
      },
      "source": [
        "### Define Google Cloud project information\n"
      ]
    },
    {
      "cell_type": "code",
      "execution_count": 4,
      "metadata": {
        "colab": {
          "base_uri": "https://localhost:8080/"
        },
        "id": "gJqZ76rJh2rM",
        "outputId": "c7648628-a72f-467b-bca4-b7fb003885fe",
        "tags": []
      },
      "outputs": [
        {
          "name": "stdout",
          "output_type": "stream",
          "text": [
            "Your project ID is: gen-lang-client-0570552573\n"
          ]
        }
      ],
      "source": [
        "# Define project information\n",
        "\n",
        "import sys\n",
        "\n",
        "PROJECT_ID = \"gen-lang-client-0570552573\"  # @param {type:\"string\"}\n",
        "LOCATION = \"us-central1\"  # @param {type:\"string\"}\n",
        "\n",
        "# if not running on colab, try to get the PROJECT_ID automatically\n",
        "# GCLOUD_PATH = r\"C:\\Program Files (x86)\\Google\\Cloud SDK\\google-cloud-sdk\\bin\\gcloud.CMD\"\n",
        "# if \"google.colab\" not in sys.modules:\n",
        "#     import subprocess\n",
        "\n",
        "#     PROJECT_ID = subprocess.check_output(\n",
        "#         [GCLOUD_PATH, \"config\", \"get-value\", \"project\"],\n",
        "#     ).strip()\n",
        "\n",
        "print(f\"Your project ID is: {PROJECT_ID}\")"
      ]
    },
    {
      "cell_type": "code",
      "execution_count": 5,
      "metadata": {
        "id": "D48gUW5-h2rM",
        "tags": []
      },
      "outputs": [],
      "source": [
        "import sys\n",
        "\n",
        "# Initialize Vertex AI\n",
        "import vertexai\n",
        "\n",
        "vertexai.init(project=PROJECT_ID, location=LOCATION)"
      ]
    },
    {
      "cell_type": "markdown",
      "metadata": {
        "id": "BuQwwRiniVFG"
      },
      "source": [
        "### Import libraries\n"
      ]
    },
    {
      "cell_type": "code",
      "execution_count": 6,
      "metadata": {
        "id": "rtMowvm-yQ97",
        "tags": []
      },
      "outputs": [],
      "source": [
        "from rich import print as rich_print\n",
        "from rich.markdown import Markdown as rich_Markdown\n",
        "from IPython.display import Markdown, display\n",
        "from vertexai.generative_models import (\n",
        "    Content,\n",
        "    GenerationConfig,\n",
        "    GenerationResponse,\n",
        "    GenerativeModel,\n",
        "    HarmCategory,\n",
        "    HarmBlockThreshold,\n",
        "    Image,\n",
        "    Part,\n",
        ")\n",
        "from vertexai.language_models import TextEmbeddingModel\n",
        "from vertexai.vision_models import MultiModalEmbeddingModel"
      ]
    },
    {
      "cell_type": "code",
      "execution_count": 7,
      "metadata": {
        "id": "SvMwSRJJh2rM",
        "tags": []
      },
      "outputs": [],
      "source": [
        "# Multimodal models: Choose based on your performance/cost needs\n",
        "\n",
        "multimodal_model_2_0_flash = GenerativeModel(\n",
        "    \"gemini-2.0-flash-001\"\n",
        ") # Gemini latest Gemini 2.0 Flash Model\n",
        "\n",
        "multimodal_model_15 = GenerativeModel(\n",
        "    \"gemini-2.0-flash-001\"\n",
        ")  # works with text, code, images, video(with or without audio) and audio(mp3) with 1M input context - complex reasoning\n",
        "\n",
        "# Multimodal models: Choose based on your performance/cost needs\n",
        "multimodal_model_15_flash = GenerativeModel(\n",
        "    \"gemini-2.0-flash-001\"\n",
        ")  # works with text, code, images, video(with or without audio) and audio(mp3) with 1M input context - faster inference\n",
        "\n",
        "# Load text embedding model from pre-trained source\n",
        "text_embedding_model = TextEmbeddingModel.from_pretrained(\"text-embedding-005\")\n",
        "\n",
        "# Load multimodal embedding model from pre-trained source\n",
        "multimodal_embedding_model = MultiModalEmbeddingModel.from_pretrained(\n",
        "    \"multimodalembedding@001\"\n",
        ")  # works with image, image with caption(~32 words), video, video with caption(~32 words)"
      ]
    },
    {
      "cell_type": "markdown",
      "metadata": {
        "id": "g7bKCQMFT7JT"
      },
      "source": [
        "#### Get documents and images from GCS"
      ]
    },
    {
      "cell_type": "code",
      "execution_count": 8,
      "metadata": {
        "colab": {
          "base_uri": "https://localhost:8080/"
        },
        "id": "KwbL89zcY39N",
        "outputId": "c918f449-e9b6-4cbe-c70e-6fd5ef4c5ddc",
        "tags": []
      },
      "outputs": [],
      "source": [
        "# # download documents and images used in this notebook - will take ~30 sec\n",
        "# !gsutil -m -q rsync -r gs://github-repo/rag/intro_multimodal_rag/intro_multimodal_rag_v2 .\n",
        "# print(\"Download completed\")"
      ]
    },
    {
      "cell_type": "markdown",
      "metadata": {
        "id": "Ps1G-cCfpibN"
      },
      "source": [
        "## Building metadata of documents containing text and images"
      ]
    },
    {
      "cell_type": "markdown",
      "metadata": {
        "id": "zvt0sus5KSNX"
      },
      "source": [
        "### Import helper functions to build metadata\n",
        "\n",
        "Before building the Multimodal Question Answering System with Vertex AI, it's important to have metadata of all the text and images in the document. For references and citations purposes, the metadata should contain essential elements, including page number, file name, image counter, and so on. Hence, as a next step, you will generate embeddings from the metadata, which is required to perform similarity search when querying the data."
      ]
    },
    {
      "cell_type": "code",
      "execution_count": 9,
      "metadata": {
        "id": "tStqXX32RNYK",
        "tags": []
      },
      "outputs": [],
      "source": [
        "from multimodal_qa_with_rag_utils import (\n",
        "    get_document_metadata,\n",
        "    set_global_variable,\n",
        ")\n",
        "\n",
        "set_global_variable(\"text_embedding_model\", text_embedding_model)\n",
        "set_global_variable(\"multimodal_embedding_model\", multimodal_embedding_model)"
      ]
    },
    {
      "cell_type": "markdown",
      "metadata": {
        "id": "x8h0XSG_7e5M"
      },
      "source": [
        "**NOTE: Given that we are loading 4 files with roughly 200 pages and approximately 84 images, the cell below will take approximately 7 minutes to run. We recommend loading pre-computed metadata instead.**"
      ]
    },
    {
      "cell_type": "code",
      "execution_count": 10,
      "metadata": {
        "colab": {
          "base_uri": "https://localhost:8080/"
        },
        "id": "X8hE0tWD-lf8",
        "outputId": "86a01c45-d8eb-4911-8ba4-9fb0dcf89278",
        "tags": []
      },
      "outputs": [
        {
          "name": "stdout",
          "output_type": "stream",
          "text": [
            "Removing pre-exsisting images folder, since you are running the logic from scratch\n",
            "\n",
            "\n",
            " Processing the file: --------------------------------- data\\intel.pdf \n",
            "\n",
            "\n",
            "Processing page: 1\n"
          ]
        },
        {
          "name": "stderr",
          "output_type": "stream",
          "text": [
            "'rm' ���O�����Υ~���R�O�B�i���檺�{���Χ妸�ɡC\n"
          ]
        },
        {
          "name": "stdout",
          "output_type": "stream",
          "text": [
            "Extracting image from page: 1, saved as: images\\intel.pdf_image_0_0_21.png\n",
            "Processing page: 2\n",
            "Extracting image from page: 2, saved as: images\\intel.pdf_image_1_0_24.png\n",
            "Extracting image from page: 2, saved as: images\\intel.pdf_image_1_1_25.png\n",
            "Processing page: 3\n",
            "Extracting image from page: 3, saved as: images\\intel.pdf_image_2_0_28.png\n",
            "Processing page: 4\n",
            "Extracting image from page: 4, saved as: images\\intel.pdf_image_3_0_31.png\n",
            "\n",
            " \n",
            " Sleeping for  5  sec before processing the next document to avoid quota issues. You can disable it: \"add_sleep_after_document = False\"  \n",
            "\n",
            "\n",
            " --- Completed processing. ---\n",
            "CPU times: total: 359 ms\n",
            "Wall time: 48.6 s\n"
          ]
        }
      ],
      "source": [
        "%%time\n",
        "# Specify the PDF folder with multiple PDF ~7m\n",
        "\n",
        "print(\"Removing pre-exsisting images folder, since you are running the logic from scratch\")\n",
        "! rm -rf images/\n",
        "\n",
        "pdf_folder_path = \"data/\"  # if running in Vertex AI Workbench.\n",
        "\n",
        "# Specify the image description prompt. Change it\n",
        "# image_description_prompt = \"\"\"Explain what is going on in the image.\n",
        "# If it's a table, extract all elements of the table.\n",
        "# If it's a graph, explain the findings in the graph.\n",
        "# Do not include any numbers that are not mentioned in the image.\n",
        "# \"\"\"\n",
        "\n",
        "image_description_prompt = \"\"\"You are a technical image analysis expert. You will be provided with various types of images extracted from documents like research papers, technical blogs, and more.\n",
        "Your task is to generate concise, accurate descriptions of the images without adding any information you are not confident about.\n",
        "Focus on capturing the key details, trends, or relationships depicted in the image.\n",
        "\n",
        "Important Guidelines:\n",
        "* Prioritize accuracy:  If you are uncertain about any detail, state \"Unknown\" or \"Not visible\" instead of guessing.\n",
        "* Avoid hallucinations: Do not add information that is not directly supported by the image.\n",
        "* Be specific: Use precise language to describe shapes, colors, textures, and any interactions depicted.\n",
        "* Consider context: If the image is a screenshot or contains text, incorporate that information into your description.\n",
        "\"\"\"\n",
        "\n",
        "\n",
        "# Extract text and image metadata from the PDF document\n",
        "text_metadata_df, image_metadata_df = get_document_metadata(\n",
        "    multimodal_model_2_0_flash,  # we are passing gemini 2.0 Flash Model\n",
        "    pdf_folder_path,\n",
        "    image_save_dir=\"images\",\n",
        "    image_description_prompt=image_description_prompt,\n",
        "    embedding_size=1408,\n",
        "    # add_sleep_after_page = True, # Uncomment this if you are running into API quota issues\n",
        "    # sleep_time_after_page = 5,\n",
        "    add_sleep_after_document=True,  # Uncomment this if you are running into API quota issues\n",
        "    sleep_time_after_document=5,    # Increase the value in seconds, if you are still getting quota issues. It will slow down the processing.\n",
        "    # generation_config = # see next cell\n",
        "    # safety_settings =  # see next cell\n",
        ")\n",
        "\n",
        "print(\"\\n\\n --- Completed processing. ---\")\n"
      ]
    },
    {
      "cell_type": "markdown",
      "metadata": {
        "id": "sWtOx1wb86Az"
      },
      "source": [
        "If you would like to pass additional parameters to Gemini while building metadata, here are some options:"
      ]
    },
    {
      "cell_type": "code",
      "execution_count": 11,
      "metadata": {
        "id": "QlNK0o2DRNYK",
        "tags": []
      },
      "outputs": [],
      "source": [
        "# # Parameters for Gemini API call.\n",
        "# # reference for parameters: https://cloud.google.com/vertex-ai/docs/generative-ai/model-reference/gemini\n",
        "\n",
        "# generation_config=  GenerationConfig(temperature=0.2, max_output_tokens=2048)\n",
        "\n",
        "# # Set the safety settings if Gemini is blocking your content or you are facing \"ValueError(\"Content has no parts\")\" error or \"Exception occured\" in your data.\n",
        "# # ref for settings and thresholds: https://cloud.google.com/vertex-ai/docs/generative-ai/multimodal/configure-safety-attributes\n",
        "\n",
        "# safety_settings = {\n",
        "#                   HarmCategory.HARM_CATEGORY_HARASSMENT: HarmBlockThreshold.BLOCK_NONE,\n",
        "#                   HarmCategory.HARM_CATEGORY_HATE_SPEECH: HarmBlockThreshold.BLOCK_NONE,\n",
        "#                   HarmCategory.HARM_CATEGORY_SEXUALLY_EXPLICIT: HarmBlockThreshold.BLOCK_NONE,\n",
        "#                   HarmCategory.HARM_CATEGORY_DANGEROUS_CONTENT: HarmBlockThreshold.BLOCK_NONE,\n",
        "#                   }\n",
        "\n",
        "# # You can also pass parameters and safety_setting to \"get_gemini_response\" function"
      ]
    },
    {
      "cell_type": "markdown",
      "metadata": {
        "id": "tW3Ci1IL8wSW"
      },
      "source": [
        "### Load pre-computed metadata of text and images from source document"
      ]
    },
    {
      "cell_type": "markdown",
      "metadata": {
        "id": "c10dCy6Cig3H"
      },
      "source": [
        "**If you are facing constant issues with Quota or want to focus on the outputs, you should load pre-computed metadata.**"
      ]
    },
    {
      "cell_type": "code",
      "execution_count": 12,
      "metadata": {
        "id": "w1AGYOYb0In7",
        "tags": []
      },
      "outputs": [],
      "source": [
        "# # [Optional]\n",
        "# import pickle\n",
        "\n",
        "# # Load the pickle file\n",
        "# with open(\"mrag_metadata.pkl\", \"rb\") as f:\n",
        "#     data = pickle.load(f)\n",
        "\n",
        "# # Extract the DataFrames\n",
        "# text_metadata_df = data[\"text_metadata\"]\n",
        "# image_metadata_df = data[\"image_metadata\"]"
      ]
    },
    {
      "cell_type": "markdown",
      "metadata": {
        "id": "miBBoEXwh2rN"
      },
      "source": [
        "#### Inspect the processed text metadata\n",
        "\n",
        "\n",
        "The following cell will produce a metadata table which describes the different parts of text metadata, including:\n",
        "\n",
        "- **text**: the original text from the page\n",
        "- **text_embedding_page**: the embedding of the original text from the page\n",
        "- **chunk_text**: the original text divided into smaller chunks\n",
        "- **chunk_number**: the index of each text chunk\n",
        "- **text_embedding_chunk**: the embedding of each text chunk"
      ]
    },
    {
      "cell_type": "code",
      "execution_count": 13,
      "metadata": {
        "colab": {
          "base_uri": "https://localhost:8080/",
          "height": 293
        },
        "id": "6t3AIGFar8Mo",
        "outputId": "0a3eb7ac-5eed-4767-9c97-86d0f10d45dc",
        "tags": []
      },
      "outputs": [
        {
          "data": {
            "text/html": [
              "<div>\n",
              "<style scoped>\n",
              "    .dataframe tbody tr th:only-of-type {\n",
              "        vertical-align: middle;\n",
              "    }\n",
              "\n",
              "    .dataframe tbody tr th {\n",
              "        vertical-align: top;\n",
              "    }\n",
              "\n",
              "    .dataframe thead th {\n",
              "        text-align: right;\n",
              "    }\n",
              "</style>\n",
              "<table border=\"1\" class=\"dataframe\">\n",
              "  <thead>\n",
              "    <tr style=\"text-align: right;\">\n",
              "      <th></th>\n",
              "      <th>file_name</th>\n",
              "      <th>page_num</th>\n",
              "      <th>text</th>\n",
              "      <th>text_embedding_page</th>\n",
              "      <th>chunk_number</th>\n",
              "      <th>chunk_text</th>\n",
              "      <th>text_embedding_chunk</th>\n",
              "    </tr>\n",
              "  </thead>\n",
              "  <tbody>\n",
              "    <tr>\n",
              "      <th>0</th>\n",
              "      <td>data\\intel.pdf</td>\n",
              "      <td>1</td>\n",
              "      <td>Operating Expenses \\nOperating Expenses Total ...</td>\n",
              "      <td>[-0.037518732249736786, -0.04107023403048515, ...</td>\n",
              "      <td>1</td>\n",
              "      <td>Operating Expenses \\nOperating Expenses Total ...</td>\n",
              "      <td>[-0.038045983761548996, -0.045655425637960434,...</td>\n",
              "    </tr>\n",
              "    <tr>\n",
              "      <th>1</th>\n",
              "      <td>data\\intel.pdf</td>\n",
              "      <td>1</td>\n",
              "      <td>Operating Expenses \\nOperating Expenses Total ...</td>\n",
              "      <td>[-0.037518732249736786, -0.04107023403048515, ...</td>\n",
              "      <td>2</td>\n",
              "      <td>marily driven by investments in our process te...</td>\n",
              "      <td>[-0.010080032050609589, -0.05168142914772034, ...</td>\n",
              "    </tr>\n",
              "    <tr>\n",
              "      <th>2</th>\n",
              "      <td>data\\intel.pdf</td>\n",
              "      <td>1</td>\n",
              "      <td>Operating Expenses \\nOperating Expenses Total ...</td>\n",
              "      <td>[-0.037518732249736786, -0.04107023403048515, ...</td>\n",
              "      <td>3</td>\n",
              "      <td>time-to-time, engage in mergers and acquisitio...</td>\n",
              "      <td>[-0.029878836125135422, -0.04047561436891556, ...</td>\n",
              "    </tr>\n",
              "    <tr>\n",
              "      <th>3</th>\n",
              "      <td>data\\intel.pdf</td>\n",
              "      <td>2</td>\n",
              "      <td>\\nReturn Excess Cash to Stockholders  \\nOur c...</td>\n",
              "      <td>[-0.023356521502137184, -0.027727562934160233,...</td>\n",
              "      <td>1</td>\n",
              "      <td>\\nReturn Excess Cash to Stockholders  \\nOur c...</td>\n",
              "      <td>[-0.023250870406627655, -0.024463549256324768,...</td>\n",
              "    </tr>\n",
              "    <tr>\n",
              "      <th>4</th>\n",
              "      <td>data\\intel.pdf</td>\n",
              "      <td>2</td>\n",
              "      <td>\\nReturn Excess Cash to Stockholders  \\nOur c...</td>\n",
              "      <td>[-0.023356521502137184, -0.027727562934160233,...</td>\n",
              "      <td>2</td>\n",
              "      <td>x, the S&amp;P 500 Index, the S&amp;P 500 IT Index, an...</td>\n",
              "      <td>[-0.025652848184108734, 0.017395608127117157, ...</td>\n",
              "    </tr>\n",
              "  </tbody>\n",
              "</table>\n",
              "</div>"
            ],
            "text/plain": [
              "        file_name  page_num  \\\n",
              "0  data\\intel.pdf         1   \n",
              "1  data\\intel.pdf         1   \n",
              "2  data\\intel.pdf         1   \n",
              "3  data\\intel.pdf         2   \n",
              "4  data\\intel.pdf         2   \n",
              "\n",
              "                                                text  \\\n",
              "0  Operating Expenses \\nOperating Expenses Total ...   \n",
              "1  Operating Expenses \\nOperating Expenses Total ...   \n",
              "2  Operating Expenses \\nOperating Expenses Total ...   \n",
              "3   \\nReturn Excess Cash to Stockholders  \\nOur c...   \n",
              "4   \\nReturn Excess Cash to Stockholders  \\nOur c...   \n",
              "\n",
              "                                 text_embedding_page  chunk_number  \\\n",
              "0  [-0.037518732249736786, -0.04107023403048515, ...             1   \n",
              "1  [-0.037518732249736786, -0.04107023403048515, ...             2   \n",
              "2  [-0.037518732249736786, -0.04107023403048515, ...             3   \n",
              "3  [-0.023356521502137184, -0.027727562934160233,...             1   \n",
              "4  [-0.023356521502137184, -0.027727562934160233,...             2   \n",
              "\n",
              "                                          chunk_text  \\\n",
              "0  Operating Expenses \\nOperating Expenses Total ...   \n",
              "1  marily driven by investments in our process te...   \n",
              "2  time-to-time, engage in mergers and acquisitio...   \n",
              "3   \\nReturn Excess Cash to Stockholders  \\nOur c...   \n",
              "4  x, the S&P 500 Index, the S&P 500 IT Index, an...   \n",
              "\n",
              "                                text_embedding_chunk  \n",
              "0  [-0.038045983761548996, -0.045655425637960434,...  \n",
              "1  [-0.010080032050609589, -0.05168142914772034, ...  \n",
              "2  [-0.029878836125135422, -0.04047561436891556, ...  \n",
              "3  [-0.023250870406627655, -0.024463549256324768,...  \n",
              "4  [-0.025652848184108734, 0.017395608127117157, ...  "
            ]
          },
          "execution_count": 13,
          "metadata": {},
          "output_type": "execute_result"
        }
      ],
      "source": [
        "text_metadata_df.head()"
      ]
    },
    {
      "cell_type": "markdown",
      "metadata": {
        "id": "NjIQYI3mh2rO"
      },
      "source": [
        "#### Inspect the processed image metadata\n",
        "\n",
        "The following cell will produce a metadata table which describes the different parts of image metadata, including:\n",
        "* **img_desc**: Gemini-generated textual description of the image.\n",
        "* **mm_embedding_from_text_desc_and_img**: Combined embedding of image and its description, capturing both visual and textual information.\n",
        "* **mm_embedding_from_img_only**: Image embedding without description, for comparison with description-based analysis.\n",
        "* **text_embedding_from_image_description**: Separate text embedding of the generated description, enabling textual analysis and comparison."
      ]
    },
    {
      "cell_type": "code",
      "execution_count": 14,
      "metadata": {
        "colab": {
          "base_uri": "https://localhost:8080/",
          "height": 293
        },
        "id": "tkHtAYIK-y-q",
        "outputId": "225c6236-7736-43e4-b3cb-80ac1ac6d3a4",
        "tags": []
      },
      "outputs": [
        {
          "data": {
            "text/html": [
              "<div>\n",
              "<style scoped>\n",
              "    .dataframe tbody tr th:only-of-type {\n",
              "        vertical-align: middle;\n",
              "    }\n",
              "\n",
              "    .dataframe tbody tr th {\n",
              "        vertical-align: top;\n",
              "    }\n",
              "\n",
              "    .dataframe thead th {\n",
              "        text-align: right;\n",
              "    }\n",
              "</style>\n",
              "<table border=\"1\" class=\"dataframe\">\n",
              "  <thead>\n",
              "    <tr style=\"text-align: right;\">\n",
              "      <th></th>\n",
              "      <th>file_name</th>\n",
              "      <th>page_num</th>\n",
              "      <th>img_num</th>\n",
              "      <th>img_path</th>\n",
              "      <th>img_desc</th>\n",
              "      <th>mm_embedding_from_img_only</th>\n",
              "      <th>text_embedding_from_image_description</th>\n",
              "    </tr>\n",
              "  </thead>\n",
              "  <tbody>\n",
              "    <tr>\n",
              "      <th>0</th>\n",
              "      <td>data\\intel.pdf</td>\n",
              "      <td>1</td>\n",
              "      <td>1</td>\n",
              "      <td>images\\intel.pdf_image_0_0_21.png</td>\n",
              "      <td>The image shows two bar graphs comparing expen...</td>\n",
              "      <td>[-0.00379384635, 0.0275382921, 0.012781281, -0...</td>\n",
              "      <td>[-0.04222716763615608, -0.01114147249609232, 0...</td>\n",
              "    </tr>\n",
              "    <tr>\n",
              "      <th>1</th>\n",
              "      <td>data\\intel.pdf</td>\n",
              "      <td>2</td>\n",
              "      <td>1</td>\n",
              "      <td>images\\intel.pdf_image_1_0_24.png</td>\n",
              "      <td>Here is a description of the image:\\n\\nThe ima...</td>\n",
              "      <td>[-0.00261490652, 0.00803151727, -0.0175046083,...</td>\n",
              "      <td>[-0.0311519093811512, -0.027998661622405052, -...</td>\n",
              "    </tr>\n",
              "    <tr>\n",
              "      <th>2</th>\n",
              "      <td>data\\intel.pdf</td>\n",
              "      <td>2</td>\n",
              "      <td>2</td>\n",
              "      <td>images\\intel.pdf_image_1_1_25.png</td>\n",
              "      <td>Here are the bounding box detections:\\n```json...</td>\n",
              "      <td>[0.00753548834, 0.0195218138, -0.0373608284, 0...</td>\n",
              "      <td>[-0.012763133272528648, -0.010560288093984127,...</td>\n",
              "    </tr>\n",
              "    <tr>\n",
              "      <th>3</th>\n",
              "      <td>data\\intel.pdf</td>\n",
              "      <td>3</td>\n",
              "      <td>1</td>\n",
              "      <td>images\\intel.pdf_image_2_0_28.png</td>\n",
              "      <td>The image is a line graph titled \"Comparison o...</td>\n",
              "      <td>[0.0168273449, 0.0246418063, -0.0147422217, 0....</td>\n",
              "      <td>[-0.01851482316851616, 0.024407247081398964, 0...</td>\n",
              "    </tr>\n",
              "    <tr>\n",
              "      <th>4</th>\n",
              "      <td>data\\intel.pdf</td>\n",
              "      <td>4</td>\n",
              "      <td>1</td>\n",
              "      <td>images\\intel.pdf_image_3_0_31.png</td>\n",
              "      <td>The image shows a table of financial data, spe...</td>\n",
              "      <td>[0.0309953205, 0.00850136764, -0.0345904976, -...</td>\n",
              "      <td>[-0.0035932075697928667, -0.023271726444363594...</td>\n",
              "    </tr>\n",
              "  </tbody>\n",
              "</table>\n",
              "</div>"
            ],
            "text/plain": [
              "        file_name  page_num  img_num                           img_path  \\\n",
              "0  data\\intel.pdf         1        1  images\\intel.pdf_image_0_0_21.png   \n",
              "1  data\\intel.pdf         2        1  images\\intel.pdf_image_1_0_24.png   \n",
              "2  data\\intel.pdf         2        2  images\\intel.pdf_image_1_1_25.png   \n",
              "3  data\\intel.pdf         3        1  images\\intel.pdf_image_2_0_28.png   \n",
              "4  data\\intel.pdf         4        1  images\\intel.pdf_image_3_0_31.png   \n",
              "\n",
              "                                            img_desc  \\\n",
              "0  The image shows two bar graphs comparing expen...   \n",
              "1  Here is a description of the image:\\n\\nThe ima...   \n",
              "2  Here are the bounding box detections:\\n```json...   \n",
              "3  The image is a line graph titled \"Comparison o...   \n",
              "4  The image shows a table of financial data, spe...   \n",
              "\n",
              "                          mm_embedding_from_img_only  \\\n",
              "0  [-0.00379384635, 0.0275382921, 0.012781281, -0...   \n",
              "1  [-0.00261490652, 0.00803151727, -0.0175046083,...   \n",
              "2  [0.00753548834, 0.0195218138, -0.0373608284, 0...   \n",
              "3  [0.0168273449, 0.0246418063, -0.0147422217, 0....   \n",
              "4  [0.0309953205, 0.00850136764, -0.0345904976, -...   \n",
              "\n",
              "               text_embedding_from_image_description  \n",
              "0  [-0.04222716763615608, -0.01114147249609232, 0...  \n",
              "1  [-0.0311519093811512, -0.027998661622405052, -...  \n",
              "2  [-0.012763133272528648, -0.010560288093984127,...  \n",
              "3  [-0.01851482316851616, 0.024407247081398964, 0...  \n",
              "4  [-0.0035932075697928667, -0.023271726444363594...  "
            ]
          },
          "execution_count": 14,
          "metadata": {},
          "output_type": "execute_result"
        }
      ],
      "source": [
        "image_metadata_df.head()"
      ]
    },
    {
      "cell_type": "markdown",
      "metadata": {
        "id": "iBhoOkutUtPr"
      },
      "source": [
        "### Import the helper functions to implement RAG\n",
        "\n",
        "You will be importing the following functions which will be used in the remainder of this notebook to implement RAG:\n",
        "\n",
        "* **get_similar_text_from_query():** Given a text query, finds text from the document which are relevant, using cosine similarity algorithm. It uses text embeddings from the metadata to compute and the results can be filtered by top score, page/chunk number, or embedding size.\n",
        "* **print_text_to_text_citation():** Prints the source (citation) and details of the retrieved text from the `get_similar_text_from_query()` function.\n",
        "* **get_similar_image_from_query():** Given an image path or an image, finds images from the document which are relevant. It uses image embeddings from the metadata.\n",
        "* **print_text_to_image_citation():** Prints the source (citation) and the details of retrieved images from the `get_similar_image_from_query()` function.\n",
        "* **get_gemini_response():** Interacts with a Gemini model to answer questions based on a combination of text and image inputs.\n",
        "* **display_images():**  Displays a series of images provided as paths or PIL Image objects."
      ]
    },
    {
      "cell_type": "code",
      "execution_count": 15,
      "metadata": {
        "id": "Tngn_vrIKdE1",
        "tags": []
      },
      "outputs": [],
      "source": [
        "from multimodal_qa_with_rag_utils import (\n",
        "    get_similar_text_from_query,\n",
        "    print_text_to_text_citation,\n",
        "    get_similar_image_from_query,\n",
        "    print_text_to_image_citation,\n",
        "    get_gemini_response,\n",
        "    display_images,\n",
        "    get_answer_from_qa_system,\n",
        ")"
      ]
    },
    {
      "cell_type": "markdown",
      "metadata": {
        "id": "c9jGEj6DY1Rj"
      },
      "source": [
        "Before implementing a Multimodal Question Answering System with Vertex AI, let's explore what you can achieve with just text or image embeddings. This will set the foundation for implementing a multimodal Retrieval Augmented Generation (RAG) system, which you will do later in this notebook.\n",
        "\n",
        "You can also use these essential elements together to build applications for multimodal use cases, extracting meaningful information from documents."
      ]
    },
    {
      "cell_type": "markdown",
      "metadata": {
        "id": "KHuLlEvSKFWt"
      },
      "source": [
        "## Text Search\n",
        "\n",
        "Let's start the search with a simple question and see if the simple text search using text embeddings can answer it. The expected answer is to show the value of basic and diluted net income per share of Google for different share types.\n"
      ]
    },
    {
      "cell_type": "code",
      "execution_count": 16,
      "metadata": {
        "id": "5mrFVhtCut7t",
        "tags": []
      },
      "outputs": [],
      "source": [
        "query = \"How about exactly stock performance of Intel recently?\""
      ]
    },
    {
      "cell_type": "markdown",
      "metadata": {
        "id": "XWw7-AIar-S8"
      },
      "source": [
        "### Search similar text with text query"
      ]
    },
    {
      "cell_type": "code",
      "execution_count": 17,
      "metadata": {
        "colab": {
          "base_uri": "https://localhost:8080/"
        },
        "id": "eEzP6Yyv7N-G",
        "outputId": "2b9c957d-6045-401d-8993-26f1ec25eafe",
        "tags": []
      },
      "outputs": [
        {
          "name": "stdout",
          "output_type": "stream",
          "text": [
            "\u001b[91mCitation 1: Matched text: \n",
            "\u001b[0m\n",
            "\u001b[94mscore: \u001b[0m 0.75\n",
            "\u001b[94mfile_name: \u001b[0m data\\intel.pdf\n",
            "\u001b[94mpage_number: \u001b[0m 2\n",
            "\u001b[94mchunk_number: \u001b[0m 1\n",
            "\u001b[94mchunk_text: \u001b[0m  \n",
            "Return Excess Cash to Stockholders  \n",
            "Our capital allocation strategy historically included returning excess cash to stockholders through \n",
            "dividends and stock repurchases. Our most recent stock repurchase was in the first quarter of 2021 \n",
            "and we suspended the declaration of quarterly dividends starting with the fourth quarter of 2024. \n",
            "We agreed under our commercial CHIPS Act agreement to forgo paying dividends for the next two \n",
            "years, and agreed to limitations on the payment of dividends for the three years thereafter. Further, \n",
            "we do not expect to pay dividends or make stock repurchases until our cash flows improve as we \n",
            "focus on the critical investments needed to execute our business strategy and create long-term \n",
            "value. \n",
            " \n",
            "Stock Performance Graph \n",
            "The graph and table that follow compare the cumulative TSR of Intel's common stock with the \n",
            "cumulative total return of the S&P 100 Index, the S&P 500 Index, the S&P 500 IT Index, and the SOX \n",
            "Index' for the five years ended December 28\n",
            "\u001b[91mCitation 2: Matched text: \n",
            "\u001b[0m\n",
            "\u001b[94mscore: \u001b[0m 0.73\n",
            "\u001b[94mfile_name: \u001b[0m data\\intel.pdf\n",
            "\u001b[94mpage_number: \u001b[0m 2\n",
            "\u001b[94mchunk_number: \u001b[0m 2\n",
            "\u001b[94mchunk_text: \u001b[0m x, the S&P 500 Index, the S&P 500 IT Index, and the SOX \n",
            "Index' for the five years ended December 28, 2024. The cumulative returns shown on the graph are \n",
            "based on Intel's fiscal year. \n",
            "\n",
            "\u001b[91mCitation 3: Matched text: \n",
            "\u001b[0m\n",
            "\u001b[94mscore: \u001b[0m 0.47\n",
            "\u001b[94mfile_name: \u001b[0m data\\intel.pdf\n",
            "\u001b[94mpage_number: \u001b[0m 3\n",
            "\u001b[94mchunk_number: \u001b[0m 1\n",
            "\u001b[94mchunk_text: \u001b[0m  \n",
            " \n",
            "Non-GAAP Financial Measures \n",
            "In addition to disclosing financial results in accordance with US GAAP, this document references \n",
            "adjusted free cash flow, a non-GAAP financial measure. This measure is used by management \n",
            "when assessing our sources of liquidity, capital resources, and quality of earnings and provides an \n",
            "additional means to evaluate the cash flow trends of our business. Adjusted free cash flow is \n",
            "operating cash flow adjusted for (1) additions to property, plant, and equipment, net of proceeds \n",
            "from capital-related government incentives and net partner contributions, (2) payments on finance \n",
            "leases, and (3) proceeds from the McAfee equity sale in 2022. This non-GAAP financial measure \n",
            "should not be considered a substitute for, or superior to, financial measures calculated in \n",
            "accordance with US GAAP, and the financial results calculated in accordance with US GAAP and \n",
            "reconciliations from these results should be carefully evaluated. Following is the reconciliation of \n",
            "\n"
          ]
        }
      ],
      "source": [
        "# Matching user text query with \"chunk_embedding\" to find relevant chunks.\n",
        "matching_results_text = get_similar_text_from_query(\n",
        "    query,\n",
        "    text_metadata_df,\n",
        "    column_name=\"text_embedding_chunk\",\n",
        "    top_n=3,\n",
        "    chunk_text=True,\n",
        ")\n",
        "\n",
        "# Print the matched text citations\n",
        "print_text_to_text_citation(\n",
        "    matching_results_text, print_top=False, chunk_text=True\n",
        ")  # print_top=False to see all text matches"
      ]
    },
    {
      "cell_type": "markdown",
      "metadata": {
        "id": "KY1J2sHr-N8f"
      },
      "source": [
        "### Get answer with text-RAG"
      ]
    },
    {
      "cell_type": "code",
      "execution_count": 18,
      "metadata": {
        "id": "ORCistIdDWoE",
        "tags": []
      },
      "outputs": [],
      "source": [
        "# All relevant text chunk found across documents based on user query\n",
        "context = \"\\n\".join(\n",
        "    [value[\"chunk_text\"] for key, value in matching_results_text.items()]\n",
        ")\n",
        "\n",
        "prompt = f\"\"\"Answer the question with the given context. If the specific answer is not in the context, please answer \"I don't know\".\n",
        "Question: {query}\n",
        "Context: {context}\n",
        "Answer:\n",
        "\"\"\""
      ]
    },
    {
      "cell_type": "code",
      "execution_count": 19,
      "metadata": {
        "id": "GKD-Ew8IM287",
        "tags": []
      },
      "outputs": [],
      "source": [
        "safety_settings = {\n",
        "    HarmCategory.HARM_CATEGORY_HATE_SPEECH: HarmBlockThreshold.BLOCK_NONE,\n",
        "    HarmCategory.HARM_CATEGORY_SEXUALLY_EXPLICIT: HarmBlockThreshold.BLOCK_NONE,\n",
        "    HarmCategory.HARM_CATEGORY_DANGEROUS_CONTENT: HarmBlockThreshold.BLOCK_NONE,\n",
        "    HarmCategory.HARM_CATEGORY_HARASSMENT: HarmBlockThreshold.BLOCK_NONE,\n",
        "}"
      ]
    },
    {
      "cell_type": "code",
      "execution_count": 20,
      "metadata": {
        "colab": {
          "base_uri": "https://localhost:8080/",
          "height": 170
        },
        "id": "m8jyc5_SAwlF",
        "outputId": "def58273-e032-4263-b6ae-52834791ae03",
        "tags": []
      },
      "outputs": [
        {
          "name": "stdout",
          "output_type": "stream",
          "text": [
            "\n",
            " **** Result: ***** \n",
            "\n",
            "CPU times: total: 46.9 ms\n",
            "Wall time: 594 ms\n"
          ]
        },
        {
          "data": {
            "text/html": [
              "<pre style=\"white-space:pre;overflow-x:auto;line-height:normal;font-family:Menlo,'DejaVu Sans Mono',consolas,'Courier New',monospace\">I don't know.                                                                                                      \n",
              "</pre>\n"
            ],
            "text/plain": [
              "I don't know.                                                                                                      \n"
            ]
          },
          "execution_count": 20,
          "metadata": {},
          "output_type": "execute_result"
        }
      ],
      "source": [
        "%%time\n",
        "# Generate response with Gemini 2.0 Flash\n",
        "print(\"\\n **** Result: ***** \\n\")\n",
        "\n",
        "rich_Markdown(\n",
        "    get_gemini_response(\n",
        "        multimodal_model_2_0_flash,\n",
        "        model_input=prompt,\n",
        "        stream=True,\n",
        "        safety_settings=safety_settings,\n",
        "        generation_config=GenerationConfig(temperature=1, max_output_tokens=8192),\n",
        "    )\n",
        ")"
      ]
    },
    {
      "cell_type": "markdown",
      "metadata": {
        "id": "uXm271jdD-Rl"
      },
      "source": [
        "### Search similar images with text query"
      ]
    },
    {
      "cell_type": "markdown",
      "metadata": {
        "id": "oPxwfyVrr9-G"
      },
      "source": [
        "Since plain text search and RAG didn't provide the detailed answer and the information may be visually represented in a table or another image format, you can use multimodal capability of Gemini 2.0 Flash for the similar task.\n",
        "\n",
        "The goal here also is to find an image similar to the text query. You may also print the citations to verify."
      ]
    },
    {
      "cell_type": "code",
      "execution_count": 21,
      "metadata": {
        "id": "nwXpqMSq4ppr",
        "tags": []
      },
      "outputs": [],
      "source": [
        "query = \"How about exactly stock performance of Intel recently?\""
      ]
    },
    {
      "cell_type": "code",
      "execution_count": 22,
      "metadata": {
        "colab": {
          "base_uri": "https://localhost:8080/",
          "height": 1000
        },
        "id": "knj4qQ4xni24",
        "outputId": "603899ae-e829-47ce-ce77-4d4f67f4b685",
        "tags": []
      },
      "outputs": [
        {
          "name": "stdout",
          "output_type": "stream",
          "text": [
            "\n",
            " **** Result: ***** \n",
            "\n"
          ]
        },
        {
          "data": {
            "image/jpeg": "[encoded data removed]",
            "image/png": "[encoded data removed]",
            "text/plain": [
              "<PIL.Image.Image image mode=RGB size=276x148>"
            ]
          },
          "metadata": {},
          "output_type": "display_data"
        },
        {
          "name": "stdout",
          "output_type": "stream",
          "text": [
            "\n",
            "\n"
          ]
        },
        {
          "data": {
            "image/jpeg": "[encoded data removed]",
            "image/png": "[encoded data removed]",
            "text/plain": [
              "<PIL.Image.Image image mode=RGB size=277x77>"
            ]
          },
          "metadata": {},
          "output_type": "display_data"
        },
        {
          "name": "stdout",
          "output_type": "stream",
          "text": [
            "\n",
            "\n"
          ]
        },
        {
          "data": {
            "image/jpeg": "[encoded data removed]",
            "image/png": "[encoded data removed]",
            "text/plain": [
              "<PIL.Image.Image image mode=RGB size=151x64>"
            ]
          },
          "metadata": {},
          "output_type": "display_data"
        },
        {
          "name": "stdout",
          "output_type": "stream",
          "text": [
            "\n",
            "\n"
          ]
        },
        {
          "data": {
            "image/jpeg": "[encoded data removed]",
            "image/png": "[encoded data removed]",
            "text/plain": [
              "<PIL.Image.Image image mode=RGB size=273x86>"
            ]
          },
          "metadata": {},
          "output_type": "display_data"
        },
        {
          "name": "stdout",
          "output_type": "stream",
          "text": [
            "\n",
            "\n"
          ]
        }
      ],
      "source": [
        "matching_results_image = get_similar_image_from_query(\n",
        "    text_metadata_df,\n",
        "    image_metadata_df,\n",
        "    query=query,\n",
        "    column_name=\"text_embedding_from_image_description\",  # Use image description text embedding\n",
        "    image_emb=False,  # Use text embedding instead of image embedding\n",
        "    top_n=5,\n",
        "    embedding_size=1408,\n",
        ")\n",
        "\n",
        "# Markdown(print_text_to_image_citation(matching_results_image, print_top=True))\n",
        "print(\"\\n **** Result: ***** \\n\")\n",
        "\n",
        "# Display the top matching image\n",
        "display_images(\n",
        "    [\n",
        "        matching_results_image[0][\"img_path\"],\n",
        "        matching_results_image[1][\"img_path\"],\n",
        "        matching_results_image[2][\"img_path\"],\n",
        "        matching_results_image[3][\"img_path\"],\n",
        "    ],\n",
        "    resize_ratio=0.3,\n",
        ")"
      ]
    },
    {
      "cell_type": "code",
      "execution_count": 23,
      "metadata": {
        "colab": {
          "base_uri": "https://localhost:8080/",
          "height": 962
        },
        "id": "HuRD1lZ8RNYP",
        "outputId": "6766990e-62ad-4926-8120-15519472cdb4",
        "tags": []
      },
      "outputs": [
        {
          "name": "stdout",
          "output_type": "stream",
          "text": [
            "\n",
            " **** Result: ***** \n",
            "\n",
            "CPU times: total: 62.5 ms\n",
            "Wall time: 4.24 s\n"
          ]
        },
        {
          "data": {
            "text/html": [
              "<pre style=\"white-space:pre;overflow-x:auto;line-height:normal;font-family:Menlo,'DejaVu Sans Mono',consolas,'Courier New',monospace\">Okay, let's analyze Intel's recent stock performance based on the provided images and financial data.              \n",
              "\n",
              "<span style=\"font-weight: bold\">Stock Performance Summary (From the First Image):</span>                                                                  \n",
              "\n",
              "<span style=\"color: #808000; text-decoration-color: #808000; font-weight: bold\"> • </span><span style=\"font-weight: bold\">Underperformance:</span> The first image clearly shows that Intel's stock performance (blue line) has significantly    \n",
              "<span style=\"color: #808000; text-decoration-color: #808000; font-weight: bold\">   </span>underperformed compared to the S&amp;P 100, S&amp;P 500, S&amp;P 500 IT, and SOX indices over the period from 2019 to 2024. \n",
              "<span style=\"color: #808000; text-decoration-color: #808000; font-weight: bold\"> • </span><span style=\"font-weight: bold\">Volatility:</span> Intel's stock price has been volatile, with significant fluctuations.                               \n",
              "<span style=\"color: #808000; text-decoration-color: #808000; font-weight: bold\"> • </span><span style=\"font-weight: bold\">Recent Decline:</span> From 2019 starting with an index of 100 it decreased to approximately $50 in 2024.              \n",
              "\n",
              "<span style=\"font-weight: bold\">Financial Data Analysis (From the Second, Third and Fourth Images):</span>                                                \n",
              "\n",
              "<span style=\"color: #808000; text-decoration-color: #808000; font-weight: bold\"> • </span><span style=\"font-weight: bold\">Operating Activities:</span> Net cash provided by operating activities has declined significantly from $35.9B in 2020  \n",
              "<span style=\"color: #808000; text-decoration-color: #808000; font-weight: bold\">   </span>to $8.3B in 2024.                                                                                               \n",
              "<span style=\"color: #808000; text-decoration-color: #808000; font-weight: bold\"> • </span><span style=\"font-weight: bold\">Adjusted Free Cash Flow:</span> Adjusted free cash flow has also declined dramatically and has become negative in      \n",
              "<span style=\"color: #808000; text-decoration-color: #808000; font-weight: bold\">   </span>recent years. It went from $21.8B in 2020 to -$2.2B in 2024.                                                    \n",
              "<span style=\"color: #808000; text-decoration-color: #808000; font-weight: bold\"> • </span><span style=\"font-weight: bold\">Investing Activities:</span> Net cash used for investing activities is consistently high, indicating large investments \n",
              "<span style=\"color: #808000; text-decoration-color: #808000; font-weight: bold\">   </span>in property, plant, and equipment.                                                                              \n",
              "<span style=\"color: #808000; text-decoration-color: #808000; font-weight: bold\"> • </span><span style=\"font-weight: bold\">Research and Development (R&amp;D):</span> R&amp;D spending remains a significant expense, and as a percentage of revenue, it  \n",
              "<span style=\"color: #808000; text-decoration-color: #808000; font-weight: bold\">   </span>was around 31.2% in 2024.                                                                                       \n",
              "\n",
              "<span style=\"font-weight: bold\">Putting it Together:</span>                                                                                               \n",
              "\n",
              "The stock performance in the first image likely reflects the underlying financial performance revealed in the      \n",
              "subsequent tables and figures. The substantial decline in operating cash flow and adjusted free cash flow, while   \n",
              "R&amp;D spending remains high and Capital Expenditure is large, suggests underlying challenges. The high investment    \n",
              "activities indicates that the company is potentially investing heavily to improve future growth.                   \n",
              "\n",
              "<span style=\"font-weight: bold\">In Conclusion:</span>                                                                                                     \n",
              "\n",
              "Intel's recent stock performance has been poor compared to broader market indices and industry-specific indices.   \n",
              "This performance is likely linked to a decline in operating cash flow and adjusted free cash flow, even with       \n",
              "considerable investments in research and development.                                                              \n",
              "</pre>\n"
            ],
            "text/plain": [
              "Okay, let's analyze Intel's recent stock performance based on the provided images and financial data.              \n",
              "\n",
              "\u001b[1mStock Performance Summary (From the First Image):\u001b[0m                                                                  \n",
              "\n",
              "\u001b[1;33m • \u001b[0m\u001b[1mUnderperformance:\u001b[0m The first image clearly shows that Intel's stock performance (blue line) has significantly    \n",
              "\u001b[1;33m   \u001b[0munderperformed compared to the S&P 100, S&P 500, S&P 500 IT, and SOX indices over the period from 2019 to 2024. \n",
              "\u001b[1;33m • \u001b[0m\u001b[1mVolatility:\u001b[0m Intel's stock price has been volatile, with significant fluctuations.                               \n",
              "\u001b[1;33m • \u001b[0m\u001b[1mRecent Decline:\u001b[0m From 2019 starting with an index of 100 it decreased to approximately $50 in 2024.              \n",
              "\n",
              "\u001b[1mFinancial Data Analysis (From the Second, Third and Fourth Images):\u001b[0m                                                \n",
              "\n",
              "\u001b[1;33m • \u001b[0m\u001b[1mOperating Activities:\u001b[0m Net cash provided by operating activities has declined significantly from $35.9B in 2020  \n",
              "\u001b[1;33m   \u001b[0mto $8.3B in 2024.                                                                                               \n",
              "\u001b[1;33m • \u001b[0m\u001b[1mAdjusted Free Cash Flow:\u001b[0m Adjusted free cash flow has also declined dramatically and has become negative in      \n",
              "\u001b[1;33m   \u001b[0mrecent years. It went from $21.8B in 2020 to -$2.2B in 2024.                                                    \n",
              "\u001b[1;33m • \u001b[0m\u001b[1mInvesting Activities:\u001b[0m Net cash used for investing activities is consistently high, indicating large investments \n",
              "\u001b[1;33m   \u001b[0min property, plant, and equipment.                                                                              \n",
              "\u001b[1;33m • \u001b[0m\u001b[1mResearch and Development (R&D):\u001b[0m R&D spending remains a significant expense, and as a percentage of revenue, it  \n",
              "\u001b[1;33m   \u001b[0mwas around 31.2% in 2024.                                                                                       \n",
              "\n",
              "\u001b[1mPutting it Together:\u001b[0m                                                                                               \n",
              "\n",
              "The stock performance in the first image likely reflects the underlying financial performance revealed in the      \n",
              "subsequent tables and figures. The substantial decline in operating cash flow and adjusted free cash flow, while   \n",
              "R&D spending remains high and Capital Expenditure is large, suggests underlying challenges. The high investment    \n",
              "activities indicates that the company is potentially investing heavily to improve future growth.                   \n",
              "\n",
              "\u001b[1mIn Conclusion:\u001b[0m                                                                                                     \n",
              "\n",
              "Intel's recent stock performance has been poor compared to broader market indices and industry-specific indices.   \n",
              "This performance is likely linked to a decline in operating cash flow and adjusted free cash flow, even with       \n",
              "considerable investments in research and development.                                                              \n"
            ]
          },
          "execution_count": 23,
          "metadata": {},
          "output_type": "execute_result"
        }
      ],
      "source": [
        "%%time\n",
        "\n",
        "print(\"\\n **** Result: ***** \\n\")\n",
        "\n",
        "instruction = f\"\"\"Answer the question and explain results with the given Image:\n",
        "Question: {query}\n",
        "Image:\n",
        "\"\"\"\n",
        "\n",
        "# Prepare the model input\n",
        "model_input = [\n",
        "    instruction,\n",
        "    # passing all matched images to Gemini\n",
        "    \"Image:\",\n",
        "    matching_results_image[0][\"image_object\"],\n",
        "    \"Description:\",\n",
        "    matching_results_image[0][\"image_description\"],\n",
        "    \"Image:\",\n",
        "    matching_results_image[1][\"image_object\"],\n",
        "    \"Description:\",\n",
        "    matching_results_image[1][\"image_description\"],\n",
        "    \"Image:\",\n",
        "    matching_results_image[2][\"image_object\"],\n",
        "    \"Description:\",\n",
        "    matching_results_image[2][\"image_description\"],\n",
        "    \"Image:\",\n",
        "    matching_results_image[3][\"image_object\"],\n",
        "    \"Description:\",\n",
        "    matching_results_image[3][\"image_description\"],\n",
        "]\n",
        "\n",
        "# Generate Gemini response with streaming output\n",
        "rich_Markdown(\n",
        "    get_gemini_response(\n",
        "        multimodal_model_2_0_flash,\n",
        "        model_input=model_input,\n",
        "        stream=True,\n",
        "        safety_settings=safety_settings,\n",
        "        generation_config=GenerationConfig(temperature=1, max_output_tokens=8192),\n",
        "    )\n",
        ")"
      ]
    },
    {
      "cell_type": "code",
      "execution_count": 24,
      "metadata": {
        "colab": {
          "base_uri": "https://localhost:8080/",
          "height": 1000
        },
        "id": "uykUaQvIRNYP",
        "outputId": "42720a84-a357-4d72-f3f3-cc8bb8a79621",
        "tags": []
      },
      "outputs": [
        {
          "name": "stdout",
          "output_type": "stream",
          "text": [
            "\u001b[91mCitation 1: Matched image path, page number and page text: \n",
            "\u001b[0m\n",
            "\u001b[94mscore: \u001b[0m 0.71\n",
            "\u001b[94mfile_name: \u001b[0m data\\intel.pdf\n",
            "\u001b[94mpath: \u001b[0m images\\intel.pdf_image_2_0_28.png\n",
            "\u001b[94mpage number: \u001b[0m 3\n",
            "\u001b[94mpage text: \u001b[0m  \n",
            " \n",
            "Non-GAAP Financial Measures \n",
            "In addition to disclosing financial results in accordance with US GAAP, this document references \n",
            "adjusted free cash flow, a non-GAAP financial measure. This measure is used by management \n",
            "when assessing our sources of liquidity, capital resources, and quality of earnings and provides an \n",
            "additional means to evaluate the cash flow trends of our business. Adjusted free cash flow is \n",
            "operating cash flow adjusted for (1) additions to property, plant, and equipment, net of proceeds \n",
            "from capital-related government incentives and net partner contributions, (2) payments on finance \n",
            "leases, and (3) proceeds from the McAfee equity sale in 2022. This non-GAAP financial measure \n",
            "should not be considered a substitute for, or superior to, financial measures calculated in \n",
            "accordance with US GAAP, and the financial results calculated in accordance with US GAAP and \n",
            "reconciliations from these results should be carefully evaluated. Following is the reconciliation of \n",
            "our most comparable US GAAP measure to our non-GAAP measure presented: \n",
            " \n",
            "\n",
            "\u001b[94mimage description: \u001b[0m The image is a line graph titled \"Comparison of Five-Year Cumulative Return for Intel, S&P 100 Index, S&P 500 Index, S&P 500 IT Index, and SOX Index\". The x-axis represents years from 2019 to 2024, and the y-axis represents dollar values from $0 to $350. There are five lines on the graph: Intel Corporation (blue), S&P 100 Index (gray), S&P 500 Index (gray), S&P 500 IT Index (gray), and SOX Index (gray). The Intel Corporation line starts at $100 in 2019, decreases to approximately $80 in 2020, increases to approximately $90 in 2021, decreases to approximately $50 in 2022, increases to approximately $125 in 2023, and decreases to approximately $50 in 2024. The other four lines all start at $100 in 2019 and generally increase over the five-year period.\n",
            "\u001b[91mCitation 2: Matched image path, page number and page text: \n",
            "\u001b[0m\n",
            "\u001b[94mscore: \u001b[0m 0.49\n",
            "\u001b[94mfile_name: \u001b[0m data\\intel.pdf\n",
            "\u001b[94mpath: \u001b[0m images\\intel.pdf_image_3_0_31.png\n",
            "\u001b[94mpage number: \u001b[0m 4\n",
            "\u001b[94mpage text: \u001b[0m  \n",
            "\n",
            "\u001b[94mimage description: \u001b[0m The image shows a table of financial data, specifically cash flow information, for a company over a period of five years. The years listed are Dec 28, 2024, Dec 30, 2023, Dec 31, 2022, Dec 25, 2021, and Dec 26, 2020. The data is presented in millions of dollars.\n",
            "\n",
            "The table includes the following categories:\n",
            "- Net cash provided by (used for) operating activities\n",
            "- Net purchase of property, plant, and equipment\n",
            "- Payments on finance leases\n",
            "- Sale of equity investment\n",
            "- Adjusted free cash flow\n",
            "- Net cash provided by (used for) investing activities\n",
            "- Net cash provided by (used for) financing activities\n",
            "\n",
            "The values for each category are listed for each of the five years. Some values are positive, while others are negative, indicated by parentheses.\n",
            "\u001b[91mCitation 3: Matched image path, page number and page text: \n",
            "\u001b[0m\n",
            "\u001b[94mscore: \u001b[0m 0.49\n",
            "\u001b[94mfile_name: \u001b[0m data\\intel.pdf\n",
            "\u001b[94mpath: \u001b[0m images\\intel.pdf_image_1_0_24.png\n",
            "\u001b[94mpage number: \u001b[0m 2\n",
            "\u001b[94mpage text: \u001b[0m  \n",
            "Return Excess Cash to Stockholders  \n",
            "Our capital allocation strategy historically included returning excess cash to stockholders through \n",
            "dividends and stock repurchases. Our most recent stock repurchase was in the first quarter of 2021 \n",
            "and we suspended the declaration of quarterly dividends starting with the fourth quarter of 2024. \n",
            "We agreed under our commercial CHIPS Act agreement to forgo paying dividends for the next two \n",
            "years, and agreed to limitations on the payment of dividends for the three years thereafter. Further, \n",
            "we do not expect to pay dividends or make stock repurchases until our cash flows improve as we \n",
            "focus on the critical investments needed to execute our business strategy and create long-term \n",
            "value. \n",
            " \n",
            "Stock Performance Graph \n",
            "The graph and table that follow compare the cumulative TSR of Intel's common stock with the \n",
            "cumulative total return of the S&P 100 Index, the S&P 500 Index, the S&P 500 IT Index, and the SOX \n",
            "Index' for the five years ended December 28, 2024. The cumulative returns shown on the graph are \n",
            "based on Intel's fiscal year. \n",
            "\n",
            "\u001b[94mimage description: \u001b[0m Here is a description of the image:\n",
            "\n",
            "The image is a bar graph titled \"Cash from Operating Activities $B\". The graph compares \"Cash from Operating Activities\" and \"Adjusted Free Cash Flow\" from 2020 to 2024. Cash from Operating Activities is represented by blue bars, while Adjusted Free Cash Flow is represented by light blue bars. The values for each year are as follows:\n",
            "\n",
            "*   2020: Cash from Operating Activities is $35.9, Adjusted Free Cash Flow is $21.8.\n",
            "*   2021: Cash from Operating Activities is $29.5, Adjusted Free Cash Flow is $10.9.\n",
            "*   2022: Cash from Operating Activities is $15.4, Adjusted Free Cash Flow is $(4.1).\n",
            "*   2023: Cash from Operating Activities is $11.5, Adjusted Free Cash Flow is $(11.9).\n",
            "*   2024: Cash from Operating Activities is $8.3, Adjusted Free Cash Flow is $(2.2).\n",
            "\u001b[91mCitation 4: Matched image path, page number and page text: \n",
            "\u001b[0m\n",
            "\u001b[94mscore: \u001b[0m 0.48\n",
            "\u001b[94mfile_name: \u001b[0m data\\intel.pdf\n",
            "\u001b[94mpath: \u001b[0m images\\intel.pdf_image_0_0_21.png\n",
            "\u001b[94mpage number: \u001b[0m 1\n",
            "\u001b[94mpage text: \u001b[0m Operating Expenses \n",
            "Operating Expenses Total R&D and MG&A expenses for 2024 were $22.1 billion, up 2% compared to \n",
            "2023. These expenses represent 41.5% of revenue for 2024 and 40.0% of revenue for 2023. In \n",
            "support of our strategy, we continue to make significant investments to accelerate our process \n",
            "technology roadmap. As a result of our 2024 Restructuring Plan and related cost-reduction \n",
            "measures, we expect a decrease in total R&D and MG&A expenses in future periods as we focus \n",
            "investments in R&D and create capacity for sustained investment in technology and \n",
            "manufacturing. \n",
            " \n",
            "2024 vs. 2023 R&D increased by $500 million, or 3%, primarily driven by investments in our process \n",
            "technology and products, and higher share-based compensation, partially offset by lower \n",
            "incentive-based compensation and the effects of various cost-reduction measures. R&D increased \n",
            "by $500 million, or 3%, primarily driven by investments in our process technology and products, \n",
            "and higher share-based compensation, partially offset by lower incentive-based compensation and \n",
            "the effects of various cost-reduction measures. Marketing, General, and Administrative Marketing, \n",
            "General, and Administrative 2024 vs. 2023 2024 vs. 2023 MG&A decreased by $127 million, or 2%, \n",
            "primarily driven by lower incentive-based compensation, share-based compensation, and the \n",
            "effects of various cost-reduction measures, partially offset by higher corporate spending to drive \n",
            "business transformation. \n",
            "Financial Capital \n",
            "We take a disciplined approach to our financial capital allocation strategy, which continues to \n",
            "focus on building stakeholder value and is driven by our priority to invest in the business. We also \n",
            "seek to optimize our portfolio, look for innovative ways to unlock value across our assets, and, from \n",
            "time-to-time, engage in mergers and acquisitions. \n",
            "\n",
            "\u001b[94mimage description: \u001b[0m The image shows two bar graphs comparing expenses in billions of dollars ($B) for different categories over the years 2022, 2023, and 2024. The percentages shown indicate expenses as a percentage of total revenue.\n",
            "\n",
            "The first graph, titled \"Research and Development $B\", shows the following:\n",
            "- 2024: $16.5B, 31.2%\n",
            "- 2023: $16.0B, 29.6%\n",
            "- 2022: $17.5B, 27.8%\n",
            "\n",
            "The second graph, titled \"Marketing, General, and Administrative $B\", shows the following:\n",
            "- 2024: $5.5B, 10.4%\n",
            "- 2023: $5.6B, 10.4%\n",
            "- 2022: $7.0B, 11.1%\n",
            "\n",
            "Both graphs have a grey line connecting the percentages of each year. The bars for the year 2024 are blue, while the bars for 2022 and 2023 are grey.\n",
            "\u001b[91mCitation 5: Matched image path, page number and page text: \n",
            "\u001b[0m\n",
            "\u001b[94mscore: \u001b[0m 0.44\n",
            "\u001b[94mfile_name: \u001b[0m data\\intel.pdf\n",
            "\u001b[94mpath: \u001b[0m images\\intel.pdf_image_1_1_25.png\n",
            "\u001b[94mpage number: \u001b[0m 2\n",
            "\u001b[94mpage text: \u001b[0m  \n",
            "Return Excess Cash to Stockholders  \n",
            "Our capital allocation strategy historically included returning excess cash to stockholders through \n",
            "dividends and stock repurchases. Our most recent stock repurchase was in the first quarter of 2021 \n",
            "and we suspended the declaration of quarterly dividends starting with the fourth quarter of 2024. \n",
            "We agreed under our commercial CHIPS Act agreement to forgo paying dividends for the next two \n",
            "years, and agreed to limitations on the payment of dividends for the three years thereafter. Further, \n",
            "we do not expect to pay dividends or make stock repurchases until our cash flows improve as we \n",
            "focus on the critical investments needed to execute our business strategy and create long-term \n",
            "value. \n",
            " \n",
            "Stock Performance Graph \n",
            "The graph and table that follow compare the cumulative TSR of Intel's common stock with the \n",
            "cumulative total return of the S&P 100 Index, the S&P 500 Index, the S&P 500 IT Index, and the SOX \n",
            "Index' for the five years ended December 28, 2024. The cumulative returns shown on the graph are \n",
            "based on Intel's fiscal year. \n",
            "\n",
            "\u001b[94mimage description: \u001b[0m Here are the bounding box detections:\n",
            "```json\n",
            "[\n",
            "  {\"box_2d\": [557, 607, 617, 645], \"label\": \"$14.2\"},\n",
            "  {\"box_2d\": [605, 671, 665, 706], \"label\": \"$5.6\"},\n",
            "  {\"box_2d\": [674, 799, 734, 834], \"label\": \"$3.1\"},\n",
            "  {\"box_2d\": [414, 598, 748, 652], \"label\": \"2020\"},\n",
            "  {\"box_2d\": [777, 123, 831, 158], \"label\": \"2020\"},\n",
            "  {\"box_2d\": [777, 606, 848, 642], \"label\": \"2020\"},\n",
            "  {\"box_2d\": [777, 249, 831, 284], \"label\": \"2022\"},\n",
            "  {\"box_2d\": [777, 312, 831, 347], \"label\": \"2023\"},\n",
            "  {\"box_2d\": [777, 373, 831, 409], \"label\": \"2024\"},\n",
            "  {\"box_2d\": [777, 186, 831, 221], \"label\": \"2021\"},\n",
            "  {\"box_2d\": [777, 669, 848, 705], \"label\": \"2021\"},\n",
            "  {\"box_2d\": [777, 735, 848, 770], \"label\": \"2022\"},\n",
            "  {\"box_2d\": [777, 798, 848, 833], \"label\": \"2023\"},\n",
            "  {\"box_2d\": [777, 862, 848, 897], \"label\": \"2024\"},\n",
            "  {\"box_2d\": [945, 189, 994, 221], \"label\": \"R&D\"},\n",
            "  {\"box_2d\": [945, 247, 994, 284], \"label\": \"Logic\"},\n",
            "  {\"box_2d\": [945, 314, 994, 360], \"label\": \"Memory\"},\n",
            "  {\"box_2d\": [945, 786, 994, 846], \"label\": \"Dividend\"},\n",
            "  {\"box_2d\": [945, 671, 994, 761], \"label\": \"Repurchases\"},\n",
            "  {\"box_2d\": [228, 247, 288, 287], \"label\": \"$42.4\"},\n",
            "  {\"box_2d\": [237, 371, 297, 411], \"label\": \"$41.7\"},\n",
            "  {\"box_2d\": [237, 309, 297, 349], \"label\": \"$41.8\"},\n",
            "  {\"box_2d\": [317, 185, 371, 225], \"label\": \"$33.9\"},\n",
            "  {\"box_2d\": [374, 123, 434, 163], \"label\": \"$27.8\"},\n",
            "  {\"box_2d\": [557, 607, 617, 645], \"label\": \"$14.2\"},\n",
            "  {\"box_2d\": [557, 607, 617, 645], \"label\": \"$14.2\"},\n",
            "  {\"box_2d\": [557, 607, 617, 645], \"label\": \"$14.2\"},\n",
            "  {\"box_2d\": [557, 607, 617, 645], \"label\": \"$14.2\"},\n",
            "  {\"box_2d\": [557, 607, 617, 645], \"label\": \"$14.2\"},\n",
            "  {\"box_2d\": [557, 607, 617, 645], \"label\": \"$14.2\"},\n",
            "  {\"box_2d\": [557, 607, 617, 645], \"label\": \"$14.2\"},\n",
            "  {\"box_2d\": [557, 607, 617, 645], \"label\": \"$14.2\"},\n",
            "  {\"box_2d\": [557, 607, 617, 645], \"label\": \"$14.2\"},\n",
            "  {\"box_2d\": [557, 607, 617, 645], \"label\": \"$14.2\"},\n",
            "  {\"box_2d\": [557, 607, 617, 645], \"label\": \"$14.2\"},\n",
            "  {\"box_2d\": [557, 607, 617, 645], \"label\": \"$14.2\"},\n",
            "  {\"box_2d\": [557, 607, 617, 645], \"label\": \"$14.2\"},\n",
            "  {\"box_2d\": [557, 607, 617, 645], \"label\": \"$14.2\"},\n",
            "  {\"box_2d\": [557, 607, 617, 645], \"label\": \"$14.2\"},\n",
            "  {\"box_2d\": [557, 607, 617, 645], \"label\": \"$14.2\"},\n",
            "  {\"box_2d\": [557, 607, 617, 645], \"label\": \"$14.2\"},\n",
            "  {\"box_2d\": [557, 607, 617, 645], \"label\": \"$14.2\"},\n",
            "  {\"box_2d\": [557, 607, 617, 645], \"label\": \"$14.2\"},\n",
            "  {\"box_2d\": [557, 607, 617, 645], \"label\": \"$14.2\"},\n",
            "  {\"box_2d\": [557, 607, 617, 645], \"label\": \"$14.2\"},\n",
            "  {\"box_2d\": [557, 607, 617, 645], \"label\": \"$14.2\"},\n",
            "  {\"box_2d\": [557, 607, 617, 645], \"label\": \"$14.2\"},\n",
            "  {\"box_2d\": [557, 607, 617, 645], \"label\": \"$14.2\"},\n",
            "  {\"box_2d\": [557, 607, 617, 645], \"label\": \"$14.2\"},\n",
            "  {\"box_2d\": [557, 607, 617, 645], \"label\": \"$14.2\"},\n",
            "  {\"box_2d\": [557, 607, 617, 645], \"label\": \"$14.2\"},\n",
            "  {\"box_2d\": [557, 607, 617, 645], \"label\": \"$14.2\"},\n",
            "  {\"box_2d\": [557, 607, 617, 645], \"label\": \"$14.2\"},\n",
            "  {\"box_2d\": [557, 607, 617, 645], \"label\": \"$14.2\"},\n",
            "  {\"box_2d\": [557, 607, 617, 645], \"label\": \"$14.2\"},\n",
            "  {\"box_2d\": [557, \n"
          ]
        },
        {
          "data": {
            "text/html": [
              "<pre style=\"white-space:pre;overflow-x:auto;line-height:normal;font-family:Menlo,'DejaVu Sans Mono',consolas,'Courier New',monospace\"><span style=\"color: #800080; text-decoration-color: #800080; font-style: italic\">None</span>\n",
              "</pre>\n"
            ],
            "text/plain": [
              "\u001b[3;35mNone\u001b[0m\n"
            ]
          },
          "metadata": {},
          "output_type": "display_data"
        }
      ],
      "source": [
        "## you can check the citations to probe further.\n",
        "## check the \"image description:\" which is a description extracted through gemini which helped search our query.\n",
        "rich_print(print_text_to_image_citation(matching_results_image, print_top=False))"
      ]
    },
    {
      "cell_type": "markdown",
      "metadata": {
        "id": "lUnsv5Co6pJF"
      },
      "source": [
        "### Comparative reasoning"
      ]
    },
    {
      "cell_type": "markdown",
      "metadata": {
        "id": "1AFbqHiz5vvo"
      },
      "source": [
        "Next, let's apply what you have done so far in doing comparative reasoning.\n",
        "\n",
        "For this example:\n",
        "\n",
        "* **Step 1:** You will search all the images for a specific query\n",
        "\n",
        "* **Step 2:** Send those images to Gemini 2.0 Flash to ask multiple questions, where it has to compare among those images and provide you with answers."
      ]
    },
    {
      "cell_type": "code",
      "execution_count": 25,
      "metadata": {
        "id": "E6AHCSwojyX0",
        "tags": []
      },
      "outputs": [],
      "source": [
        "matching_results_image_query_1 = get_similar_image_from_query(\n",
        "    text_metadata_df,\n",
        "    image_metadata_df,\n",
        "    query=\"Show me all the images that can describe stock performance of Intel\",\n",
        "    column_name=\"text_embedding_from_image_description\",  # Use image description text embedding # mm_embedding_from_img_only text_embedding_from_image_description\n",
        "    image_emb=False,  # Use text embedding instead of image embedding\n",
        "    top_n=5,\n",
        "    embedding_size=1408,\n",
        ")"
      ]
    },
    {
      "cell_type": "code",
      "execution_count": 26,
      "metadata": {
        "colab": {
          "base_uri": "https://localhost:8080/",
          "height": 1000
        },
        "id": "jja-9iGFRNYQ",
        "outputId": "794e97b1-c20e-484e-beeb-6c2311fc2b22",
        "tags": []
      },
      "outputs": [
        {
          "name": "stdout",
          "output_type": "stream",
          "text": [
            "---------------Matched Images------------------\n",
            "\n"
          ]
        },
        {
          "data": {
            "image/jpeg": "[encoded data removed]",
            "image/png": "[encoded data removed]",
            "text/plain": [
              "<PIL.Image.Image image mode=RGB size=184x99>"
            ]
          },
          "metadata": {},
          "output_type": "display_data"
        },
        {
          "name": "stdout",
          "output_type": "stream",
          "text": [
            "\n",
            "\n"
          ]
        },
        {
          "data": {
            "image/jpeg": "[encoded data removed]",
            "image/png": "[encoded data removed]",
            "text/plain": [
              "<PIL.Image.Image image mode=RGB size=101x43>"
            ]
          },
          "metadata": {},
          "output_type": "display_data"
        },
        {
          "name": "stdout",
          "output_type": "stream",
          "text": [
            "\n",
            "\n"
          ]
        },
        {
          "data": {
            "image/jpeg": "[encoded data removed]",
            "image/png": "[encoded data removed]",
            "text/plain": [
              "<PIL.Image.Image image mode=RGB size=173x50>"
            ]
          },
          "metadata": {},
          "output_type": "display_data"
        },
        {
          "name": "stdout",
          "output_type": "stream",
          "text": [
            "\n",
            "\n"
          ]
        },
        {
          "data": {
            "image/jpeg": "[encoded data removed]",
            "image/png": "[encoded data removed]",
            "text/plain": [
              "<PIL.Image.Image image mode=RGB size=182x57>"
            ]
          },
          "metadata": {},
          "output_type": "display_data"
        },
        {
          "name": "stdout",
          "output_type": "stream",
          "text": [
            "\n",
            "\n"
          ]
        },
        {
          "data": {
            "image/jpeg": "[encoded data removed]",
            "image/png": "[encoded data removed]",
            "text/plain": [
              "<PIL.Image.Image image mode=RGB size=185x51>"
            ]
          },
          "metadata": {},
          "output_type": "display_data"
        },
        {
          "name": "stdout",
          "output_type": "stream",
          "text": [
            "\n",
            "\n"
          ]
        }
      ],
      "source": [
        "# Check Matched Images\n",
        "# You can access the other two matched images using:\n",
        "\n",
        "print(\"---------------Matched Images------------------\\n\")\n",
        "display_images(\n",
        "    [\n",
        "        matching_results_image_query_1[0][\"img_path\"],\n",
        "        matching_results_image_query_1[1][\"img_path\"],\n",
        "        matching_results_image_query_1[2][\"img_path\"],\n",
        "        matching_results_image_query_1[3][\"img_path\"],\n",
        "        matching_results_image_query_1[4][\"img_path\"],\n",
        "    ],\n",
        "    resize_ratio=0.2,\n",
        ")"
      ]
    },
    {
      "cell_type": "code",
      "execution_count": 27,
      "metadata": {
        "id": "fSR_JWkSC_7p",
        "tags": []
      },
      "outputs": [],
      "source": [
        "prompt = f\"\"\"Task: Answer the following questions in detail, providing clear reasoning and evidence from the images in bullet points.\n",
        "Instructions:\n",
        "1. Analyze the provided images focusing on the relationship between TPU v5e scaling efficiency, LLM model size growth, performance metrics, and quantization effects.\n",
        "2. Answer the following questions in detail, providing clear reasoning and evidence from the images in bullet points\n",
        "3. Cite the image sources to support your explanations. Mention the file name.\n",
        "\n",
        "Additional Considerations:\n",
        "* Clearly define any technical terms (e.g., EMFU, TFLOP/chip/s) within your answers for better understanding.\n",
        "* Use specific examples and data points from the images to support your explanations.\n",
        "* Feel free to request additional information or clarification if the images are unclear or ambiguous.\n",
        "\n",
        "Question:\n",
        " - How does the scaling efficiency of TPU v5e compare to the overall growth in LLM model size over time?\n",
        " - How does the model size impact the observed Per-chip performance and EMFU for a fixed number of TPU v5e chips (e.g., 256)?\n",
        " - For the INT8 Quant training with 32B parameters, how does its high EMFU relate to the observed TFLOP/chip/s?\n",
        " - how does the \"per device batch (seq)\" for a 16B model compare to a 128B model, and how does this affect the \"Total observed Perf\"?\n",
        " - how might the MFU be impacted by increasing LLM model size?\n",
        "\"\"\""
      ]
    },
    {
      "cell_type": "code",
      "execution_count": 28,
      "metadata": {
        "colab": {
          "base_uri": "https://localhost:8080/",
          "height": 1000
        },
        "id": "wYkzpB4PTSfm",
        "outputId": "d9d03602-2d6b-4389-d2d2-66be50cb1660",
        "tags": []
      },
      "outputs": [
        {
          "name": "stdout",
          "output_type": "stream",
          "text": [
            "\n",
            " **** Result: ***** \n",
            "\n",
            "CPU times: total: 0 ns\n",
            "Wall time: 1.71 s\n"
          ]
        },
        {
          "data": {
            "text/html": [
              "<pre style=\"white-space:pre;overflow-x:auto;line-height:normal;font-family:Menlo,'DejaVu Sans Mono',consolas,'Courier New',monospace\">Apologies, but the provided images do not contain any information about TPU v5e scaling efficiency, LLM model size,\n",
              "performance metrics, or quantization effects. They focus on financial data related to Intel Corporation, including \n",
              "stock performance, cash flow, R&amp;D investments, and shareholder returns.                                            \n",
              "\n",
              "Therefore, I cannot answer your questions based on these images. Please provide the correct images related to TPU  \n",
              "v5e and LLM performance for me to address your questions.                                                          \n",
              "</pre>\n"
            ],
            "text/plain": [
              "Apologies, but the provided images do not contain any information about TPU v5e scaling efficiency, LLM model size,\n",
              "performance metrics, or quantization effects. They focus on financial data related to Intel Corporation, including \n",
              "stock performance, cash flow, R&D investments, and shareholder returns.                                            \n",
              "\n",
              "Therefore, I cannot answer your questions based on these images. Please provide the correct images related to TPU  \n",
              "v5e and LLM performance for me to address your questions.                                                          \n"
            ]
          },
          "execution_count": 28,
          "metadata": {},
          "output_type": "execute_result"
        }
      ],
      "source": [
        "%%time\n",
        "# Generate response with Gemini 2.0 Flash\n",
        "print(\"\\n **** Result: ***** \\n\")\n",
        "rich_Markdown(\n",
        "    get_gemini_response(\n",
        "        multimodal_model_2_0_flash,\n",
        "        model_input=[\n",
        "            prompt,\n",
        "            \"Images:\",\n",
        "            matching_results_image_query_1[0][\"image_object\"],\n",
        "            matching_results_image_query_1[1][\"image_object\"],\n",
        "            matching_results_image_query_1[2][\"image_object\"],\n",
        "            matching_results_image_query_1[3][\"image_object\"],\n",
        "            matching_results_image_query_1[4][\"image_object\"],\n",
        "        ],\n",
        "        stream=True,\n",
        "        safety_settings=safety_settings,\n",
        "        generation_config=GenerationConfig(temperature=1, max_output_tokens=8192),\n",
        "    )\n",
        ")"
      ]
    },
    {
      "cell_type": "markdown",
      "metadata": {
        "id": "efJPPrzRhvIT"
      },
      "source": [
        "## Building Multimodal QA System with retrieval augmented generation (mRAG)\n",
        "\n",
        "Let's bring everything together to implement multimodal RAG. You will use all the elements that you've explored in previous sections to implement the multimodal RAG. These are the steps:\n",
        "\n",
        "* **Step 1:** The user gives a query in text format where the expected information is available in the document and is embedded in images and text.\n",
        "* **Step 2:** Find all text chunks from the pages in the documents using a method similar to the one you explored in `Text Search`.\n",
        "* **Step 3:** Find all similar images from the pages based on the user query matched with `image_description` using a method identical to the one you explored in `Image Search`.\n",
        "* **Step 4:** Combine all similar text and images found in steps 2 and 3 as `context_text` and `context_images`.\n",
        "* **Step 5:** With the help of Gemini, we can pass the user query with text and image context found in steps 2 & 3. You can also add a specific instruction the model should remember while answering the user query.\n",
        "* **Step 6:** Gemini produces the answer, and you can print the citations to check all relevant text and images used to address the query."
      ]
    },
    {
      "cell_type": "markdown",
      "metadata": {
        "id": "EI62Hzuw_0_b"
      },
      "source": [
        "### Step 1: User query"
      ]
    },
    {
      "cell_type": "code",
      "execution_count": 29,
      "metadata": {
        "id": "XvTKFwOPHLQ_",
        "tags": []
      },
      "outputs": [],
      "source": [
        "# this time we are not passing any images, but just a simple text query.\n",
        "\n",
        "query = \"\"\"- Based on the chart, how would you describe the relationship between the absolute spending on Research and Development (in $B) and its value as a percentage of total revenue from 2022 to 2024?\n",
        " - According to this chart, what major trend is observed for both \"Cash from Operating Activities\" and \"Adjusted Free Cash Flow\" between 2020 and 2024, and what does the widening gap between the two metrics in recent years imply?\n",
        " - Looking at the \"Cash to Stockholders\" graph, what significant shift in capital return strategy is evident between 2020 and 2024, particularly concerning share repurchases?\n",
        " - How has Intel Corporation's stock performance compared to the SOX (PHLX Semiconductor Sector) Index over the five-year period shown, and what was the approximate final value of a $100 investment in Intel versus the SOX Index in 2024?\n",
        " - Based on the financial data provided, what line item is the primary driver of the negative \"Adjusted free cash flow\" in the years 2022, 2023, and 2024?\n",
        " \"\"\""
      ]
    },
    {
      "cell_type": "markdown",
      "metadata": {
        "id": "UUqlkKUaYvZA"
      },
      "source": [
        "### Step 2: Get all relevant text chunks"
      ]
    },
    {
      "cell_type": "code",
      "execution_count": 30,
      "metadata": {
        "id": "r65yBb5gR_NG",
        "tags": []
      },
      "outputs": [],
      "source": [
        "# Retrieve relevant chunks of text based on the query\n",
        "matching_results_chunks_data = get_similar_text_from_query(\n",
        "    query,\n",
        "    text_metadata_df,\n",
        "    column_name=\"text_embedding_chunk\",\n",
        "    top_n=20,   \n",
        "    chunk_text=True,\n",
        ")"
      ]
    },
    {
      "cell_type": "markdown",
      "metadata": {
        "id": "mIgXgVIpYzxj"
      },
      "source": [
        "### Step 3: Get all relevant images"
      ]
    },
    {
      "cell_type": "code",
      "execution_count": 31,
      "metadata": {
        "id": "wzu5Gf4yR_J4",
        "tags": []
      },
      "outputs": [],
      "source": [
        "# Get all relevant images based on user query\n",
        "matching_results_image_fromdescription_data = get_similar_image_from_query(\n",
        "    text_metadata_df,\n",
        "    image_metadata_df,\n",
        "    query=query,\n",
        "    column_name=\"text_embedding_from_image_description\",\n",
        "    image_emb=False,\n",
        "    top_n=10,\n",
        "    embedding_size=1408,\n",
        ")"
      ]
    },
    {
      "cell_type": "markdown",
      "metadata": {
        "id": "RhUpWlGAY2uG"
      },
      "source": [
        "### Step 4: Create context_text and context_images"
      ]
    },
    {
      "cell_type": "code",
      "execution_count": 32,
      "metadata": {
        "id": "B_EEuuLCe6Y5",
        "tags": []
      },
      "outputs": [],
      "source": [
        "instruction = \"\"\"Task: Answer the following questions in detail, providing clear reasoning and evidence from the images and text in bullet points.\n",
        "Instructions:\n",
        "\n",
        "1. **Analyze:** Carefully examine the provided images and text context.\n",
        "2. **Synthesize:** Integrate information from both the visual and textual elements.\n",
        "3. **Reason:**  Deduce logical connections and inferences to address the question.\n",
        "4. **Respond:** Provide a concise, accurate answer in the following format:\n",
        "\n",
        "   * **Question:** [Question]\n",
        "   * **Answer:** [Direct response to the question]\n",
        "   * **Explanation:** [Bullet-point reasoning steps if applicable]\n",
        "   * **Source** [name of the file, page, image from where the information is citied]\n",
        "\n",
        "5. **Ambiguity:** If the context is insufficient to answer, respond \"Not enough context to answer.\"\n",
        "\n",
        "\"\"\"\n",
        "\n",
        "# combine all the selected relevant text chunks\n",
        "context_text = [\"Text Context: \"]\n",
        "for key, value in matching_results_chunks_data.items():\n",
        "    context_text.extend(\n",
        "        [\n",
        "            \"Text Source: \",\n",
        "            f\"\"\"file_name: \"{value[\"file_name\"]}\" Page: \"{value[\"page_num\"]}\"\"\",\n",
        "            \"Text\",\n",
        "            value[\"chunk_text\"],\n",
        "        ]\n",
        "    )\n",
        "\n",
        "# combine all the selected relevant images\n",
        "gemini_content = [\n",
        "    instruction,\n",
        "    \"Questions: \",\n",
        "    query,\n",
        "    \"Image Context: \",\n",
        "]\n",
        "for key, value in matching_results_image_fromdescription_data.items():\n",
        "    gemini_content.extend(\n",
        "        [\n",
        "            \"Image Path: \",\n",
        "            value[\"img_path\"],\n",
        "            \"Image Description: \",\n",
        "            value[\"image_description\"],\n",
        "            \"Image:\",\n",
        "            value[\"image_object\"],\n",
        "        ]\n",
        "    )\n",
        "gemini_content.extend(context_text)"
      ]
    },
    {
      "cell_type": "markdown",
      "metadata": {
        "id": "rHrtodcBAEu9"
      },
      "source": [
        "### Step 5: Pass context to Gemini"
      ]
    },
    {
      "cell_type": "code",
      "execution_count": 33,
      "metadata": {
        "colab": {
          "base_uri": "https://localhost:8080/",
          "height": 1000
        },
        "id": "aZuhtJu7fW4n",
        "outputId": "e750c25a-e930-4cc1-e67a-453c1645365a",
        "tags": []
      },
      "outputs": [
        {
          "data": {
            "text/html": [
              "<pre style=\"white-space:pre;overflow-x:auto;line-height:normal;font-family:Menlo,'DejaVu Sans Mono',consolas,'Courier New',monospace\">Here are the answers to your questions, based on the provided text and images:                                     \n",
              "\n",
              "<span style=\"color: #808000; text-decoration-color: #808000; font-weight: bold\"> • </span><span style=\"font-weight: bold\">Question:</span> Based on the chart, how would you describe the relationship between the absolute spending on Research \n",
              "<span style=\"color: #808000; text-decoration-color: #808000; font-weight: bold\">   </span>and Development (in $B) and its value as a percentage of total revenue from 2022 to 2024?                       \n",
              "<span style=\"color: #808000; text-decoration-color: #808000; font-weight: bold\"> • </span><span style=\"font-weight: bold\">Answer:</span> While absolute spending on Research and Development decreased from 2022 to 2024, its value as a         \n",
              "<span style=\"color: #808000; text-decoration-color: #808000; font-weight: bold\">   </span>percentage of total revenue increased.                                                                          \n",
              "<span style=\"color: #808000; text-decoration-color: #808000; font-weight: bold\"> • </span><span style=\"font-weight: bold\">Explanation:</span>                                                                                                    \n",
              "<span style=\"color: #808000; text-decoration-color: #808000; font-weight: bold\">    • </span>Research and Development spending in $B: 2022: $17.5B, 2023: $16.0B, 2024: $16.5B.  The spending decreases   \n",
              "<span style=\"color: #808000; text-decoration-color: #808000; font-weight: bold\">      </span>from 2022 to 2023, and then increases from 2023 to 2024, but it is still less than it was in 2022.           \n",
              "<span style=\"color: #808000; text-decoration-color: #808000; font-weight: bold\">    • </span>Research and Development as a percentage of total revenue: 2022: 27.8%, 2023: 29.6%, 2024: 31.2%. The        \n",
              "<span style=\"color: #808000; text-decoration-color: #808000; font-weight: bold\">      </span>percentage consistently increased from 2022 to 2024.                                                         \n",
              "<span style=\"color: #808000; text-decoration-color: #808000; font-weight: bold\"> • </span><span style=\"font-weight: bold\">Source:</span> images\\intel.pdf_image_0_0_21.png                                                                       \n",
              "<span style=\"color: #808000; text-decoration-color: #808000; font-weight: bold\"> • </span><span style=\"font-weight: bold\">Question:</span> According to this chart, what major trend is observed for both \"Cash from Operating Activities\" and   \n",
              "<span style=\"color: #808000; text-decoration-color: #808000; font-weight: bold\">   </span>\"Adjusted Free Cash Flow\" between 2020 and 2024, and what does the widening gap between the two metrics in      \n",
              "<span style=\"color: #808000; text-decoration-color: #808000; font-weight: bold\">   </span>recent years imply?                                                                                             \n",
              "<span style=\"color: #808000; text-decoration-color: #808000; font-weight: bold\"> • </span><span style=\"font-weight: bold\">Answer:</span> Both \"Cash from Operating Activities\" and \"Adjusted Free Cash Flow\" show a decreasing trend from 2020 to\n",
              "<span style=\"color: #808000; text-decoration-color: #808000; font-weight: bold\">   </span>2024. The widening gap between the two metrics in recent years implies increasing capital expenditures or other \n",
              "<span style=\"color: #808000; text-decoration-color: #808000; font-weight: bold\">   </span>factors are negatively impacting the adjusted free cash flow compared to the cash generated from operations.    \n",
              "<span style=\"color: #808000; text-decoration-color: #808000; font-weight: bold\"> • </span><span style=\"font-weight: bold\">Explanation:</span>                                                                                                    \n",
              "<span style=\"color: #808000; text-decoration-color: #808000; font-weight: bold\">    • </span>The values for \"Cash from Operating Activities\" are: 2020: $35.9B, 2021: $29.5B, 2022: $15.4B, 2023: $11.5B, \n",
              "<span style=\"color: #808000; text-decoration-color: #808000; font-weight: bold\">      </span>2024: $8.3B.                                                                                                 \n",
              "<span style=\"color: #808000; text-decoration-color: #808000; font-weight: bold\">    • </span>The values for \"Adjusted Free Cash Flow\" are: 2020: $21.8B, 2021: $10.9B, 2022: $(4.1)B, 2023: $(11.9)B,     \n",
              "<span style=\"color: #808000; text-decoration-color: #808000; font-weight: bold\">      </span>2024: $(2.2)B.                                                                                               \n",
              "<span style=\"color: #808000; text-decoration-color: #808000; font-weight: bold\">    • </span>The difference between Cash from Operating Activities and Adjusted Free Cash Flow is getting bigger between  \n",
              "<span style=\"color: #808000; text-decoration-color: #808000; font-weight: bold\">      </span>2020 and 2024. This is also clear because adjusted free cash flow goes negative in 2022-2024.                \n",
              "<span style=\"color: #808000; text-decoration-color: #808000; font-weight: bold\"> • </span><span style=\"font-weight: bold\">Source:</span> images\\intel.pdf_image_1_0_24.png                                                                       \n",
              "<span style=\"color: #808000; text-decoration-color: #808000; font-weight: bold\"> • </span><span style=\"font-weight: bold\">Question:</span> Looking at the \"Cash to Stockholders\" graph, what significant shift in capital return strategy is     \n",
              "<span style=\"color: #808000; text-decoration-color: #808000; font-weight: bold\">   </span>evident between 2020 and 2024, particularly concerning share repurchases?                                       \n",
              "<span style=\"color: #808000; text-decoration-color: #808000; font-weight: bold\"> • </span><span style=\"font-weight: bold\">Answer:</span> There is a significant shift in capital return strategy with a substantial decrease in share repurchases\n",
              "<span style=\"color: #808000; text-decoration-color: #808000; font-weight: bold\">   </span>from 2020 to 2024, with the amount spent on repurchases dramatically decreasing over the years.                 \n",
              "<span style=\"color: #808000; text-decoration-color: #808000; font-weight: bold\"> • </span><span style=\"font-weight: bold\">Explanation:</span>                                                                                                    \n",
              "<span style=\"color: #808000; text-decoration-color: #808000; font-weight: bold\">    • </span>Cash to Stockholders: 2020 - $14.2B (Repurchases) + $5.6B (Dividends); 2021 - $2.4B (Repurchases) + $5.6B    \n",
              "<span style=\"color: #808000; text-decoration-color: #808000; font-weight: bold\">      </span>(Dividends); 2022 - $6.0B (Dividends); 2023 - $3.1B (Dividends); 2024 - $1.6B (Dividends).  Repurchases      \n",
              "<span style=\"color: #808000; text-decoration-color: #808000; font-weight: bold\">      </span>decreased significantly and dividends also decreased. The text also confirms that the most recent repurchase \n",
              "<span style=\"color: #808000; text-decoration-color: #808000; font-weight: bold\">      </span>was in the first quarter of 2021, and dividends were suspended starting in Q4 2024.                          \n",
              "<span style=\"color: #808000; text-decoration-color: #808000; font-weight: bold\"> • </span><span style=\"font-weight: bold\">Source:</span> images\\intel.pdf_image_1_1_25.png, data\\intel.pdf - Page:2                                              \n",
              "<span style=\"color: #808000; text-decoration-color: #808000; font-weight: bold\"> • </span><span style=\"font-weight: bold\">Question:</span> How has Intel Corporation's stock performance compared to the SOX (PHLX Semiconductor Sector) Index   \n",
              "<span style=\"color: #808000; text-decoration-color: #808000; font-weight: bold\">   </span>over the five-year period shown, and what was the approximate final value of a $100 investment in Intel versus  \n",
              "<span style=\"color: #808000; text-decoration-color: #808000; font-weight: bold\">   </span>the SOX Index in 2024?                                                                                          \n",
              "<span style=\"color: #808000; text-decoration-color: #808000; font-weight: bold\"> • </span><span style=\"font-weight: bold\">Answer:</span> Intel's stock performance significantly underperformed the SOX Index over the five-year period. A $100  \n",
              "<span style=\"color: #808000; text-decoration-color: #808000; font-weight: bold\">   </span>investment in Intel in 2019 would have been worth approximately $50 in 2024, while a $100 investment in the SOX \n",
              "<span style=\"color: #808000; text-decoration-color: #808000; font-weight: bold\">   </span>Index would have been worth approximately $310 in 2024.                                                         \n",
              "<span style=\"color: #808000; text-decoration-color: #808000; font-weight: bold\"> • </span><span style=\"font-weight: bold\">Explanation:</span>                                                                                                    \n",
              "<span style=\"color: #808000; text-decoration-color: #808000; font-weight: bold\">    • </span>In 2024, the Intel Corporation line on the graph is at approximately $50.                                    \n",
              "<span style=\"color: #808000; text-decoration-color: #808000; font-weight: bold\">    • </span>In 2024, the SOX Index line on the graph is at approximately $310.                                           \n",
              "<span style=\"color: #808000; text-decoration-color: #808000; font-weight: bold\"> • </span><span style=\"font-weight: bold\">Source:</span> images\\intel.pdf_image_2_0_28.png                                                                       \n",
              "<span style=\"color: #808000; text-decoration-color: #808000; font-weight: bold\"> • </span><span style=\"font-weight: bold\">Question:</span> Based on the financial data provided, what line item is the primary driver of the negative \"Adjusted  \n",
              "<span style=\"color: #808000; text-decoration-color: #808000; font-weight: bold\">   </span>free cash flow\" in the years 2022, 2023, and 2024?                                                              \n",
              "<span style=\"color: #808000; text-decoration-color: #808000; font-weight: bold\"> • </span><span style=\"font-weight: bold\">Answer:</span> The primary driver of the negative \"Adjusted free cash flow\" in the years 2022, 2023, and 2024 is the   \n",
              "<span style=\"color: #808000; text-decoration-color: #808000; font-weight: bold\">   </span>\"Net purchase of property, plant, and equipment\".                                                               \n",
              "<span style=\"color: #808000; text-decoration-color: #808000; font-weight: bold\"> • </span><span style=\"font-weight: bold\">Explanation:</span>                                                                                                    \n",
              "<span style=\"color: #808000; text-decoration-color: #808000; font-weight: bold\">    • </span>Adjusted free cash flow = Net cash provided by operating activities - Net purchase of property, plant, and   \n",
              "<span style=\"color: #808000; text-decoration-color: #808000; font-weight: bold\">      </span>equipment - Payments on finance leases + Sale of equity investment.                                          \n",
              "<span style=\"color: #808000; text-decoration-color: #808000; font-weight: bold\">    • </span>\"Net cash provided by (used for) operating activities\" is positive for 2022, 2023 and 2024.                  \n",
              "<span style=\"color: #808000; text-decoration-color: #808000; font-weight: bold\">    • </span>\"Net purchase of property, plant, and equipment\" is negative and large for 2022, 2023 and 2024.              \n",
              "<span style=\"color: #808000; text-decoration-color: #808000; font-weight: bold\">    • </span>\"Payments on finance leases\" is negative, but very small for 2022, 2023 and 2024.                            \n",
              "<span style=\"color: #808000; text-decoration-color: #808000; font-weight: bold\">    • </span>\"Sale of equity investment\" is only in 2022, and not significant enough to counter balance the \"Net purchase \n",
              "<span style=\"color: #808000; text-decoration-color: #808000; font-weight: bold\">      </span>of property, plant, and equipment\".                                                                          \n",
              "<span style=\"color: #808000; text-decoration-color: #808000; font-weight: bold\">    • </span>Therefore, Net purchase of property, plant, and equipment is the primary driver of the negative adjusted free\n",
              "<span style=\"color: #808000; text-decoration-color: #808000; font-weight: bold\">      </span>cash flow in the years 2022, 2023 and 2024.                                                                  \n",
              "<span style=\"color: #808000; text-decoration-color: #808000; font-weight: bold\"> • </span><span style=\"font-weight: bold\">Source:</span> images\\intel.pdf_image_3_0_31.png                                                                       \n",
              "</pre>\n"
            ],
            "text/plain": [
              "Here are the answers to your questions, based on the provided text and images:                                     \n",
              "\n",
              "\u001b[1;33m • \u001b[0m\u001b[1mQuestion:\u001b[0m Based on the chart, how would you describe the relationship between the absolute spending on Research \n",
              "\u001b[1;33m   \u001b[0mand Development (in $B) and its value as a percentage of total revenue from 2022 to 2024?                       \n",
              "\u001b[1;33m • \u001b[0m\u001b[1mAnswer:\u001b[0m While absolute spending on Research and Development decreased from 2022 to 2024, its value as a         \n",
              "\u001b[1;33m   \u001b[0mpercentage of total revenue increased.                                                                          \n",
              "\u001b[1;33m • \u001b[0m\u001b[1mExplanation:\u001b[0m                                                                                                    \n",
              "\u001b[1;33m   \u001b[0m\u001b[1;33m • \u001b[0mResearch and Development spending in $B: 2022: $17.5B, 2023: $16.0B, 2024: $16.5B.  The spending decreases   \n",
              "\u001b[1;33m   \u001b[0m\u001b[1;33m   \u001b[0mfrom 2022 to 2023, and then increases from 2023 to 2024, but it is still less than it was in 2022.           \n",
              "\u001b[1;33m   \u001b[0m\u001b[1;33m • \u001b[0mResearch and Development as a percentage of total revenue: 2022: 27.8%, 2023: 29.6%, 2024: 31.2%. The        \n",
              "\u001b[1;33m   \u001b[0m\u001b[1;33m   \u001b[0mpercentage consistently increased from 2022 to 2024.                                                         \n",
              "\u001b[1;33m • \u001b[0m\u001b[1mSource:\u001b[0m images\\intel.pdf_image_0_0_21.png                                                                       \n",
              "\u001b[1;33m • \u001b[0m\u001b[1mQuestion:\u001b[0m According to this chart, what major trend is observed for both \"Cash from Operating Activities\" and   \n",
              "\u001b[1;33m   \u001b[0m\"Adjusted Free Cash Flow\" between 2020 and 2024, and what does the widening gap between the two metrics in      \n",
              "\u001b[1;33m   \u001b[0mrecent years imply?                                                                                             \n",
              "\u001b[1;33m • \u001b[0m\u001b[1mAnswer:\u001b[0m Both \"Cash from Operating Activities\" and \"Adjusted Free Cash Flow\" show a decreasing trend from 2020 to\n",
              "\u001b[1;33m   \u001b[0m2024. The widening gap between the two metrics in recent years implies increasing capital expenditures or other \n",
              "\u001b[1;33m   \u001b[0mfactors are negatively impacting the adjusted free cash flow compared to the cash generated from operations.    \n",
              "\u001b[1;33m • \u001b[0m\u001b[1mExplanation:\u001b[0m                                                                                                    \n",
              "\u001b[1;33m   \u001b[0m\u001b[1;33m • \u001b[0mThe values for \"Cash from Operating Activities\" are: 2020: $35.9B, 2021: $29.5B, 2022: $15.4B, 2023: $11.5B, \n",
              "\u001b[1;33m   \u001b[0m\u001b[1;33m   \u001b[0m2024: $8.3B.                                                                                                 \n",
              "\u001b[1;33m   \u001b[0m\u001b[1;33m • \u001b[0mThe values for \"Adjusted Free Cash Flow\" are: 2020: $21.8B, 2021: $10.9B, 2022: $(4.1)B, 2023: $(11.9)B,     \n",
              "\u001b[1;33m   \u001b[0m\u001b[1;33m   \u001b[0m2024: $(2.2)B.                                                                                               \n",
              "\u001b[1;33m   \u001b[0m\u001b[1;33m • \u001b[0mThe difference between Cash from Operating Activities and Adjusted Free Cash Flow is getting bigger between  \n",
              "\u001b[1;33m   \u001b[0m\u001b[1;33m   \u001b[0m2020 and 2024. This is also clear because adjusted free cash flow goes negative in 2022-2024.                \n",
              "\u001b[1;33m • \u001b[0m\u001b[1mSource:\u001b[0m images\\intel.pdf_image_1_0_24.png                                                                       \n",
              "\u001b[1;33m • \u001b[0m\u001b[1mQuestion:\u001b[0m Looking at the \"Cash to Stockholders\" graph, what significant shift in capital return strategy is     \n",
              "\u001b[1;33m   \u001b[0mevident between 2020 and 2024, particularly concerning share repurchases?                                       \n",
              "\u001b[1;33m • \u001b[0m\u001b[1mAnswer:\u001b[0m There is a significant shift in capital return strategy with a substantial decrease in share repurchases\n",
              "\u001b[1;33m   \u001b[0mfrom 2020 to 2024, with the amount spent on repurchases dramatically decreasing over the years.                 \n",
              "\u001b[1;33m • \u001b[0m\u001b[1mExplanation:\u001b[0m                                                                                                    \n",
              "\u001b[1;33m   \u001b[0m\u001b[1;33m • \u001b[0mCash to Stockholders: 2020 - $14.2B (Repurchases) + $5.6B (Dividends); 2021 - $2.4B (Repurchases) + $5.6B    \n",
              "\u001b[1;33m   \u001b[0m\u001b[1;33m   \u001b[0m(Dividends); 2022 - $6.0B (Dividends); 2023 - $3.1B (Dividends); 2024 - $1.6B (Dividends).  Repurchases      \n",
              "\u001b[1;33m   \u001b[0m\u001b[1;33m   \u001b[0mdecreased significantly and dividends also decreased. The text also confirms that the most recent repurchase \n",
              "\u001b[1;33m   \u001b[0m\u001b[1;33m   \u001b[0mwas in the first quarter of 2021, and dividends were suspended starting in Q4 2024.                          \n",
              "\u001b[1;33m • \u001b[0m\u001b[1mSource:\u001b[0m images\\intel.pdf_image_1_1_25.png, data\\intel.pdf - Page:2                                              \n",
              "\u001b[1;33m • \u001b[0m\u001b[1mQuestion:\u001b[0m How has Intel Corporation's stock performance compared to the SOX (PHLX Semiconductor Sector) Index   \n",
              "\u001b[1;33m   \u001b[0mover the five-year period shown, and what was the approximate final value of a $100 investment in Intel versus  \n",
              "\u001b[1;33m   \u001b[0mthe SOX Index in 2024?                                                                                          \n",
              "\u001b[1;33m • \u001b[0m\u001b[1mAnswer:\u001b[0m Intel's stock performance significantly underperformed the SOX Index over the five-year period. A $100  \n",
              "\u001b[1;33m   \u001b[0minvestment in Intel in 2019 would have been worth approximately $50 in 2024, while a $100 investment in the SOX \n",
              "\u001b[1;33m   \u001b[0mIndex would have been worth approximately $310 in 2024.                                                         \n",
              "\u001b[1;33m • \u001b[0m\u001b[1mExplanation:\u001b[0m                                                                                                    \n",
              "\u001b[1;33m   \u001b[0m\u001b[1;33m • \u001b[0mIn 2024, the Intel Corporation line on the graph is at approximately $50.                                    \n",
              "\u001b[1;33m   \u001b[0m\u001b[1;33m • \u001b[0mIn 2024, the SOX Index line on the graph is at approximately $310.                                           \n",
              "\u001b[1;33m • \u001b[0m\u001b[1mSource:\u001b[0m images\\intel.pdf_image_2_0_28.png                                                                       \n",
              "\u001b[1;33m • \u001b[0m\u001b[1mQuestion:\u001b[0m Based on the financial data provided, what line item is the primary driver of the negative \"Adjusted  \n",
              "\u001b[1;33m   \u001b[0mfree cash flow\" in the years 2022, 2023, and 2024?                                                              \n",
              "\u001b[1;33m • \u001b[0m\u001b[1mAnswer:\u001b[0m The primary driver of the negative \"Adjusted free cash flow\" in the years 2022, 2023, and 2024 is the   \n",
              "\u001b[1;33m   \u001b[0m\"Net purchase of property, plant, and equipment\".                                                               \n",
              "\u001b[1;33m • \u001b[0m\u001b[1mExplanation:\u001b[0m                                                                                                    \n",
              "\u001b[1;33m   \u001b[0m\u001b[1;33m • \u001b[0mAdjusted free cash flow = Net cash provided by operating activities - Net purchase of property, plant, and   \n",
              "\u001b[1;33m   \u001b[0m\u001b[1;33m   \u001b[0mequipment - Payments on finance leases + Sale of equity investment.                                          \n",
              "\u001b[1;33m   \u001b[0m\u001b[1;33m • \u001b[0m\"Net cash provided by (used for) operating activities\" is positive for 2022, 2023 and 2024.                  \n",
              "\u001b[1;33m   \u001b[0m\u001b[1;33m • \u001b[0m\"Net purchase of property, plant, and equipment\" is negative and large for 2022, 2023 and 2024.              \n",
              "\u001b[1;33m   \u001b[0m\u001b[1;33m • \u001b[0m\"Payments on finance leases\" is negative, but very small for 2022, 2023 and 2024.                            \n",
              "\u001b[1;33m   \u001b[0m\u001b[1;33m • \u001b[0m\"Sale of equity investment\" is only in 2022, and not significant enough to counter balance the \"Net purchase \n",
              "\u001b[1;33m   \u001b[0m\u001b[1;33m   \u001b[0mof property, plant, and equipment\".                                                                          \n",
              "\u001b[1;33m   \u001b[0m\u001b[1;33m • \u001b[0mTherefore, Net purchase of property, plant, and equipment is the primary driver of the negative adjusted free\n",
              "\u001b[1;33m   \u001b[0m\u001b[1;33m   \u001b[0mcash flow in the years 2022, 2023 and 2024.                                                                  \n",
              "\u001b[1;33m • \u001b[0m\u001b[1mSource:\u001b[0m images\\intel.pdf_image_3_0_31.png                                                                       \n"
            ]
          },
          "execution_count": 33,
          "metadata": {},
          "output_type": "execute_result"
        }
      ],
      "source": [
        "# Generate Gemini response with streaming output\n",
        "rich_Markdown(\n",
        "    get_gemini_response(\n",
        "        multimodal_model_2_0_flash,\n",
        "        model_input=gemini_content,\n",
        "        stream=True,\n",
        "        safety_settings=safety_settings,\n",
        "        generation_config=GenerationConfig(temperature=1, max_output_tokens=8192),\n",
        "    )\n",
        ")"
      ]
    },
    {
      "cell_type": "markdown",
      "metadata": {
        "id": "L0FtXYl1fzKh"
      },
      "source": [
        "### Step 6: Print citations and references [Optional]"
      ]
    },
    {
      "cell_type": "markdown",
      "metadata": {
        "id": "voThgteH-Tm8"
      },
      "source": [
        "**Optional:** Uncomment to see the detailed citations."
      ]
    },
    {
      "cell_type": "code",
      "execution_count": 34,
      "metadata": {
        "id": "IYRLQ47or1I8",
        "tags": []
      },
      "outputs": [],
      "source": [
        "# print(\"---------------Matched Images------------------\\n\")\n",
        "# display_images(\n",
        "#     [\n",
        "#         matching_results_image_fromdescription_data[0][\"img_path\"],\n",
        "#         matching_results_image_fromdescription_data[1][\"img_path\"],\n",
        "#     ],\n",
        "#     resize_ratio=0.2,\n",
        "# )"
      ]
    },
    {
      "cell_type": "code",
      "execution_count": 35,
      "metadata": {
        "id": "buwd_gp6HJ5K",
        "tags": []
      },
      "outputs": [],
      "source": [
        "# # Image citations. You can check how Gemini generated metadata helped in grounding the answer.\n",
        "\n",
        "# print_text_to_image_citation(\n",
        "#     matching_results_image_fromdescription_data, print_top=True\n",
        "# )"
      ]
    },
    {
      "cell_type": "code",
      "execution_count": 36,
      "metadata": {
        "id": "06vYM4MOHJ1-",
        "tags": []
      },
      "outputs": [],
      "source": [
        "# # Text citations\n",
        "\n",
        "# print_text_to_text_citation(\n",
        "#     matching_results_chunks_data,\n",
        "#     print_top=True,\n",
        "#     chunk_text=True,\n",
        "# )"
      ]
    },
    {
      "cell_type": "markdown",
      "metadata": {
        "id": "gIVF-QHuGVDD"
      },
      "source": [
        "### Multimodal RAG"
      ]
    },
    {
      "cell_type": "markdown",
      "metadata": {
        "id": "U82wS4nIB8IS"
      },
      "source": [
        "### More questions with Multimodal QA System"
      ]
    },
    {
      "cell_type": "code",
      "execution_count": 37,
      "metadata": {
        "colab": {
          "base_uri": "https://localhost:8080/",
          "height": 1000
        },
        "id": "ZAyQVQ54B8X0",
        "outputId": "f47e0e1d-3e75-428b-9995-9eaacb22a2c9",
        "tags": []
      },
      "outputs": [
        {
          "data": {
            "text/html": [
              "<pre style=\"white-space:pre;overflow-x:auto;line-height:normal;font-family:Menlo,'DejaVu Sans Mono',consolas,'Courier New',monospace\">\n",
              "<span style=\"color: #808000; text-decoration-color: #808000; font-weight: bold\"> • </span><span style=\"font-weight: bold\">Question:</span> Imagine a patient presents with new onset prurigo nodularis. Could Med-Gemini-M 1.5 be used to analyze\n",
              "<span style=\"color: #808000; text-decoration-color: #808000; font-weight: bold\">   </span>dermatological images of the patient’s lesions in conjunction with a comprehensive history taken from an EHR    \n",
              "<span style=\"color: #808000; text-decoration-color: #808000; font-weight: bold\">   </span>dialogue to help a clinician reach a diagnosis and develop a treatment plan? What are the limitations and       \n",
              "<span style=\"color: #808000; text-decoration-color: #808000; font-weight: bold\">   </span>potential ethical considerations of using the model in this way?                                                \n",
              "<span style=\"color: #808000; text-decoration-color: #808000; font-weight: bold\"> • </span><span style=\"font-weight: bold\">Answer:</span> Not enough context to answer.                                                                           \n",
              "<span style=\"color: #808000; text-decoration-color: #808000; font-weight: bold\"> • </span><span style=\"font-weight: bold\">Explanation:</span> The provided context doesn't offer specifics on the capabilities of Med-Gemini-M 1.5 regarding     \n",
              "<span style=\"color: #808000; text-decoration-color: #808000; font-weight: bold\">   </span>dermatology or its limitations and ethical considerations in a clinical setting.                                \n",
              "<span style=\"color: #808000; text-decoration-color: #808000; font-weight: bold\"> • </span><span style=\"font-weight: bold\">Source:</span> N/A                                                                                                     \n",
              "<span style=\"color: #808000; text-decoration-color: #808000; font-weight: bold\"> • </span><span style=\"font-weight: bold\">Question:</span> The paper focuses on uncertainty-guided search for text-based reasoning tasks. How could this approach\n",
              "<span style=\"color: #808000; text-decoration-color: #808000; font-weight: bold\">   </span>be extended to multimodal tasks? For instance, if Med-Gemini-M 1.5 encounters uncertainty when analyzing a      \n",
              "<span style=\"color: #808000; text-decoration-color: #808000; font-weight: bold\">   </span>dermatology image, could it generate queries to search for relevant visual examples or supplemental clinical    \n",
              "<span style=\"color: #808000; text-decoration-color: #808000; font-weight: bold\">   </span>information to refine its interpretation?                                                                       \n",
              "<span style=\"color: #808000; text-decoration-color: #808000; font-weight: bold\"> • </span><span style=\"font-weight: bold\">Answer:</span> Not enough context to answer.                                                                           \n",
              "<span style=\"color: #808000; text-decoration-color: #808000; font-weight: bold\"> • </span><span style=\"font-weight: bold\">Explanation:</span> The provided context doesn't detail uncertainty-guided search or its application to multimodal     \n",
              "<span style=\"color: #808000; text-decoration-color: #808000; font-weight: bold\">   </span>tasks, specifically within Med-Gemini-M 1.5.                                                                    \n",
              "<span style=\"color: #808000; text-decoration-color: #808000; font-weight: bold\"> • </span><span style=\"font-weight: bold\">Source:</span> N/A                                                                                                     \n",
              "<span style=\"color: #808000; text-decoration-color: #808000; font-weight: bold\"> • </span><span style=\"font-weight: bold\">Question:</span> Considering the potential benefits and risks highlighted in the paper, what specific steps should be  \n",
              "<span style=\"color: #808000; text-decoration-color: #808000; font-weight: bold\">   </span>taken during the development, validation, and deployment of Med-Gemini models to ensure they are used safely,   \n",
              "<span style=\"color: #808000; text-decoration-color: #808000; font-weight: bold\">   </span>fairly, and effectively in real-world clinical settings? How can these steps be informed by ongoing             \n",
              "<span style=\"color: #808000; text-decoration-color: #808000; font-weight: bold\">   </span>collaboration between researchers, clinicians, regulators, and patient communities?                             \n",
              "<span style=\"color: #808000; text-decoration-color: #808000; font-weight: bold\"> • </span><span style=\"font-weight: bold\">Answer:</span> Not enough context to answer.                                                                           \n",
              "<span style=\"color: #808000; text-decoration-color: #808000; font-weight: bold\"> • </span><span style=\"font-weight: bold\">Explanation:</span> The provided context does not contain information about the benefits and risks associated with     \n",
              "<span style=\"color: #808000; text-decoration-color: #808000; font-weight: bold\">   </span>Med-Gemini models, nor does it specify the steps for safe, fair, and effective deployment in clinical settings. \n",
              "<span style=\"color: #808000; text-decoration-color: #808000; font-weight: bold\"> • </span><span style=\"font-weight: bold\">Source:</span> N/A                                                                                                     \n",
              "</pre>\n"
            ],
            "text/plain": [
              "\n",
              "\u001b[1;33m • \u001b[0m\u001b[1mQuestion:\u001b[0m Imagine a patient presents with new onset prurigo nodularis. Could Med-Gemini-M 1.5 be used to analyze\n",
              "\u001b[1;33m   \u001b[0mdermatological images of the patient’s lesions in conjunction with a comprehensive history taken from an EHR    \n",
              "\u001b[1;33m   \u001b[0mdialogue to help a clinician reach a diagnosis and develop a treatment plan? What are the limitations and       \n",
              "\u001b[1;33m   \u001b[0mpotential ethical considerations of using the model in this way?                                                \n",
              "\u001b[1;33m • \u001b[0m\u001b[1mAnswer:\u001b[0m Not enough context to answer.                                                                           \n",
              "\u001b[1;33m • \u001b[0m\u001b[1mExplanation:\u001b[0m The provided context doesn't offer specifics on the capabilities of Med-Gemini-M 1.5 regarding     \n",
              "\u001b[1;33m   \u001b[0mdermatology or its limitations and ethical considerations in a clinical setting.                                \n",
              "\u001b[1;33m • \u001b[0m\u001b[1mSource:\u001b[0m N/A                                                                                                     \n",
              "\u001b[1;33m • \u001b[0m\u001b[1mQuestion:\u001b[0m The paper focuses on uncertainty-guided search for text-based reasoning tasks. How could this approach\n",
              "\u001b[1;33m   \u001b[0mbe extended to multimodal tasks? For instance, if Med-Gemini-M 1.5 encounters uncertainty when analyzing a      \n",
              "\u001b[1;33m   \u001b[0mdermatology image, could it generate queries to search for relevant visual examples or supplemental clinical    \n",
              "\u001b[1;33m   \u001b[0minformation to refine its interpretation?                                                                       \n",
              "\u001b[1;33m • \u001b[0m\u001b[1mAnswer:\u001b[0m Not enough context to answer.                                                                           \n",
              "\u001b[1;33m • \u001b[0m\u001b[1mExplanation:\u001b[0m The provided context doesn't detail uncertainty-guided search or its application to multimodal     \n",
              "\u001b[1;33m   \u001b[0mtasks, specifically within Med-Gemini-M 1.5.                                                                    \n",
              "\u001b[1;33m • \u001b[0m\u001b[1mSource:\u001b[0m N/A                                                                                                     \n",
              "\u001b[1;33m • \u001b[0m\u001b[1mQuestion:\u001b[0m Considering the potential benefits and risks highlighted in the paper, what specific steps should be  \n",
              "\u001b[1;33m   \u001b[0mtaken during the development, validation, and deployment of Med-Gemini models to ensure they are used safely,   \n",
              "\u001b[1;33m   \u001b[0mfairly, and effectively in real-world clinical settings? How can these steps be informed by ongoing             \n",
              "\u001b[1;33m   \u001b[0mcollaboration between researchers, clinicians, regulators, and patient communities?                             \n",
              "\u001b[1;33m • \u001b[0m\u001b[1mAnswer:\u001b[0m Not enough context to answer.                                                                           \n",
              "\u001b[1;33m • \u001b[0m\u001b[1mExplanation:\u001b[0m The provided context does not contain information about the benefits and risks associated with     \n",
              "\u001b[1;33m   \u001b[0mMed-Gemini models, nor does it specify the steps for safe, fair, and effective deployment in clinical settings. \n",
              "\u001b[1;33m • \u001b[0m\u001b[1mSource:\u001b[0m N/A                                                                                                     \n"
            ]
          },
          "execution_count": 37,
          "metadata": {},
          "output_type": "execute_result"
        }
      ],
      "source": [
        "# Some questions to try\n",
        "# this time we are not passing any images, but just a simple text query.\n",
        "query = \"\"\"Question 1: Imagine a patient presents with new onset prurigo nodularis.\n",
        "Could Med-Gemini-M 1.5 be used to analyze dermatological images of the patient’s lesions in conjunction with a comprehensive history taken\n",
        "from an EHR dialogue to help a clinician reach a diagnosis and develop a treatment plan?\n",
        "What are the limitations and potential ethical considerations of using the model in this way?\n",
        "\n",
        "Question 2: The paper focuses on uncertainty-guided search for text-based reasoning tasks.\n",
        "How could this approach be extended to multimodal tasks?\n",
        "For instance, if Med-Gemini-M 1.5 encounters uncertainty when analyzing a dermatology image, could it generate queries to\n",
        "search for relevant visual examples or supplemental clinical information to refine its interpretation?\n",
        "\n",
        "Question 3:  Considering the potential benefits and risks highlighted in the paper, what specific steps should be taken during the development,\n",
        "validation, and deployment of Med-Gemini models to ensure they are used safely, fairly, and effectively in real-world clinical settings?\n",
        "How can these steps be informed by ongoing collaboration between researchers, clinicians, regulators, and patient communities?\n",
        " \"\"\"\n",
        "\n",
        "(\n",
        "    response,\n",
        "    matching_results_chunks_data,\n",
        "    matching_results_image_fromdescription_data,\n",
        ") = get_answer_from_qa_system(\n",
        "    query,\n",
        "    text_metadata_df,\n",
        "    image_metadata_df,\n",
        "    top_n_text=10,\n",
        "    top_n_image=5,\n",
        "    model=multimodal_model_2_0_flash,\n",
        "    safety_settings=safety_settings,\n",
        "    generation_config=GenerationConfig(temperature=1, max_output_tokens=8192),\n",
        ")\n",
        "\n",
        "rich_Markdown(response)"
      ]
    },
    {
      "cell_type": "code",
      "execution_count": 38,
      "metadata": {
        "colab": {
          "base_uri": "https://localhost:8080/",
          "height": 628
        },
        "id": "dTHdui6jCHzc",
        "outputId": "6ee15be8-fede-448b-c2a2-a74bac3228d3",
        "tags": []
      },
      "outputs": [
        {
          "data": {
            "text/html": [
              "<pre style=\"white-space:pre;overflow-x:auto;line-height:normal;font-family:Menlo,'DejaVu Sans Mono',consolas,'Courier New',monospace\">\n",
              "<span style=\"color: #808000; text-decoration-color: #808000; font-weight: bold\"> • </span><span style=\"font-weight: bold\">Question:</span> How does the mixture-of-experts architecture in Gemini 1.5 Pro contribute to its ability to handle    \n",
              "<span style=\"color: #808000; text-decoration-color: #808000; font-weight: bold\">   </span>long context while maintaining performance on core capabilities? Discuss the potential trade-offs involved.     \n",
              "<span style=\"color: #808000; text-decoration-color: #808000; font-weight: bold\"> • </span><span style=\"font-weight: bold\">Answer:</span> Not enough context to answer.                                                                           \n",
              "<span style=\"color: #808000; text-decoration-color: #808000; font-weight: bold\"> • </span><span style=\"font-weight: bold\">Explanation:</span> The provided documents do not mention Gemini 1.5 Pro or any details about its architecture.        \n",
              "<span style=\"color: #808000; text-decoration-color: #808000; font-weight: bold\">   </span>Therefore, it is impossible to explain the contribution of the mixture-of-experts architecture to its           \n",
              "<span style=\"color: #808000; text-decoration-color: #808000; font-weight: bold\">   </span>capabilities or discuss any trade-offs.                                                                         \n",
              "<span style=\"color: #808000; text-decoration-color: #808000; font-weight: bold\"> • </span><span style=\"font-weight: bold\">Source:</span> N/A                                                                                                     \n",
              "<span style=\"color: #808000; text-decoration-color: #808000; font-weight: bold\"> • </span><span style=\"font-weight: bold\">Question:</span> Gemini 1.5 Pro incorporates various safety mitigations, including supervised fine-tuning and          \n",
              "<span style=\"color: #808000; text-decoration-color: #808000; font-weight: bold\">   </span>reinforcement learning. Discuss the effectiveness of these mitigations in addressing content safety and         \n",
              "<span style=\"color: #808000; text-decoration-color: #808000; font-weight: bold\">   </span>representational harms in both text-to-text and image-to-text modalities. How can these evaluations be improved?\n",
              "<span style=\"color: #808000; text-decoration-color: #808000; font-weight: bold\"> • </span><span style=\"font-weight: bold\">Answer:</span> Not enough context to answer.                                                                           \n",
              "<span style=\"color: #808000; text-decoration-color: #808000; font-weight: bold\"> • </span><span style=\"font-weight: bold\">Explanation:</span> The provided documents do not mention Gemini 1.5 Pro or any details about its safety mitigations.  \n",
              "<span style=\"color: #808000; text-decoration-color: #808000; font-weight: bold\">   </span>Therefore, it is impossible to discuss the effectiveness of supervised fine-tuning and reinforcement learning in\n",
              "<span style=\"color: #808000; text-decoration-color: #808000; font-weight: bold\">   </span>addressing content safety and representational harms or how these evaluations can be improved.                  \n",
              "<span style=\"color: #808000; text-decoration-color: #808000; font-weight: bold\"> • </span><span style=\"font-weight: bold\">Source:</span> N/A                                                                                                     \n",
              "<span style=\"color: #808000; text-decoration-color: #808000; font-weight: bold\"> • </span><span style=\"font-weight: bold\">Question:</span> Gemini 1.5 Pro demonstrates surprising in-context language learning capabilities for Kalamang, a      \n",
              "<span style=\"color: #808000; text-decoration-color: #808000; font-weight: bold\">   </span>low-resource language. What are the implications of this finding for language preservation and revitalization?  \n",
              "<span style=\"color: #808000; text-decoration-color: #808000; font-weight: bold\">   </span>What challenges need to be addressed for broader applicability of this approach?                                \n",
              "<span style=\"color: #808000; text-decoration-color: #808000; font-weight: bold\"> • </span><span style=\"font-weight: bold\">Answer:</span> Not enough context to answer.                                                                           \n",
              "<span style=\"color: #808000; text-decoration-color: #808000; font-weight: bold\"> • </span><span style=\"font-weight: bold\">Explanation:</span> The provided documents do not mention Gemini 1.5 Pro, Kalamang, or language preservation.          \n",
              "<span style=\"color: #808000; text-decoration-color: #808000; font-weight: bold\">   </span>Therefore, it is impossible to analyze the implications or challenges.                                          \n",
              "<span style=\"color: #808000; text-decoration-color: #808000; font-weight: bold\"> • </span><span style=\"font-weight: bold\">Source:</span> N/A                                                                                                     \n",
              "</pre>\n"
            ],
            "text/plain": [
              "\n",
              "\u001b[1;33m • \u001b[0m\u001b[1mQuestion:\u001b[0m How does the mixture-of-experts architecture in Gemini 1.5 Pro contribute to its ability to handle    \n",
              "\u001b[1;33m   \u001b[0mlong context while maintaining performance on core capabilities? Discuss the potential trade-offs involved.     \n",
              "\u001b[1;33m • \u001b[0m\u001b[1mAnswer:\u001b[0m Not enough context to answer.                                                                           \n",
              "\u001b[1;33m • \u001b[0m\u001b[1mExplanation:\u001b[0m The provided documents do not mention Gemini 1.5 Pro or any details about its architecture.        \n",
              "\u001b[1;33m   \u001b[0mTherefore, it is impossible to explain the contribution of the mixture-of-experts architecture to its           \n",
              "\u001b[1;33m   \u001b[0mcapabilities or discuss any trade-offs.                                                                         \n",
              "\u001b[1;33m • \u001b[0m\u001b[1mSource:\u001b[0m N/A                                                                                                     \n",
              "\u001b[1;33m • \u001b[0m\u001b[1mQuestion:\u001b[0m Gemini 1.5 Pro incorporates various safety mitigations, including supervised fine-tuning and          \n",
              "\u001b[1;33m   \u001b[0mreinforcement learning. Discuss the effectiveness of these mitigations in addressing content safety and         \n",
              "\u001b[1;33m   \u001b[0mrepresentational harms in both text-to-text and image-to-text modalities. How can these evaluations be improved?\n",
              "\u001b[1;33m • \u001b[0m\u001b[1mAnswer:\u001b[0m Not enough context to answer.                                                                           \n",
              "\u001b[1;33m • \u001b[0m\u001b[1mExplanation:\u001b[0m The provided documents do not mention Gemini 1.5 Pro or any details about its safety mitigations.  \n",
              "\u001b[1;33m   \u001b[0mTherefore, it is impossible to discuss the effectiveness of supervised fine-tuning and reinforcement learning in\n",
              "\u001b[1;33m   \u001b[0maddressing content safety and representational harms or how these evaluations can be improved.                  \n",
              "\u001b[1;33m • \u001b[0m\u001b[1mSource:\u001b[0m N/A                                                                                                     \n",
              "\u001b[1;33m • \u001b[0m\u001b[1mQuestion:\u001b[0m Gemini 1.5 Pro demonstrates surprising in-context language learning capabilities for Kalamang, a      \n",
              "\u001b[1;33m   \u001b[0mlow-resource language. What are the implications of this finding for language preservation and revitalization?  \n",
              "\u001b[1;33m   \u001b[0mWhat challenges need to be addressed for broader applicability of this approach?                                \n",
              "\u001b[1;33m • \u001b[0m\u001b[1mAnswer:\u001b[0m Not enough context to answer.                                                                           \n",
              "\u001b[1;33m • \u001b[0m\u001b[1mExplanation:\u001b[0m The provided documents do not mention Gemini 1.5 Pro, Kalamang, or language preservation.          \n",
              "\u001b[1;33m   \u001b[0mTherefore, it is impossible to analyze the implications or challenges.                                          \n",
              "\u001b[1;33m • \u001b[0m\u001b[1mSource:\u001b[0m N/A                                                                                                     \n"
            ]
          },
          "execution_count": 38,
          "metadata": {},
          "output_type": "execute_result"
        }
      ],
      "source": [
        "# Some questions to try\n",
        "\n",
        "query = \"\"\"Question 1: How does the mixture-of-experts architecture in Gemini 1.5 Pro contribute to its ability to handle long\n",
        "context while maintaining performance on core capabilities? Discuss the potential trade-offs involved.\n",
        "\n",
        "Question 2: Gemini 1.5 Pro incorporates various safety mitigations, including supervised fine-tuning and reinforcement learning.\n",
        "Discuss the effectiveness of these mitigations in addressing content safety and representational harms in both text-to-text and\n",
        "image-to-text modalities. How can these evaluations be improved?\n",
        "\n",
        "Question 3: Gemini 1.5 Pro demonstrates surprising in-context language learning capabilities for Kalamang,\n",
        "a low-resource language. What are the implications of this finding for language preservation and revitalization?\n",
        "What challenges need to be addressed for broader applicability of this approach?\n",
        "\"\"\"\n",
        "(\n",
        "    response,\n",
        "    matching_results_chunks_data,\n",
        "    matching_results_image_fromdescription_data,\n",
        ") = get_answer_from_qa_system(\n",
        "    query,\n",
        "    text_metadata_df,\n",
        "    image_metadata_df,\n",
        "    top_n_text=10,\n",
        "    top_n_image=5,\n",
        "    model=multimodal_model_2_0_flash,\n",
        "    safety_settings=safety_settings,\n",
        "    generation_config=GenerationConfig(temperature=1, max_output_tokens=8192),\n",
        ")\n",
        "\n",
        "rich_Markdown(response)"
      ]
    },
    {
      "cell_type": "markdown",
      "metadata": {
        "id": "KwNrHCqbi3xi"
      },
      "source": [
        "## Conclusions"
      ]
    },
    {
      "cell_type": "markdown",
      "metadata": {
        "id": "05jynhZnkgxn"
      },
      "source": [
        "Congratulations on making it through this multimodal RAG notebook!\n",
        "\n",
        "While multimodal RAG can be quite powerful, note that it can face some limitations:\n",
        "\n",
        "* **Data dependency:** Needs high-quality paired text and visuals.\n",
        "* **Computationally demanding:** Processing multimodal data is resource-intensive.\n",
        "* **Domain specific:** Models trained on general data may not shine in specialized fields like medicine.\n",
        "* **Black box:** Understanding how these models work can be tricky, hindering trust and adoption.\n",
        "\n",
        "\n",
        "Despite these challenges, multimodal RAG represents a significant step towards search and retrieval systems that can handle diverse, multimodal data."
      ]
    }
  ],
  "metadata": {
    "colab": {
      "provenance": []
    },
    "environment": {
      "kernel": "python3",
      "name": "common-cpu.m116",
      "type": "gcloud",
      "uri": "gcr.io/deeplearning-platform-release/base-cpu:m116"
    },
    "kernelspec": {
      "display_name": "MultiRAG",
      "language": "python",
      "name": "python3"
    },
    "language_info": {
      "codemirror_mode": {
        "name": "ipython",
        "version": 3
      },
      "file_extension": ".py",
      "mimetype": "text/x-python",
      "name": "python",
      "nbconvert_exporter": "python",
      "pygments_lexer": "ipython3",
      "version": "3.12.11"
    }
  },
  "nbformat": 4,
  "nbformat_minor": 0
}
