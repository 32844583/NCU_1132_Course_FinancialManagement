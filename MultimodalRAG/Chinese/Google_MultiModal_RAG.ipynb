{
  "cells": [
    {
      "cell_type": "markdown",
      "metadata": {},
      "source": [
        "### Define Google Cloud project information"
      ]
    },
    {
      "cell_type": "code",
      "execution_count": 1,
      "metadata": {},
      "outputs": [
        {
          "name": "stdout",
          "output_type": "stream",
          "text": [
            "✅ 憑證讀取成功！\n",
            "使用的憑證類型: Credentials\n",
            "憑證 Token: [目前為空，執行操作時會自動刷新]\n",
            "偵測到的專案 ID: gen-lang-client-0570552573\n"
          ]
        }
      ],
      "source": [
        "import google.auth\n",
        "\n",
        "try:\n",
        "    # google.auth.default() 會自動尋找環境中的憑證\n",
        "    # 這就是所謂的 Application Default Credentials (ADC)\n",
        "    credentials, project_id = google.auth.default()\n",
        "\n",
        "    print(\"✅ 憑證讀取成功！\")\n",
        "    print(f\"使用的憑證類型: {type(credentials).__name__}\")\n",
        "    \n",
        "    # UserCredentials 通常代表你透過 `gcloud auth application-default login` 登入的帳號\n",
        "    if hasattr(credentials, 'client_id'):\n",
        "        print(f\"用戶端 ID (Client ID): {credentials.client_id}\")\n",
        "\n",
        "    # 如果憑證有效，它應該會有一個 token\n",
        "    if credentials.token:\n",
        "        # 出於安全考量，我們只顯示 token 的一小部分或其存在性\n",
        "        print(\"憑證 Token: [存在]\")\n",
        "    else:\n",
        "        # 如果需要，可以手動刷新來獲取 token\n",
        "        # from google.auth.transport.requests import Request\n",
        "        # credentials.refresh(Request())\n",
        "        # print(\"憑證 Token: [刷新後存在]\")\n",
        "        print(\"憑證 Token: [目前為空，執行操作時會自動刷新]\")\n",
        "        \n",
        "\n",
        "    print(f\"偵測到的專案 ID: {project_id}\")\n",
        "    if project_id is None:\n",
        "        print(\"⚠️ 注意：未自動偵測到專案 ID。你可能需要在初始化服務時手動指定。\")\n",
        "        print(\"   (例如: vertexai.init(project='your-project-id', ...))\")\n",
        "\n",
        "except google.auth.exceptions.DefaultCredentialsError:\n",
        "    print(\"❌ 錯誤：找不到預設憑證 (Application Default Credentials)。\")\n",
        "    print(\"請在終端機中執行 `gcloud auth application-default login` 來登入。\")\n",
        "except Exception as e:\n",
        "    print(f\"發生了未預期的錯誤: {e}\")"
      ]
    },
    {
      "cell_type": "code",
      "execution_count": 2,
      "metadata": {},
      "outputs": [
        {
          "name": "stdout",
          "output_type": "stream",
          "text": [
            "✅ 偵測到 GOOGLE_APPLICATION_CREDENTIALS 環境變數。\n",
            "   金鑰檔案路徑: C:\\Users\\ZieWeiXie\\Desktop\\1132\\Financial Management\\Final\\English\\gen-lang-client-0570552573-ed41756955d5.json\n",
            "---\n",
            "身份判定：服務帳戶 (Service Account)\n",
            "服務帳戶 Email: multirag@gen-lang-client-0570552573.iam.gserviceaccount.com\n",
            "金鑰檔案內建的專案 ID: gen-lang-client-0570552573\n"
          ]
        }
      ],
      "source": [
        "import os\n",
        "import google.auth\n",
        "\n",
        "try:\n",
        "    # 檢查 GOOGLE_APPLICATION_CREDENTIALS 環境變數是否被設定\n",
        "    sa_key_path = os.environ.get('GOOGLE_APPLICATION_CREDENTIALS')\n",
        "\n",
        "    if sa_key_path:\n",
        "        print(\"✅ 偵測到 GOOGLE_APPLICATION_CREDENTIALS 環境變數。\")\n",
        "        print(f\"   金鑰檔案路徑: {sa_key_path}\")\n",
        "        print(\"---\")\n",
        "        print(\"身份判定：服務帳戶 (Service Account)\")\n",
        "        \n",
        "        # 從金鑰檔案載入憑證並顯示服務帳戶信箱\n",
        "        credentials, project_id = google.auth.load_credentials_from_file(sa_key_path)\n",
        "        if hasattr(credentials, 'service_account_email'):\n",
        "            print(f\"服務帳戶 Email: {credentials.service_account_email}\")\n",
        "        print(f\"金鑰檔案內建的專案 ID: {project_id}\")\n",
        "\n",
        "    else:\n",
        "        print(\"ℹ️ 未偵測到 GOOGLE_APPLICATION_CREDENTIALS 環境變數。\")\n",
        "        print(\"   系統將嘗試使用 gcloud 使用者憑證。\")\n",
        "        print(\"---\")\n",
        "        print(\"身份判定：個人使用者帳戶 (User Account)\")\n",
        "        \n",
        "        # 尋找預設的使用者憑證\n",
        "        credentials, project_id = google.auth.default()\n",
        "        # 'authorized_user' 類型的憑證通常代表個人帳戶\n",
        "        if credentials.token:\n",
        "             # 在 gcloud auth application-default print-access-token 的輸出中可以找到email\n",
        "             # 但 credentials 物件本身不直接暴露 email，我們可以檢查 quota_project_id\n",
        "             if hasattr(credentials, 'quota_project_id'):\n",
        "                  print(f\"憑證關聯的 Quota Project ID: {credentials.quota_project_id}\")\n",
        "             print(\"此憑證來自 'gcloud auth application-default login'。\")\n",
        "\n",
        "\n",
        "except google.auth.exceptions.DefaultCredentialsError:\n",
        "    print(\"❌ 錯誤：找不到任何有效的憑證。\")\n",
        "    print(\"請執行 'gcloud auth application-default login' 或設定 'GOOGLE_APPLICATION_CREDENTIALS'。\")\n",
        "except Exception as e:\n",
        "    print(f\"發生了未預期的錯誤: {e}\")"
      ]
    },
    {
      "cell_type": "code",
      "execution_count": 3,
      "metadata": {},
      "outputs": [
        {
          "name": "stdout",
          "output_type": "stream",
          "text": [
            "--- Python Kernel's PATH ---\n",
            "c:\\Users\\ZieWeiXie\\anaconda3\\envs\\MultiRAG\n",
            "C:\\Users\\ZieWeiXie\\anaconda3\\envs\\MultiRAG\n",
            "C:\\Users\\ZieWeiXie\\anaconda3\\envs\\MultiRAG\\Library\\mingw-w64\\bin\n",
            "C:\\Users\\ZieWeiXie\\anaconda3\\envs\\MultiRAG\\Library\\usr\\bin\n",
            "C:\\Users\\ZieWeiXie\\anaconda3\\envs\\MultiRAG\\Library\\bin\n",
            "C:\\Users\\ZieWeiXie\\anaconda3\\envs\\MultiRAG\\Scripts\n",
            "C:\\Users\\ZieWeiXie\\anaconda3\\envs\\MultiRAG\\bin\n",
            "C:\\Users\\ZieWeiXie\\anaconda3\\condabin\n",
            "C:\\Users\\ZieWeiXie\\AppData\\Local\\Programs\\Python\\Python311\n",
            "C:\\Users\\ZieWeiXie\\AppData\\Local\\Programs\\Python\\Python311\\Scripts\n",
            "C:\\Users\\ZieWeiXie\\AppData\\Local\\Programs\\Python\\Python36\n",
            "C:\\Users\\ZieWeiXie\\AppData\\Local\\Programs\\Python\\Python36\\Scripts\n",
            "C:\\Program Files\\NVIDIA GPU Computing Toolkit\\CUDA\\v8.0\\bin\n",
            "C:\\Program Files\\NVIDIA GPU Computing Toolkit\\CUDA\\v8.0\\libnvvp\n",
            "C:\\Program Files\\Common Files\\Oracle\\Java\\javapath\n",
            "C:\\Windows\\system32\n",
            "C:\\Windows\n",
            "C:\\Windows\\System32\\Wbem\n",
            "C:\\Windows\\System32\\WindowsPowerShell\\v1.0\n",
            "C:\\Windows\\System32\\OpenSSH\n",
            "C:\\Program Files (x86)\\NVIDIA Corporation\\PhysX\\Common\n",
            "C:\\Program Files\\NVIDIA Corporation\\NVIDIA NvDLISR\n",
            "C:\\WINDOWS\\system32\n",
            "C:\\WINDOWS\n",
            "C:\\WINDOWS\\System32\\Wbem\n",
            "C:\\WINDOWS\\System32\\WindowsPowerShell\\v1.0\n",
            "C:\\WINDOWS\\System32\\OpenSSH\n",
            "C:\\Program Files\\Docker\\Docker\\resources\\bin\n",
            "C:\\Program Files\\OpenSSL-Win64\\bin\n",
            "C:\\Program Files\\Git\\cmd\n",
            "C:\\Program Files\\dotnet\n",
            "C:\\Program Files\\WinRAR\n",
            "C:\\Program Files\\Java\\jdk-17\\bin\n",
            "C:\\Program Files (x86)\\Bluetooth Command Line Tools\\bin\n",
            "C:\\Program Files (x86)\\Google\\Cloud SDK\\google-cloud-sdk\\bin\n",
            "C:\\Program Files\\MySQL\\MySQL Server 8.0\\bin\n",
            "C:\\Program Files (x86)\\Pulse Secure\\VC142.CRT\\X64\n",
            "C:\\Program Files (x86)\\Pulse Secure\\VC142.CRT\\X86\n",
            "C:\\Program Files (x86)\\Common Files\\Pulse Secure\\TNC Client Plugin\n",
            "C:\\Users\\ZieWeiXie\\Downloads\\cudnn-8.0-windows10-x64-v6.0\\cuda\\bin\n",
            "C:\\Users\\ZieWeiXie\\Downloads\\cudnn-8.0-windows10-x64-v6.0\\cuda\\include\n",
            "C:\\Users\\ZieWeiXie\\Downloads\\cudnn-8.0-windows10-x64-v6.0\\cuda\\lib\n",
            "C:\\Users\\ZieWeiXie\\Downloads\\cloudsql\n",
            "C:\\Users\\ZieWeiXie\\AppData\\Roaming\\nvm\n",
            "C:\\Program Files\\nodejs\n",
            "C:\\Users\\ZieWeiXie\\Downloads\\php-8.4.7-Win32-vs17-x64\n",
            "C:\\Program Files (x86)\\Google\\Cloud SDK\\google-cloud-sdk\\bin\n",
            "C:\\Users\\ZieWeiXie\\AppData\\Local\\Microsoft\\WindowsApps\n",
            "C:\\Users\\ZieWeiXie\\AppData\\Local\\Programs\\Microsoft VS Code\\bin\n",
            "C:\\Users\\ZieWeiXie\\AppData\\Local\\GitHubDesktop\\bin\n",
            ".\n",
            "\n",
            "--- Checking for 'gcloud' command ---\n",
            "✅ 'gcloud' 指令已找到，路徑為: C:\\Program Files (x86)\\Google\\Cloud SDK\\google-cloud-sdk\\bin\\gcloud.CMD\n"
          ]
        }
      ],
      "source": [
        "import os\n",
        "import shutil\n",
        "\n",
        "# --- 步驟 1: 打印出 Python Kernel 所能看到的 PATH 環境變數 ---\n",
        "print(\"--- Python Kernel's PATH ---\")\n",
        "path_var = os.environ.get('PATH', '')\n",
        "for p in path_var.split(os.pathsep):\n",
        "    print(p)\n",
        "\n",
        "# --- 步驟 2: 使用 Python 的方式直接檢查 'gcloud' 指令是否存在 ---\n",
        "print(\"\\n--- Checking for 'gcloud' command ---\")\n",
        "gcloud_path = shutil.which('gcloud')\n",
        "\n",
        "if gcloud_path:\n",
        "    print(f\"✅ 'gcloud' 指令已找到，路徑為: {gcloud_path}\")\n",
        "else:\n",
        "    print(\"❌ 錯誤: Python Kernel 的 PATH 中找不到 'gcloud' 指令。\")"
      ]
    },
    {
      "cell_type": "markdown",
      "metadata": {
        "id": "O1vKZZoEh2rL"
      },
      "source": [
        "### Define Google Cloud project information\n"
      ]
    },
    {
      "cell_type": "code",
      "execution_count": 4,
      "metadata": {
        "colab": {
          "base_uri": "https://localhost:8080/"
        },
        "id": "gJqZ76rJh2rM",
        "outputId": "c7648628-a72f-467b-bca4-b7fb003885fe",
        "tags": []
      },
      "outputs": [
        {
          "name": "stdout",
          "output_type": "stream",
          "text": [
            "Your project ID is: gen-lang-client-0570552573\n"
          ]
        }
      ],
      "source": [
        "# Define project information\n",
        "\n",
        "import sys\n",
        "\n",
        "PROJECT_ID = \"gen-lang-client-0570552573\"  # @param {type:\"string\"}\n",
        "LOCATION = \"us-central1\"  # @param {type:\"string\"}\n",
        "\n",
        "# if not running on colab, try to get the PROJECT_ID automatically\n",
        "# GCLOUD_PATH = r\"C:\\Program Files (x86)\\Google\\Cloud SDK\\google-cloud-sdk\\bin\\gcloud.CMD\"\n",
        "# if \"google.colab\" not in sys.modules:\n",
        "#     import subprocess\n",
        "\n",
        "#     PROJECT_ID = subprocess.check_output(\n",
        "#         [GCLOUD_PATH, \"config\", \"get-value\", \"project\"],\n",
        "#     ).strip()\n",
        "\n",
        "print(f\"Your project ID is: {PROJECT_ID}\")"
      ]
    },
    {
      "cell_type": "code",
      "execution_count": 5,
      "metadata": {
        "id": "D48gUW5-h2rM",
        "tags": []
      },
      "outputs": [],
      "source": [
        "import sys\n",
        "\n",
        "# Initialize Vertex AI\n",
        "import vertexai\n",
        "\n",
        "vertexai.init(project=PROJECT_ID, location=LOCATION)"
      ]
    },
    {
      "cell_type": "markdown",
      "metadata": {
        "id": "BuQwwRiniVFG"
      },
      "source": [
        "### Import libraries\n"
      ]
    },
    {
      "cell_type": "code",
      "execution_count": 6,
      "metadata": {
        "id": "rtMowvm-yQ97",
        "tags": []
      },
      "outputs": [],
      "source": [
        "from rich import print as rich_print\n",
        "from rich.markdown import Markdown as rich_Markdown\n",
        "from IPython.display import Markdown, display\n",
        "from vertexai.generative_models import (\n",
        "    Content,\n",
        "    GenerationConfig,\n",
        "    GenerationResponse,\n",
        "    GenerativeModel,\n",
        "    HarmCategory,\n",
        "    HarmBlockThreshold,\n",
        "    Image,\n",
        "    Part,\n",
        ")\n",
        "from vertexai.language_models import TextEmbeddingModel\n",
        "from vertexai.vision_models import MultiModalEmbeddingModel"
      ]
    },
    {
      "cell_type": "code",
      "execution_count": 7,
      "metadata": {
        "id": "SvMwSRJJh2rM",
        "tags": []
      },
      "outputs": [],
      "source": [
        "# Multimodal models: Choose based on your performance/cost needs\n",
        "\n",
        "multimodal_model_2_0_flash = GenerativeModel(\n",
        "    \"gemini-2.0-flash-001\"\n",
        ") # Gemini latest Gemini 2.0 Flash Model\n",
        "\n",
        "multimodal_model_15 = GenerativeModel(\n",
        "    \"gemini-2.0-flash-001\"\n",
        ")  # works with text, code, images, video(with or without audio) and audio(mp3) with 1M input context - complex reasoning\n",
        "\n",
        "# Multimodal models: Choose based on your performance/cost needs\n",
        "multimodal_model_15_flash = GenerativeModel(\n",
        "    \"gemini-2.0-flash-001\"\n",
        ")  # works with text, code, images, video(with or without audio) and audio(mp3) with 1M input context - faster inference\n",
        "\n",
        "# Load text embedding model from pre-trained source\n",
        "text_embedding_model = TextEmbeddingModel.from_pretrained(\"text-embedding-005\")\n",
        "\n",
        "# Load multimodal embedding model from pre-trained source\n",
        "multimodal_embedding_model = MultiModalEmbeddingModel.from_pretrained(\n",
        "    \"multimodalembedding@001\"\n",
        ")  # works with image, image with caption(~32 words), video, video with caption(~32 words)"
      ]
    },
    {
      "cell_type": "markdown",
      "metadata": {
        "id": "g7bKCQMFT7JT"
      },
      "source": [
        "#### Get documents and images from GCS"
      ]
    },
    {
      "cell_type": "code",
      "execution_count": 8,
      "metadata": {
        "colab": {
          "base_uri": "https://localhost:8080/"
        },
        "id": "KwbL89zcY39N",
        "outputId": "c918f449-e9b6-4cbe-c70e-6fd5ef4c5ddc",
        "tags": []
      },
      "outputs": [],
      "source": [
        "# # download documents and images used in this notebook - will take ~30 sec\n",
        "# !gsutil -m -q rsync -r gs://github-repo/rag/intro_multimodal_rag/intro_multimodal_rag_v2 .\n",
        "# print(\"Download completed\")"
      ]
    },
    {
      "cell_type": "markdown",
      "metadata": {
        "id": "Ps1G-cCfpibN"
      },
      "source": [
        "## Building metadata of documents containing text and images"
      ]
    },
    {
      "cell_type": "markdown",
      "metadata": {
        "id": "zvt0sus5KSNX"
      },
      "source": [
        "### Import helper functions to build metadata\n",
        "\n",
        "Before building the Multimodal Question Answering System with Vertex AI, it's important to have metadata of all the text and images in the document. For references and citations purposes, the metadata should contain essential elements, including page number, file name, image counter, and so on. Hence, as a next step, you will generate embeddings from the metadata, which is required to perform similarity search when querying the data."
      ]
    },
    {
      "cell_type": "code",
      "execution_count": 9,
      "metadata": {
        "id": "tStqXX32RNYK",
        "tags": []
      },
      "outputs": [],
      "source": [
        "from multimodal_qa_with_rag_utils import (\n",
        "    get_document_metadata,\n",
        "    set_global_variable,\n",
        ")\n",
        "\n",
        "set_global_variable(\"text_embedding_model\", text_embedding_model)\n",
        "set_global_variable(\"multimodal_embedding_model\", multimodal_embedding_model)"
      ]
    },
    {
      "cell_type": "markdown",
      "metadata": {
        "id": "x8h0XSG_7e5M"
      },
      "source": [
        "**NOTE: Given that we are loading 4 files with roughly 200 pages and approximately 84 images, the cell below will take approximately 7 minutes to run. We recommend loading pre-computed metadata instead.**"
      ]
    },
    {
      "cell_type": "code",
      "execution_count": 10,
      "metadata": {
        "colab": {
          "base_uri": "https://localhost:8080/"
        },
        "id": "X8hE0tWD-lf8",
        "outputId": "86a01c45-d8eb-4911-8ba4-9fb0dcf89278",
        "tags": []
      },
      "outputs": [
        {
          "name": "stdout",
          "output_type": "stream",
          "text": [
            "Removing pre-exsisting images folder, since you are running the logic from scratch\n",
            "\n",
            "\n",
            " Processing the file: --------------------------------- data\\TSMC.pdf \n",
            "\n",
            "\n",
            "Processing page: 1\n"
          ]
        },
        {
          "name": "stderr",
          "output_type": "stream",
          "text": [
            "'rm' ���O�����Υ~���R�O�B�i���檺�{���Χ妸�ɡC\n"
          ]
        },
        {
          "name": "stdout",
          "output_type": "stream",
          "text": [
            "Processing page: 2\n",
            "Extracting image from page: 2, saved as: images\\TSMC.pdf_image_1_0_33.png\n",
            "Extracting image from page: 2, saved as: images\\TSMC.pdf_image_1_1_34.png\n",
            "Extracting image from page: 2, saved as: images\\TSMC.pdf_image_1_2_35.png\n",
            "Extracting image from page: 2, saved as: images\\TSMC.pdf_image_1_3_36.png\n",
            "Extracting image from page: 2, saved as: images\\TSMC.pdf_image_1_4_37.png\n",
            "Processing page: 3\n",
            "Extracting image from page: 3, saved as: images\\TSMC.pdf_image_2_0_40.png\n",
            "Extracting image from page: 3, saved as: images\\TSMC.pdf_image_2_1_41.png\n",
            "\n",
            " \n",
            " Sleeping for  5  sec before processing the next document to avoid quota issues. You can disable it: \"add_sleep_after_document = False\"  \n",
            "\n",
            "\n",
            " --- Completed processing. ---\n",
            "CPU times: total: 641 ms\n",
            "Wall time: 37.8 s\n"
          ]
        }
      ],
      "source": [
        "%%time\n",
        "# Specify the PDF folder with multiple PDF ~7m\n",
        "\n",
        "print(\"Removing pre-exsisting images folder, since you are running the logic from scratch\")\n",
        "! rm -rf images/\n",
        "\n",
        "pdf_folder_path = \"data/\"  # if running in Vertex AI Workbench.\n",
        "\n",
        "# Specify the image description prompt. Change it\n",
        "# image_description_prompt = \"\"\"Explain what is going on in the image.\n",
        "# If it's a table, extract all elements of the table.\n",
        "# If it's a graph, explain the findings in the graph.\n",
        "# Do not include any numbers that are not mentioned in the image.\n",
        "# \"\"\"\n",
        "\n",
        "image_description_prompt = \"\"\"您是一位技術圖像分析專家。我們將提供給您從研究論文、技術部落格等文件中擷取的各種類型圖像。\n",
        "您的任務是針對這些圖像生成簡潔、準確的描述，並且不添加任何您不確定的資訊。\n",
        "請專注於捕捉圖像中所描繪的關鍵細節、趨勢或關係。\n",
        "\n",
        "重要原則：\n",
        "準確性優先： 如果您對任何細節不確定，請註明為「未知」或「不可見」，而非猜測。\n",
        "避免產生幻覺： 請勿添加圖像未直接支持的資訊。\n",
        "具體明確： 使用精確的語言來描述所描繪的形狀、顏色、紋理及任何互動關係。\n",
        "考量上下文： 如果圖像為螢幕截圖或包含文字，請將該資訊整合至您的描述中。\n",
        "\"\"\"\n",
        "\n",
        "# Extract text and image metadata from the PDF document\n",
        "text_metadata_df, image_metadata_df = get_document_metadata(\n",
        "    multimodal_model_2_0_flash,  # we are passing gemini 2.0 Flash Model\n",
        "    pdf_folder_path,\n",
        "    image_save_dir=\"images\",\n",
        "    image_description_prompt=image_description_prompt,\n",
        "    embedding_size=1408,\n",
        "    # add_sleep_after_page = True, # Uncomment this if you are running into API quota issues\n",
        "    # sleep_time_after_page = 5,\n",
        "    add_sleep_after_document=True,  # Uncomment this if you are running into API quota issues\n",
        "    sleep_time_after_document=5,    # Increase the value in seconds, if you are still getting quota issues. It will slow down the processing.\n",
        "    # generation_config = # see next cell\n",
        "    # safety_settings =  # see next cell\n",
        ")\n",
        "\n",
        "print(\"\\n\\n --- Completed processing. ---\")\n"
      ]
    },
    {
      "cell_type": "markdown",
      "metadata": {
        "id": "sWtOx1wb86Az"
      },
      "source": [
        "If you would like to pass additional parameters to Gemini while building metadata, here are some options:"
      ]
    },
    {
      "cell_type": "code",
      "execution_count": 11,
      "metadata": {
        "id": "QlNK0o2DRNYK",
        "tags": []
      },
      "outputs": [],
      "source": [
        "# # Parameters for Gemini API call.\n",
        "# # reference for parameters: https://cloud.google.com/vertex-ai/docs/generative-ai/model-reference/gemini\n",
        "\n",
        "# generation_config=  GenerationConfig(temperature=0.2, max_output_tokens=2048)\n",
        "\n",
        "# # Set the safety settings if Gemini is blocking your content or you are facing \"ValueError(\"Content has no parts\")\" error or \"Exception occured\" in your data.\n",
        "# # ref for settings and thresholds: https://cloud.google.com/vertex-ai/docs/generative-ai/multimodal/configure-safety-attributes\n",
        "\n",
        "# safety_settings = {\n",
        "#                   HarmCategory.HARM_CATEGORY_HARASSMENT: HarmBlockThreshold.BLOCK_NONE,\n",
        "#                   HarmCategory.HARM_CATEGORY_HATE_SPEECH: HarmBlockThreshold.BLOCK_NONE,\n",
        "#                   HarmCategory.HARM_CATEGORY_SEXUALLY_EXPLICIT: HarmBlockThreshold.BLOCK_NONE,\n",
        "#                   HarmCategory.HARM_CATEGORY_DANGEROUS_CONTENT: HarmBlockThreshold.BLOCK_NONE,\n",
        "#                   }\n",
        "\n",
        "# # You can also pass parameters and safety_setting to \"get_gemini_response\" function"
      ]
    },
    {
      "cell_type": "markdown",
      "metadata": {
        "id": "tW3Ci1IL8wSW"
      },
      "source": [
        "### Load pre-computed metadata of text and images from source document"
      ]
    },
    {
      "cell_type": "markdown",
      "metadata": {
        "id": "c10dCy6Cig3H"
      },
      "source": [
        "**If you are facing constant issues with Quota or want to focus on the outputs, you should load pre-computed metadata.**"
      ]
    },
    {
      "cell_type": "code",
      "execution_count": 12,
      "metadata": {
        "id": "w1AGYOYb0In7",
        "tags": []
      },
      "outputs": [],
      "source": [
        "# # [Optional]\n",
        "# import pickle\n",
        "\n",
        "# # Load the pickle file\n",
        "# with open(\"mrag_metadata.pkl\", \"rb\") as f:\n",
        "#     data = pickle.load(f)\n",
        "\n",
        "# # Extract the DataFrames\n",
        "# text_metadata_df = data[\"text_metadata\"]\n",
        "# image_metadata_df = data[\"image_metadata\"]"
      ]
    },
    {
      "cell_type": "markdown",
      "metadata": {
        "id": "miBBoEXwh2rN"
      },
      "source": [
        "#### Inspect the processed text metadata\n",
        "\n",
        "\n",
        "The following cell will produce a metadata table which describes the different parts of text metadata, including:\n",
        "\n",
        "- **text**: the original text from the page\n",
        "- **text_embedding_page**: the embedding of the original text from the page\n",
        "- **chunk_text**: the original text divided into smaller chunks\n",
        "- **chunk_number**: the index of each text chunk\n",
        "- **text_embedding_chunk**: the embedding of each text chunk"
      ]
    },
    {
      "cell_type": "code",
      "execution_count": 13,
      "metadata": {
        "colab": {
          "base_uri": "https://localhost:8080/",
          "height": 293
        },
        "id": "6t3AIGFar8Mo",
        "outputId": "0a3eb7ac-5eed-4767-9c97-86d0f10d45dc",
        "tags": []
      },
      "outputs": [
        {
          "data": {
            "text/html": [
              "<div>\n",
              "<style scoped>\n",
              "    .dataframe tbody tr th:only-of-type {\n",
              "        vertical-align: middle;\n",
              "    }\n",
              "\n",
              "    .dataframe tbody tr th {\n",
              "        vertical-align: top;\n",
              "    }\n",
              "\n",
              "    .dataframe thead th {\n",
              "        text-align: right;\n",
              "    }\n",
              "</style>\n",
              "<table border=\"1\" class=\"dataframe\">\n",
              "  <thead>\n",
              "    <tr style=\"text-align: right;\">\n",
              "      <th></th>\n",
              "      <th>file_name</th>\n",
              "      <th>page_num</th>\n",
              "      <th>text</th>\n",
              "      <th>text_embedding_page</th>\n",
              "      <th>chunk_number</th>\n",
              "      <th>chunk_text</th>\n",
              "      <th>text_embedding_chunk</th>\n",
              "    </tr>\n",
              "  </thead>\n",
              "  <tbody>\n",
              "    <tr>\n",
              "      <th>0</th>\n",
              "      <td>data\\TSMC.pdf</td>\n",
              "      <td>1</td>\n",
              "      <td>重要訊息: 我們認為台積電 2025 年成長動能將保持強勁，並預期營收將繼 2024 年大幅...</td>\n",
              "      <td>[-0.06303978711366653, -0.006351870484650135, ...</td>\n",
              "      <td>1</td>\n",
              "      <td>重要訊息: 我們認為台積電 2025 年成長動能將保持強勁，並預期營收將繼 2024 年大幅...</td>\n",
              "      <td>[-0.06411252170801163, -0.005988811142742634, ...</td>\n",
              "    </tr>\n",
              "    <tr>\n",
              "      <th>1</th>\n",
              "      <td>data\\TSMC.pdf</td>\n",
              "      <td>1</td>\n",
              "      <td>重要訊息: 我們認為台積電 2025 年成長動能將保持強勁，並預期營收將繼 2024 年大幅...</td>\n",
              "      <td>[-0.06303978711366653, -0.006351870484650135, ...</td>\n",
              "      <td>2</td>\n",
              "      <td>業的投資首選。儘管地緣政治緊張情勢升高可能導致股價 波\\n動，但不會改變台積電在先進製程的技...</td>\n",
              "      <td>[-0.042035914957523346, -0.049619149416685104,...</td>\n",
              "    </tr>\n",
              "    <tr>\n",
              "      <th>2</th>\n",
              "      <td>data\\TSMC.pdf</td>\n",
              "      <td>2</td>\n",
              "      <td>25 倍計算而得。 \\n投資風險: 全球經濟與地緣政治不確定性；庫存修正時間延長。 \\n \\...</td>\n",
              "      <td>[-0.009128344245254993, -0.02665082924067974, ...</td>\n",
              "      <td>1</td>\n",
              "      <td>25 倍計算而得。 \\n投資風險: 全球經濟與地緣政治不確定性；庫存修正時間延長。 \\n \\...</td>\n",
              "      <td>[-0.009128344245254993, -0.02665082924067974, ...</td>\n",
              "    </tr>\n",
              "    <tr>\n",
              "      <th>3</th>\n",
              "      <td>data\\TSMC.pdf</td>\n",
              "      <td>3</td>\n",
              "      <td>\\n \\n</td>\n",
              "      <td>[-0.05412939563393593, -0.0007017888128757477,...</td>\n",
              "      <td>1</td>\n",
              "      <td>\\n \\n</td>\n",
              "      <td>[-0.05412939563393593, -0.0007017888128757477,...</td>\n",
              "    </tr>\n",
              "  </tbody>\n",
              "</table>\n",
              "</div>"
            ],
            "text/plain": [
              "       file_name  page_num                                               text  \\\n",
              "0  data\\TSMC.pdf         1  重要訊息: 我們認為台積電 2025 年成長動能將保持強勁，並預期營收將繼 2024 年大幅...   \n",
              "1  data\\TSMC.pdf         1  重要訊息: 我們認為台積電 2025 年成長動能將保持強勁，並預期營收將繼 2024 年大幅...   \n",
              "2  data\\TSMC.pdf         2  25 倍計算而得。 \\n投資風險: 全球經濟與地緣政治不確定性；庫存修正時間延長。 \\n \\...   \n",
              "3  data\\TSMC.pdf         3                                              \\n \\n   \n",
              "\n",
              "                                 text_embedding_page  chunk_number  \\\n",
              "0  [-0.06303978711366653, -0.006351870484650135, ...             1   \n",
              "1  [-0.06303978711366653, -0.006351870484650135, ...             2   \n",
              "2  [-0.009128344245254993, -0.02665082924067974, ...             1   \n",
              "3  [-0.05412939563393593, -0.0007017888128757477,...             1   \n",
              "\n",
              "                                          chunk_text  \\\n",
              "0  重要訊息: 我們認為台積電 2025 年成長動能將保持強勁，並預期營收將繼 2024 年大幅...   \n",
              "1  業的投資首選。儘管地緣政治緊張情勢升高可能導致股價 波\\n動，但不會改變台積電在先進製程的技...   \n",
              "2  25 倍計算而得。 \\n投資風險: 全球經濟與地緣政治不確定性；庫存修正時間延長。 \\n \\...   \n",
              "3                                              \\n \\n   \n",
              "\n",
              "                                text_embedding_chunk  \n",
              "0  [-0.06411252170801163, -0.005988811142742634, ...  \n",
              "1  [-0.042035914957523346, -0.049619149416685104,...  \n",
              "2  [-0.009128344245254993, -0.02665082924067974, ...  \n",
              "3  [-0.05412939563393593, -0.0007017888128757477,...  "
            ]
          },
          "execution_count": 13,
          "metadata": {},
          "output_type": "execute_result"
        }
      ],
      "source": [
        "text_metadata_df.head()"
      ]
    },
    {
      "cell_type": "markdown",
      "metadata": {
        "id": "NjIQYI3mh2rO"
      },
      "source": [
        "#### Inspect the processed image metadata\n",
        "\n",
        "The following cell will produce a metadata table which describes the different parts of image metadata, including:\n",
        "* **img_desc**: Gemini-generated textual description of the image.\n",
        "* **mm_embedding_from_text_desc_and_img**: Combined embedding of image and its description, capturing both visual and textual information.\n",
        "* **mm_embedding_from_img_only**: Image embedding without description, for comparison with description-based analysis.\n",
        "* **text_embedding_from_image_description**: Separate text embedding of the generated description, enabling textual analysis and comparison."
      ]
    },
    {
      "cell_type": "code",
      "execution_count": 14,
      "metadata": {
        "colab": {
          "base_uri": "https://localhost:8080/",
          "height": 293
        },
        "id": "tkHtAYIK-y-q",
        "outputId": "225c6236-7736-43e4-b3cb-80ac1ac6d3a4",
        "tags": []
      },
      "outputs": [
        {
          "data": {
            "text/html": [
              "<div>\n",
              "<style scoped>\n",
              "    .dataframe tbody tr th:only-of-type {\n",
              "        vertical-align: middle;\n",
              "    }\n",
              "\n",
              "    .dataframe tbody tr th {\n",
              "        vertical-align: top;\n",
              "    }\n",
              "\n",
              "    .dataframe thead th {\n",
              "        text-align: right;\n",
              "    }\n",
              "</style>\n",
              "<table border=\"1\" class=\"dataframe\">\n",
              "  <thead>\n",
              "    <tr style=\"text-align: right;\">\n",
              "      <th></th>\n",
              "      <th>file_name</th>\n",
              "      <th>page_num</th>\n",
              "      <th>img_num</th>\n",
              "      <th>img_path</th>\n",
              "      <th>img_desc</th>\n",
              "      <th>mm_embedding_from_img_only</th>\n",
              "      <th>text_embedding_from_image_description</th>\n",
              "    </tr>\n",
              "  </thead>\n",
              "  <tbody>\n",
              "    <tr>\n",
              "      <th>0</th>\n",
              "      <td>data\\TSMC.pdf</td>\n",
              "      <td>2</td>\n",
              "      <td>1</td>\n",
              "      <td>images\\TSMC.pdf_image_1_0_33.png</td>\n",
              "      <td>該圖像是一個堆疊條形圖，標題為「圖2：台積電各製程晶圓營收比重」。\\nY軸標示為「營收製程別...</td>\n",
              "      <td>[0.0173197687, -0.0144308759, 0.00649443315, 0...</td>\n",
              "      <td>[-0.009956919588148594, 0.02809711918234825, 0...</td>\n",
              "    </tr>\n",
              "    <tr>\n",
              "      <th>1</th>\n",
              "      <td>data\\TSMC.pdf</td>\n",
              "      <td>2</td>\n",
              "      <td>2</td>\n",
              "      <td>images\\TSMC.pdf_image_1_1_34.png</td>\n",
              "      <td>該圖像是一個柱狀圖，標題為「圖 3：季營業收入」，顯示了以百萬元為單位的季營業收入。x 軸表...</td>\n",
              "      <td>[0.0535165071, 0.026549967, -0.0216739178, 0.0...</td>\n",
              "      <td>[-0.03386767953634262, -0.027403196319937706, ...</td>\n",
              "    </tr>\n",
              "    <tr>\n",
              "      <th>2</th>\n",
              "      <td>data\\TSMC.pdf</td>\n",
              "      <td>2</td>\n",
              "      <td>3</td>\n",
              "      <td>images\\TSMC.pdf_image_1_2_35.png</td>\n",
              "      <td>以下是圖像的描述：\\n該圖表顯示了每股盈利，以元為單位，從 1Q23 到 4Q25F 的季度...</td>\n",
              "      <td>[0.0316860303, 0.00646685949, 0.00132166489, 0...</td>\n",
              "      <td>[-0.03636539354920387, -0.0041497801430523396,...</td>\n",
              "    </tr>\n",
              "    <tr>\n",
              "      <th>3</th>\n",
              "      <td>data\\TSMC.pdf</td>\n",
              "      <td>2</td>\n",
              "      <td>4</td>\n",
              "      <td>images\\TSMC.pdf_image_1_3_36.png</td>\n",
              "      <td>這是一張折線圖，標題為「圖 5：毛利率」。y 軸標示為「毛利率，百分比」，範圍從 50.0%...</td>\n",
              "      <td>[0.0418519862, -0.00135696889, -0.0251900852, ...</td>\n",
              "      <td>[-0.04031166434288025, -0.00011414965410949662...</td>\n",
              "    </tr>\n",
              "    <tr>\n",
              "      <th>4</th>\n",
              "      <td>data\\TSMC.pdf</td>\n",
              "      <td>2</td>\n",
              "      <td>5</td>\n",
              "      <td>images\\TSMC.pdf_image_1_4_37.png</td>\n",
              "      <td>這是一張圖表，標題為「圖 6：未來 12 個月預估本益比」。圖表顯示了從 2019 年 11...</td>\n",
              "      <td>[0.00857849512, 0.0329951271, 0.0142494747, -0...</td>\n",
              "      <td>[-0.020930657163262367, 0.0066296979784965515,...</td>\n",
              "    </tr>\n",
              "  </tbody>\n",
              "</table>\n",
              "</div>"
            ],
            "text/plain": [
              "       file_name  page_num  img_num                          img_path  \\\n",
              "0  data\\TSMC.pdf         2        1  images\\TSMC.pdf_image_1_0_33.png   \n",
              "1  data\\TSMC.pdf         2        2  images\\TSMC.pdf_image_1_1_34.png   \n",
              "2  data\\TSMC.pdf         2        3  images\\TSMC.pdf_image_1_2_35.png   \n",
              "3  data\\TSMC.pdf         2        4  images\\TSMC.pdf_image_1_3_36.png   \n",
              "4  data\\TSMC.pdf         2        5  images\\TSMC.pdf_image_1_4_37.png   \n",
              "\n",
              "                                            img_desc  \\\n",
              "0  該圖像是一個堆疊條形圖，標題為「圖2：台積電各製程晶圓營收比重」。\\nY軸標示為「營收製程別...   \n",
              "1  該圖像是一個柱狀圖，標題為「圖 3：季營業收入」，顯示了以百萬元為單位的季營業收入。x 軸表...   \n",
              "2  以下是圖像的描述：\\n該圖表顯示了每股盈利，以元為單位，從 1Q23 到 4Q25F 的季度...   \n",
              "3  這是一張折線圖，標題為「圖 5：毛利率」。y 軸標示為「毛利率，百分比」，範圍從 50.0%...   \n",
              "4  這是一張圖表，標題為「圖 6：未來 12 個月預估本益比」。圖表顯示了從 2019 年 11...   \n",
              "\n",
              "                          mm_embedding_from_img_only  \\\n",
              "0  [0.0173197687, -0.0144308759, 0.00649443315, 0...   \n",
              "1  [0.0535165071, 0.026549967, -0.0216739178, 0.0...   \n",
              "2  [0.0316860303, 0.00646685949, 0.00132166489, 0...   \n",
              "3  [0.0418519862, -0.00135696889, -0.0251900852, ...   \n",
              "4  [0.00857849512, 0.0329951271, 0.0142494747, -0...   \n",
              "\n",
              "               text_embedding_from_image_description  \n",
              "0  [-0.009956919588148594, 0.02809711918234825, 0...  \n",
              "1  [-0.03386767953634262, -0.027403196319937706, ...  \n",
              "2  [-0.03636539354920387, -0.0041497801430523396,...  \n",
              "3  [-0.04031166434288025, -0.00011414965410949662...  \n",
              "4  [-0.020930657163262367, 0.0066296979784965515,...  "
            ]
          },
          "execution_count": 14,
          "metadata": {},
          "output_type": "execute_result"
        }
      ],
      "source": [
        "image_metadata_df.head()"
      ]
    },
    {
      "cell_type": "markdown",
      "metadata": {
        "id": "iBhoOkutUtPr"
      },
      "source": [
        "### Import the helper functions to implement RAG\n",
        "\n",
        "You will be importing the following functions which will be used in the remainder of this notebook to implement RAG:\n",
        "\n",
        "* **get_similar_text_from_query():** Given a text query, finds text from the document which are relevant, using cosine similarity algorithm. It uses text embeddings from the metadata to compute and the results can be filtered by top score, page/chunk number, or embedding size.\n",
        "* **print_text_to_text_citation():** Prints the source (citation) and details of the retrieved text from the `get_similar_text_from_query()` function.\n",
        "* **get_similar_image_from_query():** Given an image path or an image, finds images from the document which are relevant. It uses image embeddings from the metadata.\n",
        "* **print_text_to_image_citation():** Prints the source (citation) and the details of retrieved images from the `get_similar_image_from_query()` function.\n",
        "* **get_gemini_response():** Interacts with a Gemini model to answer questions based on a combination of text and image inputs.\n",
        "* **display_images():**  Displays a series of images provided as paths or PIL Image objects."
      ]
    },
    {
      "cell_type": "code",
      "execution_count": 15,
      "metadata": {
        "id": "Tngn_vrIKdE1",
        "tags": []
      },
      "outputs": [],
      "source": [
        "from multimodal_qa_with_rag_utils import (\n",
        "    get_similar_text_from_query,\n",
        "    print_text_to_text_citation,\n",
        "    get_similar_image_from_query,\n",
        "    print_text_to_image_citation,\n",
        "    get_gemini_response,\n",
        "    display_images,\n",
        "    get_answer_from_qa_system,\n",
        ")"
      ]
    },
    {
      "cell_type": "markdown",
      "metadata": {
        "id": "c9jGEj6DY1Rj"
      },
      "source": [
        "Before implementing a Multimodal Question Answering System with Vertex AI, let's explore what you can achieve with just text or image embeddings. This will set the foundation for implementing a multimodal Retrieval Augmented Generation (RAG) system, which you will do later in this notebook.\n",
        "\n",
        "You can also use these essential elements together to build applications for multimodal use cases, extracting meaningful information from documents."
      ]
    },
    {
      "cell_type": "markdown",
      "metadata": {
        "id": "KHuLlEvSKFWt"
      },
      "source": [
        "## Text Search\n",
        "\n",
        "Let's start the search with a simple question and see if the simple text search using text embeddings can answer it. The expected answer is to show the value of basic and diluted net income per share of Google for different share types.\n"
      ]
    },
    {
      "cell_type": "code",
      "execution_count": 16,
      "metadata": {
        "id": "5mrFVhtCut7t",
        "tags": []
      },
      "outputs": [],
      "source": [
        "query = \"該報告中，台積電每一季的營業利潤率為何?\""
      ]
    },
    {
      "cell_type": "markdown",
      "metadata": {
        "id": "XWw7-AIar-S8"
      },
      "source": [
        "### Search similar text with text query"
      ]
    },
    {
      "cell_type": "code",
      "execution_count": 17,
      "metadata": {
        "colab": {
          "base_uri": "https://localhost:8080/"
        },
        "id": "eEzP6Yyv7N-G",
        "outputId": "2b9c957d-6045-401d-8993-26f1ec25eafe",
        "tags": []
      },
      "outputs": [
        {
          "name": "stdout",
          "output_type": "stream",
          "text": [
            "\u001b[91mCitation 1: Matched text: \n",
            "\u001b[0m\n",
            "\u001b[94mscore: \u001b[0m 0.72\n",
            "\u001b[94mfile_name: \u001b[0m data\\TSMC.pdf\n",
            "\u001b[94mpage_number: \u001b[0m 2\n",
            "\u001b[94mchunk_number: \u001b[0m 1\n",
            "\u001b[94mchunk_text: \u001b[0m 25 倍計算而得。 \n",
            "投資風險: 全球經濟與地緣政治不確定性；庫存修正時間延長。 \n",
            " \n",
            " \n",
            " \n",
            " \n",
            " \n",
            " \n",
            "\n"
          ]
        }
      ],
      "source": [
        "# Matching user text query with \"chunk_embedding\" to find relevant chunks.\n",
        "matching_results_text = get_similar_text_from_query(\n",
        "    query,\n",
        "    text_metadata_df,\n",
        "    column_name=\"text_embedding_chunk\",\n",
        "    top_n=3,\n",
        "    chunk_text=True,\n",
        ")\n",
        "\n",
        "# Print the matched text citations\n",
        "print_text_to_text_citation(\n",
        "    matching_results_text, print_top=True, chunk_text=True\n",
        ")  # print_top=False to see all text matches"
      ]
    },
    {
      "cell_type": "markdown",
      "metadata": {
        "id": "KY1J2sHr-N8f"
      },
      "source": [
        "### Get answer with text-RAG"
      ]
    },
    {
      "cell_type": "code",
      "execution_count": 18,
      "metadata": {
        "id": "ORCistIdDWoE",
        "tags": []
      },
      "outputs": [],
      "source": [
        "# All relevant text chunk found across documents based on user query\n",
        "context = \"\\n\".join(\n",
        "    [value[\"chunk_text\"] for key, value in matching_results_text.items()]\n",
        ")\n",
        "\n",
        "prompt = f\"\"\"回答這個問題，如果不知道就說不知道\".\n",
        "問題: {query}\n",
        "上下文: {context}\n",
        "回覆:\n",
        "\"\"\""
      ]
    },
    {
      "cell_type": "code",
      "execution_count": 19,
      "metadata": {
        "id": "GKD-Ew8IM287",
        "tags": []
      },
      "outputs": [],
      "source": [
        "safety_settings = {\n",
        "    HarmCategory.HARM_CATEGORY_HATE_SPEECH: HarmBlockThreshold.BLOCK_NONE,\n",
        "    HarmCategory.HARM_CATEGORY_SEXUALLY_EXPLICIT: HarmBlockThreshold.BLOCK_NONE,\n",
        "    HarmCategory.HARM_CATEGORY_DANGEROUS_CONTENT: HarmBlockThreshold.BLOCK_NONE,\n",
        "    HarmCategory.HARM_CATEGORY_HARASSMENT: HarmBlockThreshold.BLOCK_NONE,\n",
        "}"
      ]
    },
    {
      "cell_type": "code",
      "execution_count": 20,
      "metadata": {
        "colab": {
          "base_uri": "https://localhost:8080/",
          "height": 170
        },
        "id": "m8jyc5_SAwlF",
        "outputId": "def58273-e032-4263-b6ae-52834791ae03",
        "tags": []
      },
      "outputs": [
        {
          "name": "stdout",
          "output_type": "stream",
          "text": [
            "\n",
            " **** Result: ***** \n",
            "\n",
            "CPU times: total: 15.6 ms\n",
            "Wall time: 600 ms\n"
          ]
        },
        {
          "data": {
            "text/html": [
              "<pre style=\"white-space:pre;overflow-x:auto;line-height:normal;font-family:Menlo,'DejaVu Sans Mono',consolas,'Courier New',monospace\">不知道。該報告中沒有提到台積電每一季的營業利潤率。                                                                 \n",
              "</pre>\n"
            ],
            "text/plain": [
              "不知道。該報告中沒有提到台積電每一季的營業利潤率。                                                                 \n"
            ]
          },
          "execution_count": 20,
          "metadata": {},
          "output_type": "execute_result"
        }
      ],
      "source": [
        "%%time\n",
        "# Generate response with Gemini 2.0 Flash\n",
        "print(\"\\n **** Result: ***** \\n\")\n",
        "\n",
        "rich_Markdown(\n",
        "    get_gemini_response(\n",
        "        multimodal_model_2_0_flash,\n",
        "        model_input=prompt,\n",
        "        stream=True,\n",
        "        safety_settings=safety_settings,\n",
        "        generation_config=GenerationConfig(temperature=1, max_output_tokens=8192),\n",
        "    )\n",
        ")"
      ]
    },
    {
      "cell_type": "markdown",
      "metadata": {
        "id": "uXm271jdD-Rl"
      },
      "source": [
        "### Search similar images with text query"
      ]
    },
    {
      "cell_type": "markdown",
      "metadata": {
        "id": "oPxwfyVrr9-G"
      },
      "source": [
        "Since plain text search and RAG didn't provide the detailed answer and the information may be visually represented in a table or another image format, you can use multimodal capability of Gemini 2.0 Flash for the similar task.\n",
        "\n",
        "The goal here also is to find an image similar to the text query. You may also print the citations to verify."
      ]
    },
    {
      "cell_type": "code",
      "execution_count": 21,
      "metadata": {
        "id": "nwXpqMSq4ppr",
        "tags": []
      },
      "outputs": [],
      "source": [
        "query = \"該報告中，台積電每一季的營業利潤率為何?\""
      ]
    },
    {
      "cell_type": "code",
      "execution_count": 22,
      "metadata": {
        "colab": {
          "base_uri": "https://localhost:8080/",
          "height": 1000
        },
        "id": "knj4qQ4xni24",
        "outputId": "603899ae-e829-47ce-ce77-4d4f67f4b685",
        "tags": []
      },
      "outputs": [
        {
          "name": "stdout",
          "output_type": "stream",
          "text": [
            "\n",
            " **** Result: ***** \n",
            "\n"
          ]
        },
        {
          "data": {
            "image/jpeg": "[encoded data removed]",
            "image/png": "[encoded data removed]",
            "text/plain": [
              "<PIL.Image.Image image mode=RGB size=245x154>"
            ]
          },
          "metadata": {},
          "output_type": "display_data"
        },
        {
          "name": "stdout",
          "output_type": "stream",
          "text": [
            "\n",
            "\n"
          ]
        },
        {
          "data": {
            "image/jpeg": "[encoded data removed]",
            "image/png": "[encoded data removed]",
            "text/plain": [
              "<PIL.Image.Image image mode=RGB size=242x151>"
            ]
          },
          "metadata": {},
          "output_type": "display_data"
        },
        {
          "name": "stdout",
          "output_type": "stream",
          "text": [
            "\n",
            "\n"
          ]
        },
        {
          "data": {
            "image/jpeg": "[encoded data removed]",
            "image/png": "[encoded data removed]",
            "text/plain": [
              "<PIL.Image.Image image mode=RGB size=244x154>"
            ]
          },
          "metadata": {},
          "output_type": "display_data"
        },
        {
          "name": "stdout",
          "output_type": "stream",
          "text": [
            "\n",
            "\n"
          ]
        },
        {
          "data": {
            "image/jpeg": "[encoded data removed]",
            "image/png": "[encoded data removed]",
            "text/plain": [
              "<PIL.Image.Image image mode=RGB size=244x148>"
            ]
          },
          "metadata": {},
          "output_type": "display_data"
        },
        {
          "name": "stdout",
          "output_type": "stream",
          "text": [
            "\n",
            "\n"
          ]
        }
      ],
      "source": [
        "matching_results_image = get_similar_image_from_query(\n",
        "    text_metadata_df,\n",
        "    image_metadata_df,\n",
        "    query=query,\n",
        "    column_name=\"text_embedding_from_image_description\",  # Use image description text embedding\n",
        "    image_emb=False,  # Use text embedding instead of image embedding\n",
        "    top_n=5,\n",
        "    embedding_size=1408,\n",
        ")\n",
        "\n",
        "# Markdown(print_text_to_image_citation(matching_results_image, print_top=True))\n",
        "print(\"\\n **** Result: ***** \\n\")\n",
        "\n",
        "# Display the top matching image\n",
        "display_images(\n",
        "    [\n",
        "        matching_results_image[0][\"img_path\"],\n",
        "        matching_results_image[1][\"img_path\"],\n",
        "        matching_results_image[2][\"img_path\"],\n",
        "        matching_results_image[3][\"img_path\"],\n",
        "    ],\n",
        "    resize_ratio=0.3,\n",
        ")"
      ]
    },
    {
      "cell_type": "code",
      "execution_count": 23,
      "metadata": {
        "colab": {
          "base_uri": "https://localhost:8080/",
          "height": 962
        },
        "id": "HuRD1lZ8RNYP",
        "outputId": "6766990e-62ad-4926-8120-15519472cdb4",
        "tags": []
      },
      "outputs": [
        {
          "name": "stdout",
          "output_type": "stream",
          "text": [
            "\n",
            " **** Result: ***** \n",
            "\n",
            "CPU times: total: 62.5 ms\n",
            "Wall time: 2.64 s\n"
          ]
        },
        {
          "data": {
            "text/html": [
              "<pre style=\"white-space:pre;overflow-x:auto;line-height:normal;font-family:Menlo,'DejaVu Sans Mono',consolas,'Courier New',monospace\">為了計算台積電每季的營業利潤率，我們需要以下資訊：                                                                 \n",
              "\n",
              "<span style=\"color: #808000; text-decoration-color: #808000; font-weight: bold\"> • </span><span style=\"font-weight: bold\">毛利率 (Gross Margin):</span> 圖像 5 提供了毛利率，以百分比表示。                                                      \n",
              "<span style=\"color: #808000; text-decoration-color: #808000; font-weight: bold\"> • </span><span style=\"font-weight: bold\">營業收入 (Operating Revenue):</span> 圖像 3 提供了季營業收入，以百萬元為單位。                                         \n",
              "\n",
              "<span style=\"font-weight: bold\">營業利潤率的計算公式：</span>                                                                                             \n",
              "\n",
              "營業利潤率 = (營業利潤 / 營業收入) * 100%                                                                          \n",
              "\n",
              "<span style=\"color: #808000; text-decoration-color: #808000; font-weight: bold\"> • </span><span style=\"font-weight: bold\">營業利潤:</span>  (毛利率 * 營業收入) - 銷售成本 毛利率的計算公式是 (營業收入 - 銷售成本) / 營業收入。 因此 (毛利率 *  \n",
              "<span style=\"color: #808000; text-decoration-color: #808000; font-weight: bold\">   </span>營業收入) = 營業收入 - 銷售成本                                                                                 \n",
              "\n",
              "由於我沒有銷售成本的資料， 我沒有辦法計算出實際的營業利潤率。                                                      \n",
              "</pre>\n"
            ],
            "text/plain": [
              "為了計算台積電每季的營業利潤率，我們需要以下資訊：                                                                 \n",
              "\n",
              "\u001b[1;33m • \u001b[0m\u001b[1m毛利率 (Gross Margin):\u001b[0m 圖像 5 提供了毛利率，以百分比表示。                                                      \n",
              "\u001b[1;33m • \u001b[0m\u001b[1m營業收入 (Operating Revenue):\u001b[0m 圖像 3 提供了季營業收入，以百萬元為單位。                                         \n",
              "\n",
              "\u001b[1m營業利潤率的計算公式：\u001b[0m                                                                                             \n",
              "\n",
              "營業利潤率 = (營業利潤 / 營業收入) * 100%                                                                          \n",
              "\n",
              "\u001b[1;33m • \u001b[0m\u001b[1m營業利潤:\u001b[0m  (毛利率 * 營業收入) - 銷售成本 毛利率的計算公式是 (營業收入 - 銷售成本) / 營業收入。 因此 (毛利率 *  \n",
              "\u001b[1;33m   \u001b[0m營業收入) = 營業收入 - 銷售成本                                                                                 \n",
              "\n",
              "由於我沒有銷售成本的資料， 我沒有辦法計算出實際的營業利潤率。                                                      \n"
            ]
          },
          "execution_count": 23,
          "metadata": {},
          "output_type": "execute_result"
        }
      ],
      "source": [
        "%%time\n",
        "\n",
        "print(\"\\n **** Result: ***** \\n\")\n",
        "\n",
        "instruction = f\"\"\"Answer the question and explain results with the given Image:\n",
        "Question: {query}\n",
        "Image:\n",
        "\"\"\"\n",
        "\n",
        "# Prepare the model input\n",
        "model_input = [\n",
        "    instruction,\n",
        "    # passing all matched images to Gemini\n",
        "    \"Image:\",\n",
        "    matching_results_image[0][\"image_object\"],\n",
        "    \"Description:\",\n",
        "    matching_results_image[0][\"image_description\"],\n",
        "    \"Image:\",\n",
        "    matching_results_image[1][\"image_object\"],\n",
        "    \"Description:\",\n",
        "    matching_results_image[1][\"image_description\"],\n",
        "    \"Image:\",\n",
        "    matching_results_image[2][\"image_object\"],\n",
        "    \"Description:\",\n",
        "    matching_results_image[2][\"image_description\"],\n",
        "    \"Image:\",\n",
        "    matching_results_image[3][\"image_object\"],\n",
        "    \"Description:\",\n",
        "    matching_results_image[3][\"image_description\"],\n",
        "]\n",
        "\n",
        "# Generate Gemini response with streaming output\n",
        "rich_Markdown(\n",
        "    get_gemini_response(\n",
        "        multimodal_model_2_0_flash,\n",
        "        model_input=model_input,\n",
        "        stream=True,\n",
        "        safety_settings=safety_settings,\n",
        "        generation_config=GenerationConfig(temperature=1, max_output_tokens=8192),\n",
        "    )\n",
        ")"
      ]
    },
    {
      "cell_type": "code",
      "execution_count": 24,
      "metadata": {
        "colab": {
          "base_uri": "https://localhost:8080/",
          "height": 1000
        },
        "id": "uykUaQvIRNYP",
        "outputId": "42720a84-a357-4d72-f3f3-cc8bb8a79621",
        "tags": []
      },
      "outputs": [
        {
          "name": "stdout",
          "output_type": "stream",
          "text": [
            "\u001b[91mCitation 1: Matched image path, page number and page text: \n",
            "\u001b[0m\n",
            "\u001b[94mscore: \u001b[0m 0.66\n",
            "\u001b[94mfile_name: \u001b[0m data\\TSMC.pdf\n",
            "\u001b[94mpath: \u001b[0m images\\TSMC.pdf_image_1_0_33.png\n",
            "\u001b[94mpage number: \u001b[0m 2\n",
            "\u001b[94mpage text: \u001b[0m 25 倍計算而得。 \n",
            "投資風險: 全球經濟與地緣政治不確定性；庫存修正時間延長。 \n",
            " \n",
            " \n",
            " \n",
            " \n",
            " \n",
            " \n",
            "\n",
            "\u001b[94mimage description: \u001b[0m 該圖像是一個堆疊條形圖，標題為「圖2：台積電各製程晶圓營收比重」。\n",
            "Y軸標示為「營收製程別，百分比」，範圍從0到100，間隔為20。\n",
            "X軸代表季度，從4Q22到3Q24。\n",
            "每個條形代表一個季度，並被分割成多個部分，每個部分代表不同的製程節點，包括3nm、5nm、7/10nm、16/20nm、28nm、40/45nm、65nm、90nm、0.11/0.13µm、0.15/0.18µm和0.25µm及以上。\n",
            "圖例位於圖表下方，將每種製程節點與一種顏色相關聯。\n",
            "圖表下方註明「資料來源：公司資料，凱基」。\n"
          ]
        },
        {
          "data": {
            "text/html": [
              "<pre style=\"white-space:pre;overflow-x:auto;line-height:normal;font-family:Menlo,'DejaVu Sans Mono',consolas,'Courier New',monospace\"><span style=\"color: #800080; text-decoration-color: #800080; font-style: italic\">None</span>\n",
              "</pre>\n"
            ],
            "text/plain": [
              "\u001b[3;35mNone\u001b[0m\n"
            ]
          },
          "metadata": {},
          "output_type": "display_data"
        }
      ],
      "source": [
        "## you can check the citations to probe further.\n",
        "## check the \"image description:\" which is a description extracted through gemini which helped search our query.\n",
        "rich_print(print_text_to_image_citation(matching_results_image, print_top=True))"
      ]
    },
    {
      "cell_type": "markdown",
      "metadata": {
        "id": "oDd9rE4NrRod"
      },
      "source": [
        "## Image Search"
      ]
    },
    {
      "cell_type": "markdown",
      "metadata": {
        "id": "pJL6ElyEy4mc"
      },
      "source": [
        "### Search similar image with image input [using multimodal image embeddings]"
      ]
    },
    {
      "cell_type": "markdown",
      "metadata": {
        "id": "ReKjHleFxUu9"
      },
      "source": [
        "Imagine searching for images, but instead of typing words, you use an actual image as the clue.\n",
        "\n",
        "Think of it like searching with a mini-map instead of a written address.\n",
        "It's a different way to ask, \"Show me more stuff like this\".\n",
        "\n",
        "So, instead of typing \"various example of gemini 1.5 long context\", you show a picture of that image and say, \"Find me more like this\"\n",
        "\n",
        "For demonstration purposes, we will only be finding similar images that show the various features of Gemini in a single document below. However, you can scale this design pattern to match (find relevant images) across multiple documents."
      ]
    },
    {
      "cell_type": "code",
      "execution_count": null,
      "metadata": {
        "colab": {
          "base_uri": "https://localhost:8080/",
          "height": 823
        },
        "id": "DJhhS5eZw7QI",
        "outputId": "970b966d-84a5-4a2a-97f3-18a14902c278",
        "tags": []
      },
      "outputs": [],
      "source": [
        "# You can find a similar image as per the images you have in the metadata.\n",
        "\n",
        "image_query_path = \"images/gemini_v1_5_report_technical.pdf_image_5_0_148.jpeg\"\n",
        "\n",
        "# Print a message indicating the input image\n",
        "print(\"***Input image from user:***\")\n",
        "\n",
        "# Display the input image\n",
        "Image.load_from_file(image_query_path)"
      ]
    },
    {
      "cell_type": "markdown",
      "metadata": {
        "id": "3zBTtGChTmrd"
      },
      "source": [
        "You expect to find images that are similar in terms of \"long context prompts for gemini 1.5 pro\""
      ]
    },
    {
      "cell_type": "code",
      "execution_count": null,
      "metadata": {
        "colab": {
          "base_uri": "https://localhost:8080/",
          "height": 754
        },
        "id": "nZcU7vZC-8vr",
        "outputId": "f18c0e6a-38fb-4ffb-8069-610d499e56c6",
        "tags": []
      },
      "outputs": [],
      "source": [
        "# Search for Similar Images Based on Input Image and Image Embedding\n",
        "\n",
        "matching_results_image = get_similar_image_from_query(\n",
        "    text_metadata_df,\n",
        "    image_metadata_df,\n",
        "    query=query,  # Use query text for additional filtering (optional)\n",
        "    column_name=\"mm_embedding_from_img_only\",  # Use image embedding for similarity calculation\n",
        "    image_emb=True,\n",
        "    image_query_path=image_query_path,  # Use input image for similarity calculation\n",
        "    top_n=3,  # Retrieve top 3 matching images\n",
        "    embedding_size=1408,  # Use embedding size of 1408\n",
        ")\n",
        "\n",
        "print(\"\\n **** Result: ***** \\n\")\n",
        "\n",
        "# Display the Top Matching Image\n",
        "display(\n",
        "    matching_results_image[0][\"image_object\"]\n",
        ")  # Display the top matching image object (Pillow Image)"
      ]
    },
    {
      "cell_type": "markdown",
      "metadata": {
        "id": "uhT17rke15XY"
      },
      "source": [
        "\n",
        "You can also print the citation to see what it has matched."
      ]
    },
    {
      "cell_type": "code",
      "execution_count": null,
      "metadata": {
        "colab": {
          "base_uri": "https://localhost:8080/"
        },
        "id": "mksXQoezweg0",
        "outputId": "c20e6857-bbef-4250-fa8f-e5b437bc7aca",
        "tags": []
      },
      "outputs": [],
      "source": [
        "# Display citation details for the top matching image\n",
        "print_text_to_image_citation(\n",
        "    matching_results_image, print_top=True\n",
        ")  # Print citation details for the top matching image"
      ]
    },
    {
      "cell_type": "code",
      "execution_count": null,
      "metadata": {
        "colab": {
          "base_uri": "https://localhost:8080/",
          "height": 773
        },
        "id": "VJWnhDJwI-uO",
        "outputId": "1d034c2f-870a-488b-d22c-7f4abcfe643f",
        "tags": []
      },
      "outputs": [],
      "source": [
        "# Check Other Matched Images (Optional)\n",
        "# You can access the other two matched images using:\n",
        "\n",
        "print(\"---------------Matched Images------------------\\n\")\n",
        "display_images(\n",
        "    [\n",
        "        matching_results_image[0][\"img_path\"],\n",
        "        matching_results_image[1][\"img_path\"],\n",
        "        matching_results_image[2][\"img_path\"],\n",
        "    ],\n",
        "    resize_ratio=0.2,\n",
        ")"
      ]
    },
    {
      "cell_type": "markdown",
      "metadata": {
        "id": "JvwZIgD84CNc"
      },
      "source": [
        "The ability to identify similar text and images based on user input, powered by Gemini and embeddings, forms a crucial foundation for development of Multimodal Question Answering System with multimodal RAG design pattern, which you will explore in the coming sections."
      ]
    },
    {
      "cell_type": "markdown",
      "metadata": {
        "id": "lUnsv5Co6pJF"
      },
      "source": [
        "### Comparative reasoning"
      ]
    },
    {
      "cell_type": "markdown",
      "metadata": {
        "id": "1AFbqHiz5vvo"
      },
      "source": [
        "Next, let's apply what you have done so far in doing comparative reasoning.\n",
        "\n",
        "For this example:\n",
        "\n",
        "* **Step 1:** You will search all the images for a specific query\n",
        "\n",
        "* **Step 2:** Send those images to Gemini 2.0 Flash to ask multiple questions, where it has to compare among those images and provide you with answers."
      ]
    },
    {
      "cell_type": "code",
      "execution_count": null,
      "metadata": {
        "id": "E6AHCSwojyX0",
        "tags": []
      },
      "outputs": [],
      "source": [
        "matching_results_image_query_1 = get_similar_image_from_query(\n",
        "    text_metadata_df,\n",
        "    image_metadata_df,\n",
        "    query=\"Show me all the images that can describe stock performance of Intel\",\n",
        "    column_name=\"text_embedding_from_image_description\",  # Use image description text embedding # mm_embedding_from_img_only text_embedding_from_image_description\n",
        "    image_emb=False,  # Use text embedding instead of image embedding\n",
        "    top_n=5,\n",
        "    embedding_size=1408,\n",
        ")"
      ]
    },
    {
      "cell_type": "code",
      "execution_count": null,
      "metadata": {
        "colab": {
          "base_uri": "https://localhost:8080/",
          "height": 1000
        },
        "id": "jja-9iGFRNYQ",
        "outputId": "794e97b1-c20e-484e-beeb-6c2311fc2b22",
        "tags": []
      },
      "outputs": [],
      "source": [
        "# Check Matched Images\n",
        "# You can access the other two matched images using:\n",
        "\n",
        "print(\"---------------Matched Images------------------\\n\")\n",
        "display_images(\n",
        "    [\n",
        "        matching_results_image_query_1[0][\"img_path\"],\n",
        "        matching_results_image_query_1[1][\"img_path\"],\n",
        "        matching_results_image_query_1[2][\"img_path\"],\n",
        "        matching_results_image_query_1[3][\"img_path\"],\n",
        "        matching_results_image_query_1[4][\"img_path\"],\n",
        "    ],\n",
        "    resize_ratio=0.2,\n",
        ")"
      ]
    },
    {
      "cell_type": "code",
      "execution_count": null,
      "metadata": {
        "id": "fSR_JWkSC_7p",
        "tags": []
      },
      "outputs": [],
      "source": [
        "prompt = f\"\"\"Task: Answer the following questions in detail, providing clear reasoning and evidence from the images in bullet points.\n",
        "Instructions:\n",
        "1. Analyze the provided images focusing on the relationship between TPU v5e scaling efficiency, LLM model size growth, performance metrics, and quantization effects.\n",
        "2. Answer the following questions in detail, providing clear reasoning and evidence from the images in bullet points\n",
        "3. Cite the image sources to support your explanations. Mention the file name.\n",
        "\n",
        "Additional Considerations:\n",
        "* Clearly define any technical terms (e.g., EMFU, TFLOP/chip/s) within your answers for better understanding.\n",
        "* Use specific examples and data points from the images to support your explanations.\n",
        "* Feel free to request additional information or clarification if the images are unclear or ambiguous.\n",
        "\n",
        "Question:\n",
        " - How does the scaling efficiency of TPU v5e compare to the overall growth in LLM model size over time?\n",
        " - How does the model size impact the observed Per-chip performance and EMFU for a fixed number of TPU v5e chips (e.g., 256)?\n",
        " - For the INT8 Quant training with 32B parameters, how does its high EMFU relate to the observed TFLOP/chip/s?\n",
        " - how does the \"per device batch (seq)\" for a 16B model compare to a 128B model, and how does this affect the \"Total observed Perf\"?\n",
        " - how might the MFU be impacted by increasing LLM model size?\n",
        "\"\"\""
      ]
    },
    {
      "cell_type": "code",
      "execution_count": null,
      "metadata": {
        "colab": {
          "base_uri": "https://localhost:8080/",
          "height": 1000
        },
        "id": "wYkzpB4PTSfm",
        "outputId": "d9d03602-2d6b-4389-d2d2-66be50cb1660",
        "tags": []
      },
      "outputs": [],
      "source": [
        "%%time\n",
        "# Generate response with Gemini 2.0 Flash\n",
        "print(\"\\n **** Result: ***** \\n\")\n",
        "rich_Markdown(\n",
        "    get_gemini_response(\n",
        "        multimodal_model_2_0_flash,\n",
        "        model_input=[\n",
        "            prompt,\n",
        "            \"Images:\",\n",
        "            matching_results_image_query_1[0][\"image_object\"],\n",
        "            matching_results_image_query_1[1][\"image_object\"],\n",
        "            matching_results_image_query_1[2][\"image_object\"],\n",
        "            matching_results_image_query_1[3][\"image_object\"],\n",
        "            matching_results_image_query_1[4][\"image_object\"],\n",
        "        ],\n",
        "        stream=True,\n",
        "        safety_settings=safety_settings,\n",
        "        generation_config=GenerationConfig(temperature=1, max_output_tokens=8192),\n",
        "    )\n",
        ")"
      ]
    },
    {
      "cell_type": "markdown",
      "metadata": {
        "id": "efJPPrzRhvIT"
      },
      "source": [
        "## Building Multimodal QA System with retrieval augmented generation (mRAG)\n",
        "\n",
        "Let's bring everything together to implement multimodal RAG. You will use all the elements that you've explored in previous sections to implement the multimodal RAG. These are the steps:\n",
        "\n",
        "* **Step 1:** The user gives a query in text format where the expected information is available in the document and is embedded in images and text.\n",
        "* **Step 2:** Find all text chunks from the pages in the documents using a method similar to the one you explored in `Text Search`.\n",
        "* **Step 3:** Find all similar images from the pages based on the user query matched with `image_description` using a method identical to the one you explored in `Image Search`.\n",
        "* **Step 4:** Combine all similar text and images found in steps 2 and 3 as `context_text` and `context_images`.\n",
        "* **Step 5:** With the help of Gemini, we can pass the user query with text and image context found in steps 2 & 3. You can also add a specific instruction the model should remember while answering the user query.\n",
        "* **Step 6:** Gemini produces the answer, and you can print the citations to check all relevant text and images used to address the query."
      ]
    },
    {
      "cell_type": "markdown",
      "metadata": {
        "id": "EI62Hzuw_0_b"
      },
      "source": [
        "### Step 1: User query"
      ]
    },
    {
      "cell_type": "code",
      "execution_count": 25,
      "metadata": {
        "id": "XvTKFwOPHLQ_",
        "tags": []
      },
      "outputs": [],
      "source": [
        "# this time we are not passing any images, but just a simple text query.\n",
        "\n",
        "query = \"\"\"- 台積電的先進製程（此處定義為7奈米及更先進製程）在2023年第四季的合併營收佔比約為多少？這個佔比在2024年第三季預計將如何變化？\n",
        " - 請計算從2024年第三季（3Q24F）到2025年第四季（4Q25F），預測的營收季複合增長率（Quarterly Compound Growth Rate）約為多少？\n",
        " - 台積電在2025年哪一個季度的每股盈利（EPS）將首次超越2023年的最高點？與2023年全年的平均單季EPS相比，2025年預測的平均單季EPS預計將增長多少百分比？\n",
        " - 毛利率的走勢從2024年第二季開始轉為預測（虛線）。請問從2023年第一季至2025年第四季（含預測），毛利率的最高點與最低點分別出現在哪個季度？兩者相差多少個百分點？\n",
        " - 在2022年底至2023年初，台積電的股價（藍色曲線）大約落於哪個本益比（P/E Ratio）區間？而進入2024年後，股價主要在哪個更高的本益比區間波動？\n",
        " \"\"\""
      ]
    },
    {
      "cell_type": "markdown",
      "metadata": {
        "id": "UUqlkKUaYvZA"
      },
      "source": [
        "### Step 2: Get all relevant text chunks"
      ]
    },
    {
      "cell_type": "code",
      "execution_count": 26,
      "metadata": {
        "id": "r65yBb5gR_NG",
        "tags": []
      },
      "outputs": [],
      "source": [
        "# Retrieve relevant chunks of text based on the query\n",
        "matching_results_chunks_data = get_similar_text_from_query(\n",
        "    query,\n",
        "    text_metadata_df,\n",
        "    column_name=\"text_embedding_chunk\",\n",
        "    top_n=20,   \n",
        "    chunk_text=True,\n",
        ")"
      ]
    },
    {
      "cell_type": "markdown",
      "metadata": {
        "id": "mIgXgVIpYzxj"
      },
      "source": [
        "### Step 3: Get all relevant images"
      ]
    },
    {
      "cell_type": "code",
      "execution_count": 27,
      "metadata": {
        "id": "wzu5Gf4yR_J4",
        "tags": []
      },
      "outputs": [],
      "source": [
        "# Get all relevant images based on user query\n",
        "matching_results_image_fromdescription_data = get_similar_image_from_query(\n",
        "    text_metadata_df,\n",
        "    image_metadata_df,\n",
        "    query=query,\n",
        "    column_name=\"text_embedding_from_image_description\",\n",
        "    image_emb=False,\n",
        "    top_n=10,\n",
        "    embedding_size=1408,\n",
        ")"
      ]
    },
    {
      "cell_type": "markdown",
      "metadata": {
        "id": "RhUpWlGAY2uG"
      },
      "source": [
        "### Step 4: Create context_text and context_images"
      ]
    },
    {
      "cell_type": "code",
      "execution_count": 28,
      "metadata": {
        "id": "B_EEuuLCe6Y5",
        "tags": []
      },
      "outputs": [],
      "source": [
        "instruction = \"\"\"任務： 以條列式詳細回答以下問題，並從提供的圖片與文字中提出清晰的理由和證據。\n",
        "\n",
        "指示：\n",
        "\n",
        "分析 (Analyze)： 仔細檢視提供的圖片與文字內容。\n",
        "\n",
        "整合 (Synthesize)： 結合來自視覺圖表與文字資訊的內容。\n",
        "\n",
        "推論 (Reason)： 進行邏輯連結與推導，以回應問題。\n",
        "\n",
        "回應 (Respond)： 使用以下格式提供精確、簡潔的答案：\n",
        "\n",
        "問題： [此處放入問題]\n",
        "答案： [此處直接回答問題]\n",
        "說明： [若適用，請在此處以條列式說明推論步驟]\n",
        "來源： [引用資訊的檔案、頁數或圖片名稱]\n",
        "資訊不足 (Ambiguity)： 如果提供的資訊不足以回答問題，請回應「資訊不足，無法回答」。\n",
        "\"\"\"\n",
        "\n",
        "# combine all the selected relevant text chunks\n",
        "context_text = [\"Text Context: \"]\n",
        "for key, value in matching_results_chunks_data.items():\n",
        "    context_text.extend(\n",
        "        [\n",
        "            \"Text Source: \",\n",
        "            f\"\"\"file_name: \"{value[\"file_name\"]}\" Page: \"{value[\"page_num\"]}\"\"\",\n",
        "            \"Text\",\n",
        "            value[\"chunk_text\"],\n",
        "        ]\n",
        "    )\n",
        "\n",
        "# combine all the selected relevant images\n",
        "gemini_content = [\n",
        "    instruction,\n",
        "    \"Questions: \",\n",
        "    query,\n",
        "    \"Image Context: \",\n",
        "]\n",
        "for key, value in matching_results_image_fromdescription_data.items():\n",
        "    gemini_content.extend(\n",
        "        [\n",
        "            \"Image Path: \",\n",
        "            value[\"img_path\"],\n",
        "            \"Image Description: \",\n",
        "            value[\"image_description\"],\n",
        "            \"Image:\",\n",
        "            value[\"image_object\"],\n",
        "        ]\n",
        "    )\n",
        "gemini_content.extend(context_text)"
      ]
    },
    {
      "cell_type": "markdown",
      "metadata": {
        "id": "rHrtodcBAEu9"
      },
      "source": [
        "### Step 5: Pass context to Gemini"
      ]
    },
    {
      "cell_type": "code",
      "execution_count": 29,
      "metadata": {
        "colab": {
          "base_uri": "https://localhost:8080/",
          "height": 1000
        },
        "id": "aZuhtJu7fW4n",
        "outputId": "e750c25a-e930-4cc1-e67a-453c1645365a",
        "tags": []
      },
      "outputs": [
        {
          "data": {
            "text/html": [
              "<pre style=\"white-space:pre;overflow-x:auto;line-height:normal;font-family:Menlo,'DejaVu Sans Mono',consolas,'Courier New',monospace\">問題：台積電的先進製程（此處定義為7奈米及更先進製程）在2023年第四季的合併營收佔比約為多少？這個佔比在2024年第三季預\n",
              "計將如何變化？ 答案：2023年第四季的先進製程營收佔比約為55% (7/10nm + 5nm +                                         \n",
              "3nm)。2024年第三季的先進製程營收佔比約為64% (7/10nm + 5nm + 3nm)。 說明：                                          \n",
              "\n",
              "<span style=\"color: #808000; text-decoration-color: #808000; font-weight: bold\"> • </span>將圖像中圖2的4Q23與3Q24各製程的營收占比加總計算得出結果。 來源：images\\TSMC.pdf_image_1_0_33.png                \n",
              "\n",
              "問題：請計算從2024年第三季（3Q24F）到2025年第四季（4Q25F），預測的營收季複合增長率（Quarterly Compound Growth      \n",
              "Rate）約為多少？ 答案：從2024年第三季到2025年第四季，預測的營收季複合增長率約為10.28%。 說明：                     \n",
              "\n",
              "<span style=\"color: #808000; text-decoration-color: #808000; font-weight: bold\"> 1 </span>3Q24F營收 = 759,692百萬元 (images\\TSMC.pdf_image_1_1_34.png)                                                    \n",
              "<span style=\"color: #808000; text-decoration-color: #808000; font-weight: bold\"> 2 </span>4Q25F營收 = 1,035,929百萬元 (images\\TSMC.pdf_image_1_1_34.png)                                                  \n",
              "<span style=\"color: #808000; text-decoration-color: #808000; font-weight: bold\"> 3 </span>總季度數 = 5                                                                                                    \n",
              "<span style=\"color: #808000; text-decoration-color: #808000; font-weight: bold\"> 4 </span>季複合增長率 = ((1,035,929 / 759,692)^(1/5) - 1) * 100% = 10.28% 來源：images\\TSMC.pdf_image_1_1_34.png         \n",
              "\n",
              "問題：台積電在2025年哪一個季度的每股盈利（EPS）將首次超越2023年的最高點？與2023年全年的平均單季EPS相比，2025年預測 \n",
              "的平均單季EPS預計將增長多少百分比？                                                                                \n",
              "答案：台積電在2024年第三季度首次超過2023年的最高單季EPS。2025年預測的平均單季EPS預計將增長59.2% 說明：             \n",
              "\n",
              "<span style=\"color: #808000; text-decoration-color: #808000; font-weight: bold\"> 1 </span>2023年的最高EPS為9.21元 (images\\TSMC.pdf_image_1_2_35.png)                                                      \n",
              "<span style=\"color: #808000; text-decoration-color: #808000; font-weight: bold\"> 2 </span>2024年第三季的EPS為12.54元，首次超越2023年最高點                                                                \n",
              "<span style=\"color: #808000; text-decoration-color: #808000; font-weight: bold\"> 3 </span>2023年全年平均EPS = (7.98 + 7.01 + 8.14 + 9.21) / 4 = 8.085元                                                   \n",
              "<span style=\"color: #808000; text-decoration-color: #808000; font-weight: bold\"> 4 </span>2025年預測的平均EPS = (12.43 + 12.84 + 15.62 + 16.98) / 4 = 14.4675元                                           \n",
              "<span style=\"color: #808000; text-decoration-color: #808000; font-weight: bold\"> 5 </span>EPS預計增長百分比 = ((14.4675 - 8.085) / 8.085) * 100% = 59.15% 來源：images\\TSMC.pdf_image_1_2_35.png          \n",
              "\n",
              "問題：毛利率的走勢從2024年第二季開始轉為預測（虛線）。請問從2023年第一季至2025年第四季（含預測），毛利率的最高點與 \n",
              "最低點分別出現在哪個季度？兩者相差多少個百分點？                                                                   \n",
              "答案：毛利率最高點出現在2025年第三季，最低點出現在2024年第一季。兩者相差約5.9個百分點。 說明：                     \n",
              "\n",
              "<span style=\"color: #808000; text-decoration-color: #808000; font-weight: bold\"> 1 </span>根據折線圖 (images\\TSMC.pdf_image_1_3_36.png)，2023年第一季毛利率約為56.3%。                                    \n",
              "<span style=\"color: #808000; text-decoration-color: #808000; font-weight: bold\"> 2 </span>從2023年第一季到2025年第四季，毛利率的最高點出現在2025年第三季度，約為59%。                                     \n",
              "<span style=\"color: #808000; text-decoration-color: #808000; font-weight: bold\"> 3 </span>從2023年第一季到2025年第四季，毛利率的最低點出現在2024年第一季度，約為53.1%。                                   \n",
              "<span style=\"color: #808000; text-decoration-color: #808000; font-weight: bold\"> 4 </span>相差百分點為 59 - 53.1 = 5.9。 來源：images\\TSMC.pdf_image_1_3_36.png                                           \n",
              "\n",
              "問題：在2022年底至2023年初，台積電的股價（藍色曲線）大約落於哪個本益比（P/E                                        \n",
              "Ratio）區間？而進入2024年後，股價主要在哪個更高的本益比區間波動？                                                  \n",
              "答案：2022年底至2023年初，台積電股價大約落於10x本益比區間。進入2024年後，股價主要在15x到20x本益比區間波動。 說明： \n",
              "\n",
              "<span style=\"color: #808000; text-decoration-color: #808000; font-weight: bold\"> • </span>從圖表 (images\\TSMC.pdf_image_1_4_37.png) 中觀察股價線與本益比線的相對位置可以得出結論。                        \n",
              "<span style=\"color: #808000; text-decoration-color: #808000; font-weight: bold\">   </span>來源：images\\TSMC.pdf_image_1_4_37.png                                                                          \n",
              "</pre>\n"
            ],
            "text/plain": [
              "問題：台積電的先進製程（此處定義為7奈米及更先進製程）在2023年第四季的合併營收佔比約為多少？這個佔比在2024年第三季預\n",
              "計將如何變化？ 答案：2023年第四季的先進製程營收佔比約為55% (7/10nm + 5nm +                                         \n",
              "3nm)。2024年第三季的先進製程營收佔比約為64% (7/10nm + 5nm + 3nm)。 說明：                                          \n",
              "\n",
              "\u001b[1;33m • \u001b[0m將圖像中圖2的4Q23與3Q24各製程的營收占比加總計算得出結果。 來源：images\\TSMC.pdf_image_1_0_33.png                \n",
              "\n",
              "問題：請計算從2024年第三季（3Q24F）到2025年第四季（4Q25F），預測的營收季複合增長率（Quarterly Compound Growth      \n",
              "Rate）約為多少？ 答案：從2024年第三季到2025年第四季，預測的營收季複合增長率約為10.28%。 說明：                     \n",
              "\n",
              "\u001b[1;33m 1 \u001b[0m3Q24F營收 = 759,692百萬元 (images\\TSMC.pdf_image_1_1_34.png)                                                    \n",
              "\u001b[1;33m 2 \u001b[0m4Q25F營收 = 1,035,929百萬元 (images\\TSMC.pdf_image_1_1_34.png)                                                  \n",
              "\u001b[1;33m 3 \u001b[0m總季度數 = 5                                                                                                    \n",
              "\u001b[1;33m 4 \u001b[0m季複合增長率 = ((1,035,929 / 759,692)^(1/5) - 1) * 100% = 10.28% 來源：images\\TSMC.pdf_image_1_1_34.png         \n",
              "\n",
              "問題：台積電在2025年哪一個季度的每股盈利（EPS）將首次超越2023年的最高點？與2023年全年的平均單季EPS相比，2025年預測 \n",
              "的平均單季EPS預計將增長多少百分比？                                                                                \n",
              "答案：台積電在2024年第三季度首次超過2023年的最高單季EPS。2025年預測的平均單季EPS預計將增長59.2% 說明：             \n",
              "\n",
              "\u001b[1;33m 1 \u001b[0m2023年的最高EPS為9.21元 (images\\TSMC.pdf_image_1_2_35.png)                                                      \n",
              "\u001b[1;33m 2 \u001b[0m2024年第三季的EPS為12.54元，首次超越2023年最高點                                                                \n",
              "\u001b[1;33m 3 \u001b[0m2023年全年平均EPS = (7.98 + 7.01 + 8.14 + 9.21) / 4 = 8.085元                                                   \n",
              "\u001b[1;33m 4 \u001b[0m2025年預測的平均EPS = (12.43 + 12.84 + 15.62 + 16.98) / 4 = 14.4675元                                           \n",
              "\u001b[1;33m 5 \u001b[0mEPS預計增長百分比 = ((14.4675 - 8.085) / 8.085) * 100% = 59.15% 來源：images\\TSMC.pdf_image_1_2_35.png          \n",
              "\n",
              "問題：毛利率的走勢從2024年第二季開始轉為預測（虛線）。請問從2023年第一季至2025年第四季（含預測），毛利率的最高點與 \n",
              "最低點分別出現在哪個季度？兩者相差多少個百分點？                                                                   \n",
              "答案：毛利率最高點出現在2025年第三季，最低點出現在2024年第一季。兩者相差約5.9個百分點。 說明：                     \n",
              "\n",
              "\u001b[1;33m 1 \u001b[0m根據折線圖 (images\\TSMC.pdf_image_1_3_36.png)，2023年第一季毛利率約為56.3%。                                    \n",
              "\u001b[1;33m 2 \u001b[0m從2023年第一季到2025年第四季，毛利率的最高點出現在2025年第三季度，約為59%。                                     \n",
              "\u001b[1;33m 3 \u001b[0m從2023年第一季到2025年第四季，毛利率的最低點出現在2024年第一季度，約為53.1%。                                   \n",
              "\u001b[1;33m 4 \u001b[0m相差百分點為 59 - 53.1 = 5.9。 來源：images\\TSMC.pdf_image_1_3_36.png                                           \n",
              "\n",
              "問題：在2022年底至2023年初，台積電的股價（藍色曲線）大約落於哪個本益比（P/E                                        \n",
              "Ratio）區間？而進入2024年後，股價主要在哪個更高的本益比區間波動？                                                  \n",
              "答案：2022年底至2023年初，台積電股價大約落於10x本益比區間。進入2024年後，股價主要在15x到20x本益比區間波動。 說明： \n",
              "\n",
              "\u001b[1;33m • \u001b[0m從圖表 (images\\TSMC.pdf_image_1_4_37.png) 中觀察股價線與本益比線的相對位置可以得出結論。                        \n",
              "\u001b[1;33m   \u001b[0m來源：images\\TSMC.pdf_image_1_4_37.png                                                                          \n"
            ]
          },
          "execution_count": 29,
          "metadata": {},
          "output_type": "execute_result"
        }
      ],
      "source": [
        "# Generate Gemini response with streaming output\n",
        "rich_Markdown(\n",
        "    get_gemini_response(\n",
        "        multimodal_model_2_0_flash,\n",
        "        model_input=gemini_content,\n",
        "        stream=True,\n",
        "        safety_settings=safety_settings,\n",
        "        generation_config=GenerationConfig(temperature=1, max_output_tokens=8192),\n",
        "    )\n",
        ")"
      ]
    },
    {
      "cell_type": "markdown",
      "metadata": {
        "id": "L0FtXYl1fzKh"
      },
      "source": [
        "### Step 6: Print citations and references [Optional]"
      ]
    },
    {
      "cell_type": "markdown",
      "metadata": {
        "id": "voThgteH-Tm8"
      },
      "source": [
        "**Optional:** Uncomment to see the detailed citations."
      ]
    },
    {
      "cell_type": "code",
      "execution_count": null,
      "metadata": {
        "id": "IYRLQ47or1I8",
        "tags": []
      },
      "outputs": [],
      "source": [
        "# print(\"---------------Matched Images------------------\\n\")\n",
        "# display_images(\n",
        "#     [\n",
        "#         matching_results_image_fromdescription_data[0][\"img_path\"],\n",
        "#         matching_results_image_fromdescription_data[1][\"img_path\"],\n",
        "#     ],\n",
        "#     resize_ratio=0.2,\n",
        "# )"
      ]
    },
    {
      "cell_type": "code",
      "execution_count": null,
      "metadata": {
        "id": "buwd_gp6HJ5K",
        "tags": []
      },
      "outputs": [],
      "source": [
        "# # Image citations. You can check how Gemini generated metadata helped in grounding the answer.\n",
        "\n",
        "# print_text_to_image_citation(\n",
        "#     matching_results_image_fromdescription_data, print_top=True\n",
        "# )"
      ]
    },
    {
      "cell_type": "code",
      "execution_count": null,
      "metadata": {
        "id": "06vYM4MOHJ1-",
        "tags": []
      },
      "outputs": [],
      "source": [
        "# # Text citations\n",
        "\n",
        "# print_text_to_text_citation(\n",
        "#     matching_results_chunks_data,\n",
        "#     print_top=True,\n",
        "#     chunk_text=True,\n",
        "# )"
      ]
    },
    {
      "cell_type": "markdown",
      "metadata": {
        "id": "gIVF-QHuGVDD"
      },
      "source": [
        "### Multimodal RAG"
      ]
    },
    {
      "cell_type": "markdown",
      "metadata": {
        "id": "U82wS4nIB8IS"
      },
      "source": [
        "### More questions with Multimodal QA System"
      ]
    },
    {
      "cell_type": "code",
      "execution_count": null,
      "metadata": {
        "colab": {
          "base_uri": "https://localhost:8080/",
          "height": 1000
        },
        "id": "ZAyQVQ54B8X0",
        "outputId": "f47e0e1d-3e75-428b-9995-9eaacb22a2c9",
        "tags": []
      },
      "outputs": [],
      "source": [
        "# Some questions to try\n",
        "# this time we are not passing any images, but just a simple text query.\n",
        "query = \"\"\"Question 1: Imagine a patient presents with new onset prurigo nodularis.\n",
        "Could Med-Gemini-M 1.5 be used to analyze dermatological images of the patient’s lesions in conjunction with a comprehensive history taken\n",
        "from an EHR dialogue to help a clinician reach a diagnosis and develop a treatment plan?\n",
        "What are the limitations and potential ethical considerations of using the model in this way?\n",
        "\n",
        "Question 2: The paper focuses on uncertainty-guided search for text-based reasoning tasks.\n",
        "How could this approach be extended to multimodal tasks?\n",
        "For instance, if Med-Gemini-M 1.5 encounters uncertainty when analyzing a dermatology image, could it generate queries to\n",
        "search for relevant visual examples or supplemental clinical information to refine its interpretation?\n",
        "\n",
        "Question 3:  Considering the potential benefits and risks highlighted in the paper, what specific steps should be taken during the development,\n",
        "validation, and deployment of Med-Gemini models to ensure they are used safely, fairly, and effectively in real-world clinical settings?\n",
        "How can these steps be informed by ongoing collaboration between researchers, clinicians, regulators, and patient communities?\n",
        " \"\"\"\n",
        "\n",
        "(\n",
        "    response,\n",
        "    matching_results_chunks_data,\n",
        "    matching_results_image_fromdescription_data,\n",
        ") = get_answer_from_qa_system(\n",
        "    query,\n",
        "    text_metadata_df,\n",
        "    image_metadata_df,\n",
        "    top_n_text=10,\n",
        "    top_n_image=5,\n",
        "    model=multimodal_model_2_0_flash,\n",
        "    safety_settings=safety_settings,\n",
        "    generation_config=GenerationConfig(temperature=1, max_output_tokens=8192),\n",
        ")\n",
        "\n",
        "rich_Markdown(response)"
      ]
    },
    {
      "cell_type": "code",
      "execution_count": null,
      "metadata": {
        "colab": {
          "base_uri": "https://localhost:8080/",
          "height": 628
        },
        "id": "dTHdui6jCHzc",
        "outputId": "6ee15be8-fede-448b-c2a2-a74bac3228d3",
        "tags": []
      },
      "outputs": [],
      "source": [
        "# Some questions to try\n",
        "\n",
        "query = \"\"\"Question 1: How does the mixture-of-experts architecture in Gemini 1.5 Pro contribute to its ability to handle long\n",
        "context while maintaining performance on core capabilities? Discuss the potential trade-offs involved.\n",
        "\n",
        "Question 2: Gemini 1.5 Pro incorporates various safety mitigations, including supervised fine-tuning and reinforcement learning.\n",
        "Discuss the effectiveness of these mitigations in addressing content safety and representational harms in both text-to-text and\n",
        "image-to-text modalities. How can these evaluations be improved?\n",
        "\n",
        "Question 3: Gemini 1.5 Pro demonstrates surprising in-context language learning capabilities for Kalamang,\n",
        "a low-resource language. What are the implications of this finding for language preservation and revitalization?\n",
        "What challenges need to be addressed for broader applicability of this approach?\n",
        "\"\"\"\n",
        "(\n",
        "    response,\n",
        "    matching_results_chunks_data,\n",
        "    matching_results_image_fromdescription_data,\n",
        ") = get_answer_from_qa_system(\n",
        "    query,\n",
        "    text_metadata_df,\n",
        "    image_metadata_df,\n",
        "    top_n_text=10,\n",
        "    top_n_image=5,\n",
        "    model=multimodal_model_2_0_flash,\n",
        "    safety_settings=safety_settings,\n",
        "    generation_config=GenerationConfig(temperature=1, max_output_tokens=8192),\n",
        ")\n",
        "\n",
        "rich_Markdown(response)"
      ]
    },
    {
      "cell_type": "markdown",
      "metadata": {
        "id": "KwNrHCqbi3xi"
      },
      "source": [
        "## Conclusions"
      ]
    },
    {
      "cell_type": "markdown",
      "metadata": {
        "id": "05jynhZnkgxn"
      },
      "source": [
        "Congratulations on making it through this multimodal RAG notebook!\n",
        "\n",
        "While multimodal RAG can be quite powerful, note that it can face some limitations:\n",
        "\n",
        "* **Data dependency:** Needs high-quality paired text and visuals.\n",
        "* **Computationally demanding:** Processing multimodal data is resource-intensive.\n",
        "* **Domain specific:** Models trained on general data may not shine in specialized fields like medicine.\n",
        "* **Black box:** Understanding how these models work can be tricky, hindering trust and adoption.\n",
        "\n",
        "\n",
        "Despite these challenges, multimodal RAG represents a significant step towards search and retrieval systems that can handle diverse, multimodal data."
      ]
    }
  ],
  "metadata": {
    "colab": {
      "provenance": []
    },
    "environment": {
      "kernel": "python3",
      "name": "common-cpu.m116",
      "type": "gcloud",
      "uri": "gcr.io/deeplearning-platform-release/base-cpu:m116"
    },
    "kernelspec": {
      "display_name": "MultiRAG",
      "language": "python",
      "name": "python3"
    },
    "language_info": {
      "codemirror_mode": {
        "name": "ipython",
        "version": 3
      },
      "file_extension": ".py",
      "mimetype": "text/x-python",
      "name": "python",
      "nbconvert_exporter": "python",
      "pygments_lexer": "ipython3",
      "version": "3.12.11"
    }
  },
  "nbformat": 4,
  "nbformat_minor": 0
}
